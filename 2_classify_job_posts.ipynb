{
 "cells": [
  {
   "cell_type": "code",
   "execution_count": 10,
   "id": "eb2ab16c",
   "metadata": {},
   "outputs": [],
   "source": [
    "# recreate the job posts csv with correct classification"
   ]
  },
  {
   "cell_type": "code",
   "execution_count": 11,
   "id": "df8add50",
   "metadata": {},
   "outputs": [],
   "source": [
    "import pandas as pd\n",
    "from sklearn.model_selection import train_test_split\n",
    "from ibm_watsonx_ai import APIClient\n",
    "from ibm_watsonx_ai import Credentials\n",
    "from ibm_watsonx_ai.foundation_models import ModelInference\n",
    "from ibm_watsonx_ai.foundation_models.schema import TextGenParameters\n",
    "from sklearn.metrics import classification_report \n",
    "from tqdm import tqdm"
   ]
  },
  {
   "cell_type": "code",
   "execution_count": 12,
   "id": "3a842059",
   "metadata": {},
   "outputs": [],
   "source": [
    "\n",
    "# Read the CSV file into a DataFrame\n",
    "df2 = pd.read_csv('/Users/nikostsatsabas/Desktop/cbs courses/semester 3/ai and machine learning/final project/aiml_exam/data/jobposts.csv')\n",
    "\n",
    "sample_df = df2.sample(frac=0.02, random_state=42)"
   ]
  },
  {
   "cell_type": "code",
   "execution_count": 13,
   "id": "0de939a0",
   "metadata": {},
   "outputs": [],
   "source": [
    "\n",
    "label_map = [\n",
    "     'INFORMATION-TECHNOLOGY',\n",
    "     'BUSINESS-DEVELOPMENT',\n",
    "     'FINANCE',\n",
    "     'ADVOCATE',\n",
    "     'ACCOUNTANT',\n",
    "     'ENGINEERING',\n",
    "     'CHEF',\n",
    "     'AVIATION',\n",
    "     'FITNESS',\n",
    "     'SALES',\n",
    "     'BANKING',\n",
    "     'HEALTHCARE',\n",
    "     'CONSULTANT',\n",
    "     'CONSTRUCTION',\n",
    "     'PUBLIC-RELATIONS',\n",
    "     'HR',\n",
    "     'DESIGNER',\n",
    "     'ARTS',\n",
    "     'TEACHER',\n",
    "     'APPAREL',\n",
    "     'DIGITAL-MEDIA',\n",
    "     'AGRICULTURE',\n",
    "     'AUTOMOBILE',\n",
    "     'ВРО',\n",
    "     'null' \n",
    "]"
   ]
  },
  {
   "cell_type": "code",
   "execution_count": 14,
   "id": "7c143de9",
   "metadata": {},
   "outputs": [],
   "source": [
    "from decouple import config\n",
    "\n",
    "\n",
    "WX_API_KEY = config('WX_API_KEY')\n",
    "\n",
    "credentials = Credentials(\n",
    "    url = \"https://us-south.ml.cloud.ibm.com\",\n",
    "    api_key = WX_API_KEY\n",
    ")\n",
    "\n",
    "client = APIClient(\n",
    "    credentials=credentials, \n",
    "    project_id=\"c8d96942-6948-4a06-9909-2ea6394aca25\"\n",
    ")"
   ]
  },
  {
   "cell_type": "code",
   "execution_count": 15,
   "id": "da8fc1d6",
   "metadata": {},
   "outputs": [],
   "source": [
    "\n",
    "PARAMS = TextGenParameters(\n",
    "    temperature=0,              # Higher temperature means more randomness - In this case we don't want randomness\n",
    "    max_new_tokens=10,          # Maximum number of tokens to generate\n",
    "    stop_sequences=[\".\", \"\\n\"], # Stop generating text when these sequences are encountered\n",
    ")\n",
    "\n",
    "model = ModelInference(\n",
    "    api_client=client,\n",
    "    model_id=\"meta-llama/llama-3-3-70b-instruct\",  \n",
    "    params=PARAMS\n",
    ")"
   ]
  },
  {
   "cell_type": "code",
   "execution_count": 16,
   "id": "3b5cbce7",
   "metadata": {},
   "outputs": [],
   "source": [
    "SYSTEM_PROMPT = \"\"\"You task is to classify the job descriptions into one of the twenty five categories, check the first twenty four ones and if nothing matches assign it to the last one\n",
    "\n",
    "CATEGORIES:\n",
    "{categories}\n",
    "\n",
    "TEXT:\n",
    "{text}\n",
    "\n",
    "Please assign the correct category to the text. Answer with the correct category and nothing else.\n",
    "\n",
    "Category:\n",
    "\"\"\""
   ]
  },
  {
   "cell_type": "code",
   "execution_count": 17,
   "id": "64f222f6",
   "metadata": {},
   "outputs": [
    {
     "name": "stderr",
     "output_type": "stream",
     "text": [
      "100%|██████████| 440/440 [02:55<00:00,  2.51it/s]\n"
     ]
    }
   ],
   "source": [
    "CATEGORIES = \"- \" + \"\\n- \".join(label_map)  # Create a string with all categories\n",
    "\n",
    "predictions = []\n",
    "\n",
    "sample_df['text'] = sample_df['job_title'] + \". \" + sample_df['job_description']\n",
    "\n",
    "for text in tqdm(sample_df[\"text\"]):\n",
    "\n",
    "    # format the prompt with the categories and the text\n",
    "    prompt = SYSTEM_PROMPT.format(categories=CATEGORIES, text=text)\n",
    "    \n",
    "    # generate the response from the model\n",
    "    response = model.generate(prompt)\n",
    "\n",
    "    # extract the generated text from the response\n",
    "    prediction = response[\"results\"][0][\"generated_text\"].strip()\n",
    "\n",
    "    # append the prediction to the list of predictions\n",
    "    predictions.append(prediction)\n",
    "\n",
    "sample_df['predicted_label'] = predictions\n"
   ]
  },
  {
   "cell_type": "code",
   "execution_count": 18,
   "id": "ce291f4c",
   "metadata": {},
   "outputs": [
    {
     "name": "stdout",
     "output_type": "stream",
     "text": [
      "                                               precision    recall  f1-score   support\n",
      "\n",
      "                                   ACCOUNTANT       1.00      1.00      1.00        18\n",
      "                                     ADVOCATE       1.00      1.00      1.00        14\n",
      "                                  AGRICULTURE       1.00      1.00      1.00         4\n",
      "                                      APPAREL       1.00      1.00      1.00         4\n",
      "                     APPAREL  is not correct,       1.00      1.00      1.00         3\n",
      "                                   AUTOMOBILE       1.00      1.00      1.00        16\n",
      "                                     AVIATION       1.00      1.00      1.00         3\n",
      "                                      BANKING       1.00      1.00      1.00         1\n",
      "                         BUSINESS-DEVELOPMENT       1.00      1.00      1.00         5\n",
      "                                         CHEF       1.00      1.00      1.00        16\n",
      "                                 CONSTRUCTION       1.00      1.00      1.00        30\n",
      "CONSTRUCTION  is not correct, because the job       1.00      1.00      1.00         1\n",
      "                                   CONSULTANT       1.00      1.00      1.00         1\n",
      "                                DIGITAL-MEDIA       1.00      1.00      1.00         6\n",
      "                                  ENGINEERING       1.00      1.00      1.00        35\n",
      "                                ENVIRONMENTAL       1.00      1.00      1.00         1\n",
      "                                      FINANCE       1.00      1.00      1.00        10\n",
      "                    GOVERNMENT-ADMINISTRATION       1.00      1.00      1.00         1\n",
      "                                   HEALTHCARE       1.00      1.00      1.00        84\n",
      "                                           HR       1.00      1.00      1.00        16\n",
      "                       INFORMATION-TECHNOLOGY       1.00      1.00      1.00        84\n",
      "                                    INSURANCE       1.00      1.00      1.00         2\n",
      "                                    LOGISTICS       1.00      1.00      1.00         3\n",
      "                                MANUFACTURING       1.00      1.00      1.00         3\n",
      "                      MARKETING-ADMINISTRATOR       1.00      1.00      1.00         1\n",
      "                             PUBLIC-RELATIONS       1.00      1.00      1.00         6\n",
      "        PUBLIC-RELATIONS  is not correct, but       1.00      1.00      1.00         1\n",
      "                          SAFETY-AND-SECURITY       1.00      1.00      1.00         1\n",
      "                                        SALES       1.00      1.00      1.00        58\n",
      "                             SECURITY-OFFICER       1.00      1.00      1.00         3\n",
      "                                      TEACHER       1.00      1.00      1.00         5\n",
      "                                         null       1.00      1.00      1.00         3\n",
      "                            null  -> no match       1.00      1.00      1.00         1\n",
      "\n",
      "                                     accuracy                           1.00       440\n",
      "                                    macro avg       1.00      1.00      1.00       440\n",
      "                                 weighted avg       1.00      1.00      1.00       440\n",
      "\n"
     ]
    }
   ],
   "source": [
    "print(classification_report(sample_df.predicted_label, predictions))"
   ]
  },
  {
   "cell_type": "code",
   "execution_count": null,
   "id": "50920b7d",
   "metadata": {},
   "outputs": [],
   "source": [
    "refined"
   ]
  }
 ],
 "metadata": {
  "kernelspec": {
   "display_name": "aiml25-ma3",
   "language": "python",
   "name": "python3"
  },
  "language_info": {
   "codemirror_mode": {
    "name": "ipython",
    "version": 3
   },
   "file_extension": ".py",
   "mimetype": "text/x-python",
   "name": "python",
   "nbconvert_exporter": "python",
   "pygments_lexer": "ipython3",
   "version": "3.12.7"
  }
 },
 "nbformat": 4,
 "nbformat_minor": 5
}
