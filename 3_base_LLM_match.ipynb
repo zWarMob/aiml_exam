{
 "cells": [
  {
   "cell_type": "code",
   "execution_count": 50,
   "id": "eb2ab16c",
   "metadata": {},
   "outputs": [],
   "source": [
    "# Imports\n",
    "import pandas as pd\n",
    "from sklearn.model_selection import train_test_split\n",
    "from ibm_watsonx_ai import APIClient, Credentials\n",
    "from ibm_watsonx_ai.foundation_models import ModelInference\n",
    "from ibm_watsonx_ai.foundation_models.schema import TextGenParameters\n",
    "from sklearn.metrics import classification_report \n",
    "from tqdm import tqdm\n",
    "from decouple import config\n",
    "import json\n",
    "import re\n",
    "import time"
   ]
  },
  {
   "cell_type": "code",
   "execution_count": 2,
   "id": "d225d315",
   "metadata": {},
   "outputs": [
    {
     "name": "stdout",
     "output_type": "stream",
     "text": [
      "<class 'pandas.core.frame.DataFrame'>\n",
      "RangeIndex: 1032 entries, 0 to 1031\n",
      "Data columns (total 15 columns):\n",
      " #   Column           Non-Null Count  Dtype \n",
      "---  ------           --------------  ----- \n",
      " 0   country          1032 non-null   object\n",
      " 1   country_code     1032 non-null   object\n",
      " 2   date_added       6 non-null      object\n",
      " 3   has_expired      1032 non-null   object\n",
      " 4   job_board        1032 non-null   object\n",
      " 5   job_description  1032 non-null   object\n",
      " 6   job_title        1032 non-null   object\n",
      " 7   job_type         942 non-null    object\n",
      " 8   location         1032 non-null   object\n",
      " 9   organization     717 non-null    object\n",
      " 10  page_url         1032 non-null   object\n",
      " 11  salary           157 non-null    object\n",
      " 12  sector           769 non-null    object\n",
      " 13  uniq_id          1032 non-null   object\n",
      " 14  predictions      1032 non-null   object\n",
      "dtypes: object(15)\n",
      "memory usage: 121.1+ KB\n"
     ]
    }
   ],
   "source": [
    "# Read the CSV file for jobposts into a DataFrame\n",
    "df_jobposts = pd.read_csv('data/processed_data/processed_jobposts.csv')\n",
    "df_jobposts.info()\n",
    "# sample_df = df.sample(frac=0.05, random_state=42)"
   ]
  },
  {
   "cell_type": "code",
   "execution_count": 3,
   "id": "9a2ec9b5",
   "metadata": {},
   "outputs": [
    {
     "name": "stdout",
     "output_type": "stream",
     "text": [
      "predictions\n",
      "HEALTHCARE                191\n",
      "INFORMATION-TECHNOLOGY    188\n",
      "SALES                     158\n",
      "ENGINEERING               129\n",
      "CONSTRUCTION               68\n",
      "CHEF                       43\n",
      "ACCOUNTANT                 42\n",
      "ADVOCATE                   38\n",
      "AUTOMOBILE                 38\n",
      "HR                         32\n",
      "FINANCE                    27\n",
      "PUBLIC-RELATIONS           20\n",
      "BUSINESS-DEVELOPMENT       19\n",
      "TEACHER                    11\n",
      "DIGITAL-MEDIA               8\n",
      "AGRICULTURE                 6\n",
      "BANKING                     4\n",
      "DESIGNER                    3\n",
      "AVIATION                    2\n",
      "APPAREL                     2\n",
      "CONSULTANT                  2\n",
      "FITNESS                     1\n",
      "Name: count, dtype: int64\n"
     ]
    }
   ],
   "source": [
    "# Count and list unique job categories\n",
    "print(df_jobposts['predictions'].value_counts())"
   ]
  },
  {
   "cell_type": "code",
   "execution_count": 4,
   "id": "acf90054",
   "metadata": {},
   "outputs": [],
   "source": [
    "# Filter for the 5 target categories\n",
    "categories = ['INFORMATION-TECHNOLOGY', 'FINANCE', 'SALES', 'HEALTHCARE', 'HR']\n",
    "df_filtered = df_jobposts[df_jobposts['predictions'].isin(categories)]\n",
    "\n",
    "# Sample 2 job postings per category\n",
    "df_sampled = df_filtered.groupby('predictions', group_keys=False).sample(n=2, random_state=42)\n",
    "\n",
    "# Reduce to relevant columns\n",
    "df_sampled = df_sampled[['predictions', 'job_description']]"
   ]
  },
  {
   "cell_type": "code",
   "execution_count": 5,
   "id": "ae80273e",
   "metadata": {},
   "outputs": [],
   "source": [
    "# Split into separate DataFrames\n",
    "df_it = df_sampled[df_sampled['predictions'] == 'INFORMATION-TECHNOLOGY']\n",
    "df_finance = df_sampled[df_sampled['predictions'] == 'FINANCE']\n",
    "df_sales = df_sampled[df_sampled['predictions'] == 'SALES']\n",
    "df_healthcare = df_sampled[df_sampled['predictions'] == 'HEALTHCARE']\n",
    "df_hr = df_sampled[df_sampled['predictions'] == 'HR']\n"
   ]
  },
  {
   "cell_type": "code",
   "execution_count": 6,
   "id": "fd719c61",
   "metadata": {},
   "outputs": [
    {
     "name": "stdout",
     "output_type": "stream",
     "text": [
      "                predictions                                    job_description\n",
      "194                 FINANCE  Liability Claims Team LeadCLAIM YOUR FUTURE AS...\n",
      "534                 FINANCE  Report this job About the Job **Manager, Cash ...\n",
      "57               HEALTHCARE  The Quality Assurance Manager will be responsi...\n",
      "432              HEALTHCARE  Full-TimeOklahoma City, OK Job #:CLedmOK058499...\n",
      "318                      HR  The Human Resource Consulting Group, LLC (HRCG...\n",
      "174                      HR  Kforce is one of the premier leaders in the st...\n",
      "160  INFORMATION-TECHNOLOGY  RESPONSIBILITIES:Kforce has a client in Irvine...\n",
      "187  INFORMATION-TECHNOLOGY  Recruiter to Contact: JC CaoJob Title: Project...\n",
      "133                   SALES  Summary Event Specialist Part Time Sales   Are...\n",
      "52                    SALES  Overview   Let's Grow Together! We are a fast-...\n"
     ]
    }
   ],
   "source": [
    "print(df_sampled)"
   ]
  },
  {
   "cell_type": "code",
   "execution_count": 7,
   "id": "97c601f9",
   "metadata": {},
   "outputs": [
    {
     "name": "stdout",
     "output_type": "stream",
     "text": [
      "Summary Event Specialist Part Time Sales   Are you outgoing, friendly and enjoy meeting new people?  Our part time Event Specialist jobs are fun and exciting and could be a great fit for you! Join our winning team as a retail demonstrator promoting best in class products at your local retailers. You can be the brand ambassador who excels in captivating an audience during in-store events, with an emphasis on brand awareness, product demonstration and sales. The in-store demonstrator is responsible for reviewing program materials, set up and break down of the work area, and the preparation and sampling of products on scheduled event days. Take this chance to join the largest sales and marketing agency in North America, Advantage Solutions, where you will receive top-notch training and competitive pay rates.          Responsibilities:   Set up, break down, product preparation and sampling during in-store demonstrations Generate brand awareness and positive product impressions to increase sales Assess customers individual usage needs and interests in order to best recommend products Timely complete of all call reports, paperwork, and on-going personal training by required deadlines   Qualifications:   High School Diploma preferred or equivalent job-related experience Experience in event marketing, demonstrations, sales, brand promotion or retail/grocery Interact in a friendly, enthusiastic, energetic and outgoing manner with management, clients, and consumers in any setting Stand comfortably for up to 6 hours a day Able to work independently and as a motivated team player Ability to work a part-time retail schedule, Monday through Sunday Minimal travel required for training or other scheduled events Daily access to a PC computer with internet/email access   Advantage Solutions is one of North America’s leading sales and marketing agencies specializing in outsourced sales, merchandising, category management and marketing services to manufacturers, suppliers and producers of food products and consumer packaged goods. Advantage Solutions services a variety of trade channels including grocery, mass merchandise, specialty, convenience, drug, dollar, club, hardware, consumer electronics and home centers. We bridge the gap between manufacturers and retailers, providing consumers access to the best products available in the marketplace today.   Advantage Sales and Marketing, LLC dba Advantage Solutions is proud to be an Equal Opportunity Employer.\n"
     ]
    }
   ],
   "source": [
    "# Print the column job \"description\" of 7th row\n",
    "print(df_sampled.iloc[8]['job_description'])"
   ]
  },
  {
   "cell_type": "code",
   "execution_count": 8,
   "id": "2216c620",
   "metadata": {},
   "outputs": [
    {
     "name": "stdout",
     "output_type": "stream",
     "text": [
      "<class 'pandas.core.frame.DataFrame'>\n",
      "RangeIndex: 2484 entries, 0 to 2483\n",
      "Data columns (total 4 columns):\n",
      " #   Column       Non-Null Count  Dtype \n",
      "---  ------       --------------  ----- \n",
      " 0   ID           2484 non-null   int64 \n",
      " 1   Resume_str   2484 non-null   object\n",
      " 2   Resume_html  2484 non-null   object\n",
      " 3   Category     2484 non-null   object\n",
      "dtypes: int64(1), object(3)\n",
      "memory usage: 77.8+ KB\n"
     ]
    }
   ],
   "source": [
    "# Read the CSV file for CVs into a DataFrame\n",
    "df_cvs = pd.read_csv('data/resume.csv')\n",
    "df_cvs.info()"
   ]
  },
  {
   "cell_type": "code",
   "execution_count": 9,
   "id": "ab33952e",
   "metadata": {},
   "outputs": [
    {
     "name": "stdout",
     "output_type": "stream",
     "text": [
      "         ID                                         Resume_str  \\\n",
      "0  16852973           HR ADMINISTRATOR/MARKETING ASSOCIATE\\...   \n",
      "1  22323967           HR SPECIALIST, US HR OPERATIONS      ...   \n",
      "2  33176873           HR DIRECTOR       Summary      Over 2...   \n",
      "3  27018550           HR SPECIALIST       Summary    Dedica...   \n",
      "4  17812897           HR MANAGER         Skill Highlights  ...   \n",
      "\n",
      "                                         Resume_html Category  \n",
      "0  <div class=\"fontsize fontface vmargins hmargin...       HR  \n",
      "1  <div class=\"fontsize fontface vmargins hmargin...       HR  \n",
      "2  <div class=\"fontsize fontface vmargins hmargin...       HR  \n",
      "3  <div class=\"fontsize fontface vmargins hmargin...       HR  \n",
      "4  <div class=\"fontsize fontface vmargins hmargin...       HR  \n"
     ]
    }
   ],
   "source": [
    "# Print head of CVs dataframe\n",
    "print(df_cvs.head())"
   ]
  },
  {
   "cell_type": "code",
   "execution_count": 10,
   "id": "2fc062be",
   "metadata": {},
   "outputs": [
    {
     "name": "stdout",
     "output_type": "stream",
     "text": [
      "Category\n",
      "INFORMATION-TECHNOLOGY    120\n",
      "BUSINESS-DEVELOPMENT      120\n",
      "FINANCE                   118\n",
      "ADVOCATE                  118\n",
      "ACCOUNTANT                118\n",
      "ENGINEERING               118\n",
      "CHEF                      118\n",
      "AVIATION                  117\n",
      "FITNESS                   117\n",
      "SALES                     116\n",
      "BANKING                   115\n",
      "HEALTHCARE                115\n",
      "CONSULTANT                115\n",
      "CONSTRUCTION              112\n",
      "PUBLIC-RELATIONS          111\n",
      "HR                        110\n",
      "DESIGNER                  107\n",
      "ARTS                      103\n",
      "TEACHER                   102\n",
      "APPAREL                    97\n",
      "DIGITAL-MEDIA              96\n",
      "AGRICULTURE                63\n",
      "AUTOMOBILE                 36\n",
      "BPO                        22\n",
      "Name: count, dtype: int64\n"
     ]
    }
   ],
   "source": [
    "# Count and list unique job categories of CVs\n",
    "print(df_cvs['Category'].value_counts())"
   ]
  },
  {
   "cell_type": "code",
   "execution_count": 43,
   "id": "b67e9ee4",
   "metadata": {},
   "outputs": [
    {
     "name": "stdout",
     "output_type": "stream",
     "text": [
      "Category\n",
      "INFORMATION-TECHNOLOGY    5\n",
      "ENGINEERING               2\n",
      "PUBLIC-RELATIONS          1\n",
      "DIGITAL-MEDIA             1\n",
      "FINANCE                   1\n",
      "Name: count, dtype: int64\n",
      "         ID                                         Resume_str  \\\n",
      "0  61319162           MARKETING AND COMMUNICATIONS DIRECTOR...   \n",
      "1  20237244           INFORMATION TECHNOLOGY SPECIALIST    ...   \n",
      "2  23085604           CHIEF SYSTEM ARCHITECT, SVP SYSTEM IN...   \n",
      "3  24083609           INFORMATION TECHNOLOGY SPECIALIST (IN...   \n",
      "4  21298336           ENGINEERING INTERN         Summary   ...   \n",
      "\n",
      "                                         Resume_html                Category  \n",
      "0  <div class=\"fontsize fontface vmargins hmargin...        PUBLIC-RELATIONS  \n",
      "1  <div class=\"fontsize fontface vmargins hmargin...  INFORMATION-TECHNOLOGY  \n",
      "2  <div class=\"fontsize fontface vmargins hmargin...           DIGITAL-MEDIA  \n",
      "3  <div class=\"fontsize fontface vmargins hmargin...  INFORMATION-TECHNOLOGY  \n",
      "4  <div class=\"fontsize fontface vmargins hmargin...             ENGINEERING  \n"
     ]
    }
   ],
   "source": [
    "# Take 50% relevant and 50% irrelevant CVs (30 CVs total)\n",
    "# Filter CVs by category\n",
    "relevant_cvs = df_cvs[df_cvs['Category'] == 'INFORMATION-TECHNOLOGY'].sample(n=5, random_state=42)\n",
    "\n",
    "irrelevant_cvs = df_cvs[df_cvs['Category'] != 'INFORMATION-TECHNOLOGY'].sample(n=5, random_state=42)\n",
    "\n",
    "# Combine into one 100-row dataset\n",
    "df_cvs_it_test = pd.concat([relevant_cvs, irrelevant_cvs], ignore_index=True)\n",
    "\n",
    "# Shuffle the result (so the LLM doesn't learn order)\n",
    "df_cvs_it_test = df_cvs_it_test.sample(frac=1, random_state=42).reset_index(drop=True)\n",
    "\n",
    "# Print the unique categories in the CVs DataFrame\n",
    "print(df_cvs_it_test['Category'].value_counts())\n",
    "\n",
    "# Print the first 5 rows of the CVs DataFrame\n",
    "print(df_cvs_it_test.head())"
   ]
  },
  {
   "cell_type": "code",
   "execution_count": 42,
   "id": "e92eccee",
   "metadata": {},
   "outputs": [],
   "source": [
    "# Define model setup and parameters\n",
    "# Load credentials\n",
    "WX_API_KEY = config(\"WX_API_KEY\")\n",
    "WX_PROJECT_ID = config(\"WX_PROJECT_ID\")\n",
    "WX_API_URL = \"https://us-south.ml.cloud.ibm.com\"\n",
    "\n",
    "# Create client\n",
    "credentials = Credentials(\n",
    "    api_key=WX_API_KEY,\n",
    "    url=WX_API_URL,\n",
    ")\n",
    "client = APIClient(\n",
    "    credentials=credentials,\n",
    "    project_id=WX_PROJECT_ID,\n",
    ")\n",
    "\n",
    "# Define generation parameters\n",
    "PARAMS = TextGenParameters(\n",
    "    temperature=0,\n",
    "    max_new_tokens=200,\n",
    "    stop_sequences=[\"### END\"]\n",
    ")\n",
    "\n",
    "# Load the model (same as in your previous assignments)\n",
    "model = ModelInference(\n",
    "    api_client=client,\n",
    "    model_id=\"mistralai/mistral-large\",\n",
    "    params=PARAMS\n",
    ")"
   ]
  },
  {
   "cell_type": "code",
   "execution_count": 51,
   "id": "3f0d2773",
   "metadata": {},
   "outputs": [],
   "source": [
    "# Select the first job posting from the IT category\n",
    "job_description_it = df_it.iloc[0]['job_description']\n",
    "\n",
    "# Create empty lists to hold scores and explanations\n",
    "scores = []\n",
    "explanations = []\n",
    "\n",
    "# Define the prompt template\n",
    "def build_match_prompt(job_description: str, resume_text: str) -> str:\n",
    "    return f\"\"\"\n",
    "You are a recruitment assistant.\n",
    "\n",
    "Your task is to evaluate how well the candidate's CV (full text of CV) matches the job description (full text of job description).\n",
    "\n",
    "Give:\n",
    "1. A match score from 0 to 10, where 0 = very poor fit and 10 = excellent fit.\n",
    "2. A short explanation (max 2 sentences) justifying the score.\n",
    "\n",
    "JOB DESCRIPTION:\n",
    "{job_description}\n",
    "\n",
    "CANDIDATE RESUME:\n",
    "{resume_text}\n",
    "\n",
    "Respond strictly in this JSON format (no markdown, no explanations before or after), which serves an example for your response:\n",
    "{{\n",
    "  \"score\": 8,\n",
    "  \"explanation\": \"The candidate has relevant engineering and Java experience, but lacks SDLC and Hyperion knowledge.\"\n",
    "}}\n",
    "\n",
    "### END\n",
    "\"\"\""
   ]
  },
  {
   "cell_type": "code",
   "execution_count": 58,
   "id": "c54304ee",
   "metadata": {},
   "outputs": [
    {
     "name": "stderr",
     "output_type": "stream",
     "text": [
      "  0%|          | 0/10 [00:00<?, ?it/s]"
     ]
    },
    {
     "name": "stdout",
     "output_type": "stream",
     "text": [
      "[DEBUG] Prompt: '\\nYou are a recruitment assistant.\\n\\nYour task is to evaluate how well the candidate\\'s CV (full text of CV) matches the job description (full text of job description).\\n\\nGive:\\n1. A match score from 0 to 10, where 0 = very poor fit and 10 = excellent fit.\\n2. A short explanation (max 2 sentences) justifying the score.\\n\\nJOB DESCRIPTION:\\nRESPONSIBILITIES:Kforce has a client in Irvine, CA that is searching for a Business Systems Analyst - Sales Operations.Responsibilities: Perform application development and maintenance support of application systems under direct supervision Will work closely with coworkers in a team oriented environment Act as lead on small enhancements and support items Provide analytical and application development support of applications for Sales Operation systems under direct supervision Design, develop and maintain systems Meets with end usersREQUIREMENTS: Must have mainframe application development experience Must have experience adhering to SDLC methodologies Extensive knowledge in mainframe based development Experienced with Hyperion (implementation experience a plus) Experience with Java and Web Services Must be able to communicate effectively with customers and coworkers to enhance customer satisfaction Must be a sound team player with initiative, resourcefulness and high level of professionalismKforce is an Equal Opportunity/Affirmative Action Employer. All qualified applicants will receive consideration for employment without regard to race, color, religion, sex, pregnancy, sexual orientation, gender identity, national origin, age, protected veteran status, or disability status.\\n\\nCANDIDATE RESUME:\\n         MARKETING AND COMMUNICATIONS DIRECTOR           Core Accomplishments    communications plans. Managed budgets from $200k to $10 million. Outstanding work ethic and organizational skills      Professional Experience      Marketing and Communications Director   01/2014   －   Current     Company Name     City  ,   State       Creates compelling, persuasive, relevant, and accurate communications content that increases the public\\'s engagement with the organization (in collaboration with members of the National Marketing and Communications cohort) and build community support for improving schools in Seattle and across the state;  Develops and executes a robust marketing and communications strategy in collaboration with the Seattle Executive Director, Government Affairs Director, and Seattle Organizer to ensure high-impact communications, earned media, and strong support of all Stand for Children Washington efforts;  Conducting market-specific, qualitative research to inform strategic communication outreach to target audiences;  Develops and implements a comprehensive public relations strategy to strengthen and elevate Stand for Children\\'s brand, elevate and effectively message our policy and electoral campaigns across the state          Associate Director of Corporate Relations   01/2009   －   01/2013     Company Name     City  ,   State       Consulted with companies such as: Black Girls CODE, Log Camp and National Association of Multicultural Digital Entrepreneurs  Liaised with education organizations such as: Washington STEM, WestEd and Education Pioneers  Led all communication activities: marketing, public relations and social media  Pitched stories to journalists for prospective companies  Managed media profile of executives  Developed and managed speaking plans for Black Girls CODE CEO  Created branding materials and overall messaging  Served as a creative copywriter for -pitches, presentations, brochures, web promotion and marketing materials  Planned and organized companies proactive presence in several communication channels, including - traditional media channels, online, social media, business/commercial events, conferences and industry meetings  Worked in collaboration with media houses to develop new ways and strategies for attracting media audiences and the general public British Virgin Islands  Led a five-person cross-functional team in strategic planning, including building private sector relationships, conducting negotiations, and managing budget and house targets  Developed and maintained relationships for the Ministry internationally with over 22 countries  Designed a communications/marketing strategy for the Ministry (press releases, talking points, briefings and white papers)  Instituted a communication program to convey the specifics of the Securities and Investment Business Act of 2010 to the financial community  Worked with cross-functional partners in finance, policy, legal and marketing on diverse communications matters ranging from media strategy to crisis management for the ministry  Prepared briefings for the Deputy Premier and managed executive spokespeople for the ministry  Lead negotiator for the Tax Information Exchange Agreement program  Expanded the international business development program  Represented the Ministry of Finance at numerous international conferences/meetings  Senior relationship manager for mission critical corporate sponsors  Cultivated and solicited philanthropic partnerships  Identified prospects, developed and proposed strategies for the cultivation of major financial institutions  Managed corporate-sponsored local programs and distance learning events  Developed investment curricula with the Director of Corporate Relations  Maintained and strengthened affiliation with the organization through activities with investment and international related grant making programming  Represented the organization at various financial industry events nationally          New York Director for Management and Planning   01/2008   －   01/2008     Company Name     City  ,   State       New York, NY/Paris, France New York Director for Management and Planning  Led the establishment of the New York Office; oversaw operating budget of $10 million  Secured a grant for $440k from the Bill and Melinda Gates Foundation  Developed a programmatic assessment and evaluation tool that streamlined the contract management process and improved performance from suppliers  Maximized financial performance by managing compliance and ultimately decreasing staffing costs  Developed and implemented new operating plans, policies, programs and procedures  Served as the liaison and primary point of initial contact for internal (Board of Directors) and external constituencies on all matters pertaining to the office of the Paris Director  Drafted speeches, presentations, lectures, and policy documents on issues related to the work of the organization  Ensured that office operations were in compliance with policy provisions and standards  Ensured registrations and license procedures were up to date internationally  Managed a variety of special projects for the Department          Governance Manager   01/2006   －   01/2008     Company Name     City  ,   State       Organized and coordinated governance activities and worked directly with the Chief Executive Officer  Served as the liaison to the Board of Directors  Edited grant proposals, participated in the grant proposal process  Tracked the priorities and developments of various boards that affected the organization  Represented the CEO in both internal and external settings          Education          Masters  :  UNIVERSITY OF PENNSYLVANIA   -   Public Policy    City  ,   State  ,   US    UNIVERSITY OF PENNSYLVANIA Philadelphia, PA Masters in Public Policy, May 2003 GPA 3.8              Wharton Business School   -   Corporate Finance and Marketing            Wharton Business School courses in Corporate Finance and Marketing            Bachelor of Arts  :  Annenberg School of Communications   -   Comparative Government    City  ,   State  ,   US    Annenberg School of Communications courses in communications SMITH COLLEGE Northampton, MA Bachelor of Arts, May 1999 Major: Comparative Government            Certificate  :  NORTHWESTERN UNIVERSITY, Kellogg School of Management   -   Marketing/Leadership Executive Program    City  ,   State  ,   US    NORTHWESTERN UNIVERSITY, Kellogg School of Management Certificate Marketing/Leadership Executive Program, July 2007\\tChicago, IL ADDITIONAL Technology Skills: MS Office, Raisersedge, LexisNexis, Twitter and numerous social media platforms Extensive International Work: Western Europe, US, Africa, Asia, and the Caribbean        Certifications    Certificate Marketing/Leadership Executive Program, Chicago, IL      Professional Affiliations    Consulted with companies such as: Black Girls CODE, Log Camp and National Association of Multicultural Digital      Presentations    online, social media, business/commercial events, conferences and industry meetings Served as a creative copywriter for -pitches, presentations, brochures, web promotion and marketing materials      Skills    Marketing, Public Relations, And Marketing, Branding, Copywriter, Proactive, Self Motivated, Liaison, Budget, Governance, Proposals, Public Relations Strategy, Finance, Business Development, Crisis Management, Exchange, Marketing Strategy, Media Strategy, Premier, Securities, Strategic Planning, White Papers, Associate, Contract Management, Million, Operations, Registrations, Staffing, Budgets, Energetic, Organizational Skills, San, Storage Area Network, Ms Office, Public Policy, Corporate Finance   \\n\\nRespond strictly in this JSON format (no markdown, no explanations before or after), which serves an example for your response:\\n{\\n  \"score\": 8,\\n  \"explanation\": \"The candidate has relevant engineering and Java experience, but lacks SDLC and Hyperion knowledge.\"\\n}\\n\\n### END\\n'\n"
     ]
    },
    {
     "name": "stderr",
     "output_type": "stream",
     "text": [
      " 10%|█         | 1/10 [00:04<00:36,  4.06s/it]"
     ]
    },
    {
     "name": "stdout",
     "output_type": "stream",
     "text": [
      "[DEBUG] Prompt: '\\nYou are a recruitment assistant.\\n\\nYour task is to evaluate how well the candidate\\'s CV (full text of CV) matches the job description (full text of job description).\\n\\nGive:\\n1. A match score from 0 to 10, where 0 = very poor fit and 10 = excellent fit.\\n2. A short explanation (max 2 sentences) justifying the score.\\n\\nJOB DESCRIPTION:\\nRESPONSIBILITIES:Kforce has a client in Irvine, CA that is searching for a Business Systems Analyst - Sales Operations.Responsibilities: Perform application development and maintenance support of application systems under direct supervision Will work closely with coworkers in a team oriented environment Act as lead on small enhancements and support items Provide analytical and application development support of applications for Sales Operation systems under direct supervision Design, develop and maintain systems Meets with end usersREQUIREMENTS: Must have mainframe application development experience Must have experience adhering to SDLC methodologies Extensive knowledge in mainframe based development Experienced with Hyperion (implementation experience a plus) Experience with Java and Web Services Must be able to communicate effectively with customers and coworkers to enhance customer satisfaction Must be a sound team player with initiative, resourcefulness and high level of professionalismKforce is an Equal Opportunity/Affirmative Action Employer. All qualified applicants will receive consideration for employment without regard to race, color, religion, sex, pregnancy, sexual orientation, gender identity, national origin, age, protected veteran status, or disability status.\\n\\nCANDIDATE RESUME:\\n         INFORMATION TECHNOLOGY SPECIALIST       Summary      Information Security Analyst/Systems professional with over 16 years of diverse experience across the analysis, troubleshooting, management and testing of complex IT systems. \\xa0Experience includes\\xa0 analytical support to computer surveillance\\nactivities in Cyber Security, Intrusion detection analysis and System\\nAdministration. \\xa0Also knowledgeable in Military Cyber Operations.\\xa0       Security Clearance    Currently hold an active TS/SCI Security Clearance. \\xa0Last updated in 2013.      Technical Skills and Qualifications    Windows, Unix, Linux, VMWare, Wireshark, Snort, TCPDump, EnCase, Bash Programming, configuring routers and switches, computer networking, \\xa0Intrusion analysis and Firewalls.      Work Experience      Information Technology Specialist  ,   05/2009   －   Current    Company Name   －   City  ,   State      Provide electronic surveillance of information systems, perform digital evidence analysis (DEA), and provide technical analytical support to computer surveillance activities.  \\u200bProvide traffic analysis against adversary\\'s (TTP) tactics, techniques and protocols. \\xa0   Configure and install routers, switches and wireless controllers.     Draft training materials and organize training sessions for\\xa0 6\\xa0 employees.            Network Security Analyst  ,   08/2008   －   05/2009    Company Name   －   City  ,   State       Analyzed software, hardware and network systems for various transmission systems.       Identified, reported and resolved network security violations.             Corporate Security  ,   11/2007   －   08/2008    Company Name   －   City  ,   State      Ensured Rackspace was in compliance with industry standards such as PCI (Payment Card Industry), HIPAA, ISO 27001, and Sarbanes-Oxley.   Responded to all client requests for technical support by phone and email.            Network Security Analyst  ,   11/2003   －   11/2007    Company Name   －   City  ,   State      Identified and responded to threats against Air Force worldwide\\ncomputer networks on an unclassified and\\nclassified entity (NIPR and SIPR).\\xa0  Provided immediate\\nanalysis and verification of network activity using Automatic Signature\\nIdentification Measurement (ASIM) and Cisco Intrusion Detection System (CIDS).\\n  Detected network intrusions\\nand applied appropriate methods of counter activity.\\n  Analyzed trends of\\nall network activity.\\n  Provided daily\\nactivity reports to management and headquarters.\\xa0 \\xa0\\xa0           Education and Training      2018    Park University   －   City  ,   State  ,   United States    Bachelor of Science    Information and Computer Science     Emphasis in  Network Security           2015    CompTIA                 Certified in Security Fundamentals (Security+)           2014    CompTIA                Network Fundamentals (Network+ )        2012    Defense Cyber Investigation Training Academy   －   City  ,   State  ,   United States           Coursework in Network Exploitation Techniques          2011    Defense Cyber Investigations Academy   －   City  ,   State             Coursework in Network Monitoring Techniques\\xa0          2010    Defense Cyber Investigations Training Academy   －   City  ,   State  ,   United States           Certified Computer Forensics Examiner          2009    Defense Cyber Investigations Training Academy   －   City  ,   State  ,   United States          Certified Digital Media Collector     \\n\\nRespond strictly in this JSON format (no markdown, no explanations before or after), which serves an example for your response:\\n{\\n  \"score\": 8,\\n  \"explanation\": \"The candidate has relevant engineering and Java experience, but lacks SDLC and Hyperion knowledge.\"\\n}\\n\\n### END\\n'\n"
     ]
    },
    {
     "name": "stderr",
     "output_type": "stream",
     "text": [
      " 10%|█         | 1/10 [00:38<05:43, 38.18s/it]\n"
     ]
    },
    {
     "ename": "KeyboardInterrupt",
     "evalue": "",
     "output_type": "error",
     "traceback": [
      "\u001b[31m---------------------------------------------------------------------------\u001b[39m",
      "\u001b[31mKeyboardInterrupt\u001b[39m                         Traceback (most recent call last)",
      "\u001b[36mCell\u001b[39m\u001b[36m \u001b[39m\u001b[32mIn[58]\u001b[39m\u001b[32m, line 9\u001b[39m\n\u001b[32m      6\u001b[39m \u001b[38;5;28mprint\u001b[39m(\u001b[33m\"\u001b[39m\u001b[33m[DEBUG] Prompt:\u001b[39m\u001b[33m\"\u001b[39m, \u001b[38;5;28mrepr\u001b[39m(prompt))\n\u001b[32m      8\u001b[39m \u001b[38;5;66;03m# Call the LLM\u001b[39;00m\n\u001b[32m----> \u001b[39m\u001b[32m9\u001b[39m response = \u001b[43mmodel\u001b[49m\u001b[43m.\u001b[49m\u001b[43mgenerate\u001b[49m\u001b[43m(\u001b[49m\u001b[43mprompt\u001b[49m\u001b[43m)\u001b[49m\n\u001b[32m     11\u001b[39m \u001b[38;5;66;03m# Updated JSON extraction logic\u001b[39;00m\n\u001b[32m     12\u001b[39m raw_output = response[\u001b[33m\"\u001b[39m\u001b[33mresults\u001b[39m\u001b[33m\"\u001b[39m][\u001b[32m0\u001b[39m][\u001b[33m\"\u001b[39m\u001b[33mgenerated_text\u001b[39m\u001b[33m\"\u001b[39m]\n",
      "\u001b[36mFile \u001b[39m\u001b[32m~/anaconda3/envs/aiml25-exam/lib/python3.11/site-packages/ibm_watsonx_ai/foundation_models/inference/model_inference.py:638\u001b[39m, in \u001b[36mModelInference.generate\u001b[39m\u001b[34m(self, prompt, params, guardrails, guardrails_hap_params, guardrails_pii_params, concurrency_limit, async_mode, validate_prompt_variables)\u001b[39m\n\u001b[32m    632\u001b[39m     warning_async_mode = (\n\u001b[32m    633\u001b[39m         \u001b[33m\"\u001b[39m\u001b[33mIn this mode, the results will be returned in the order in which the server returns the responses. \u001b[39m\u001b[33m\"\u001b[39m\n\u001b[32m    634\u001b[39m         \u001b[33m\"\u001b[39m\u001b[33mPlease notice that it does not support non-blocking requests scheduling. \u001b[39m\u001b[33m\"\u001b[39m\n\u001b[32m    635\u001b[39m         \u001b[33m\"\u001b[39m\u001b[33mTo use non-blocking native async inference method you may use `ModelInference.agenerate(...)`\u001b[39m\u001b[33m\"\u001b[39m\n\u001b[32m    636\u001b[39m     )\n\u001b[32m    637\u001b[39m     warn(warning_async_mode)\n\u001b[32m--> \u001b[39m\u001b[32m638\u001b[39m \u001b[38;5;28;01mreturn\u001b[39;00m \u001b[38;5;28;43mself\u001b[39;49m\u001b[43m.\u001b[49m\u001b[43m_inference\u001b[49m\u001b[43m.\u001b[49m\u001b[43mgenerate\u001b[49m\u001b[43m(\u001b[49m\n\u001b[32m    639\u001b[39m \u001b[43m    \u001b[49m\u001b[43mprompt\u001b[49m\u001b[43m=\u001b[49m\u001b[43mprompt\u001b[49m\u001b[43m,\u001b[49m\n\u001b[32m    640\u001b[39m \u001b[43m    \u001b[49m\u001b[43mparams\u001b[49m\u001b[43m=\u001b[49m\u001b[43mparams\u001b[49m\u001b[43m,\u001b[49m\n\u001b[32m    641\u001b[39m \u001b[43m    \u001b[49m\u001b[43mguardrails\u001b[49m\u001b[43m=\u001b[49m\u001b[43mguardrails\u001b[49m\u001b[43m,\u001b[49m\n\u001b[32m    642\u001b[39m \u001b[43m    \u001b[49m\u001b[43mguardrails_hap_params\u001b[49m\u001b[43m=\u001b[49m\u001b[43mguardrails_hap_params\u001b[49m\u001b[43m,\u001b[49m\n\u001b[32m    643\u001b[39m \u001b[43m    \u001b[49m\u001b[43mguardrails_pii_params\u001b[49m\u001b[43m=\u001b[49m\u001b[43mguardrails_pii_params\u001b[49m\u001b[43m,\u001b[49m\n\u001b[32m    644\u001b[39m \u001b[43m    \u001b[49m\u001b[43mconcurrency_limit\u001b[49m\u001b[43m=\u001b[49m\u001b[43mconcurrency_limit\u001b[49m\u001b[43m,\u001b[49m\n\u001b[32m    645\u001b[39m \u001b[43m    \u001b[49m\u001b[43masync_mode\u001b[49m\u001b[43m=\u001b[49m\u001b[43masync_mode\u001b[49m\u001b[43m,\u001b[49m\n\u001b[32m    646\u001b[39m \u001b[43m    \u001b[49m\u001b[43mvalidate_prompt_variables\u001b[49m\u001b[43m=\u001b[49m\u001b[43mvalidate_prompt_variables\u001b[49m\u001b[43m,\u001b[49m\n\u001b[32m    647\u001b[39m \u001b[43m\u001b[49m\u001b[43m)\u001b[49m\n",
      "\u001b[36mFile \u001b[39m\u001b[32m~/anaconda3/envs/aiml25-exam/lib/python3.11/site-packages/ibm_watsonx_ai/foundation_models/inference/fm_model_inference.py:329\u001b[39m, in \u001b[36mFMModelInference.generate\u001b[39m\u001b[34m(self, prompt, params, guardrails, guardrails_hap_params, guardrails_pii_params, concurrency_limit, async_mode, validate_prompt_variables)\u001b[39m\n\u001b[32m    318\u001b[39m     \u001b[38;5;28;01mreturn\u001b[39;00m \u001b[38;5;28mself\u001b[39m._generate_with_url_async(\n\u001b[32m    319\u001b[39m         prompt=prompt,\n\u001b[32m    320\u001b[39m         params=params \u001b[38;5;129;01mor\u001b[39;00m \u001b[38;5;28mself\u001b[39m.params,\n\u001b[32m   (...)\u001b[39m\u001b[32m    325\u001b[39m         concurrency_limit=concurrency_limit,\n\u001b[32m    326\u001b[39m     )\n\u001b[32m    328\u001b[39m \u001b[38;5;28;01melse\u001b[39;00m:\n\u001b[32m--> \u001b[39m\u001b[32m329\u001b[39m     \u001b[38;5;28;01mreturn\u001b[39;00m \u001b[38;5;28;43mself\u001b[39;49m\u001b[43m.\u001b[49m\u001b[43m_generate_with_url\u001b[49m\u001b[43m(\u001b[49m\n\u001b[32m    330\u001b[39m \u001b[43m        \u001b[49m\u001b[43mprompt\u001b[49m\u001b[43m=\u001b[49m\u001b[43mprompt\u001b[49m\u001b[43m,\u001b[49m\n\u001b[32m    331\u001b[39m \u001b[43m        \u001b[49m\u001b[43mparams\u001b[49m\u001b[43m=\u001b[49m\u001b[43mparams\u001b[49m\u001b[43m,\u001b[49m\n\u001b[32m    332\u001b[39m \u001b[43m        \u001b[49m\u001b[43mgenerate_url\u001b[49m\u001b[43m=\u001b[49m\u001b[43mgenerate_text_url\u001b[49m\u001b[43m,\u001b[49m\n\u001b[32m    333\u001b[39m \u001b[43m        \u001b[49m\u001b[43mguardrails\u001b[49m\u001b[43m=\u001b[49m\u001b[43mguardrails\u001b[49m\u001b[43m,\u001b[49m\n\u001b[32m    334\u001b[39m \u001b[43m        \u001b[49m\u001b[43mguardrails_hap_params\u001b[49m\u001b[43m=\u001b[49m\u001b[43mguardrails_hap_params\u001b[49m\u001b[43m,\u001b[49m\n\u001b[32m    335\u001b[39m \u001b[43m        \u001b[49m\u001b[43mguardrails_pii_params\u001b[49m\u001b[43m=\u001b[49m\u001b[43mguardrails_pii_params\u001b[49m\u001b[43m,\u001b[49m\n\u001b[32m    336\u001b[39m \u001b[43m        \u001b[49m\u001b[43mconcurrency_limit\u001b[49m\u001b[43m=\u001b[49m\u001b[43mconcurrency_limit\u001b[49m\u001b[43m,\u001b[49m\n\u001b[32m    337\u001b[39m \u001b[43m    \u001b[49m\u001b[43m)\u001b[49m\n",
      "\u001b[36mFile \u001b[39m\u001b[32m~/anaconda3/envs/aiml25-exam/lib/python3.11/site-packages/ibm_watsonx_ai/foundation_models/inference/base_model_inference.py:849\u001b[39m, in \u001b[36mBaseModelInference._generate_with_url\u001b[39m\u001b[34m(self, prompt, params, generate_url, guardrails, guardrails_hap_params, guardrails_pii_params, concurrency_limit)\u001b[39m\n\u001b[32m    846\u001b[39m     \u001b[38;5;28;01mreturn\u001b[39;00m generated_responses\n\u001b[32m    848\u001b[39m \u001b[38;5;28;01melse\u001b[39;00m:\n\u001b[32m--> \u001b[39m\u001b[32m849\u001b[39m     response = \u001b[38;5;28;43mself\u001b[39;49m\u001b[43m.\u001b[49m\u001b[43m_send_inference_payload\u001b[49m\u001b[43m(\u001b[49m\n\u001b[32m    850\u001b[39m \u001b[43m        \u001b[49m\u001b[43mprompt\u001b[49m\u001b[43m,\u001b[49m\n\u001b[32m    851\u001b[39m \u001b[43m        \u001b[49m\u001b[43mparams\u001b[49m\u001b[43m,\u001b[49m\n\u001b[32m    852\u001b[39m \u001b[43m        \u001b[49m\u001b[43mgenerate_url\u001b[49m\u001b[43m,\u001b[49m\n\u001b[32m    853\u001b[39m \u001b[43m        \u001b[49m\u001b[43mguardrails\u001b[49m\u001b[43m,\u001b[49m\n\u001b[32m    854\u001b[39m \u001b[43m        \u001b[49m\u001b[43mguardrails_hap_params\u001b[49m\u001b[43m,\u001b[49m\n\u001b[32m    855\u001b[39m \u001b[43m        \u001b[49m\u001b[43mguardrails_pii_params\u001b[49m\u001b[43m,\u001b[49m\n\u001b[32m    856\u001b[39m \u001b[43m    \u001b[49m\u001b[43m)\u001b[49m\n\u001b[32m    857\u001b[39m \u001b[38;5;28;01mreturn\u001b[39;00m response\n",
      "\u001b[36mFile \u001b[39m\u001b[32m~/anaconda3/envs/aiml25-exam/lib/python3.11/site-packages/ibm_watsonx_ai/foundation_models/inference/base_model_inference.py:315\u001b[39m, in \u001b[36mBaseModelInference._send_inference_payload\u001b[39m\u001b[34m(self, prompt, params, generate_url, guardrails, guardrails_hap_params, guardrails_pii_params, _http_client)\u001b[39m\n\u001b[32m    304\u001b[39m \u001b[38;5;28;01mdef\u001b[39;00m\u001b[38;5;250m \u001b[39m\u001b[34m_send_inference_payload\u001b[39m(\n\u001b[32m    305\u001b[39m     \u001b[38;5;28mself\u001b[39m,\n\u001b[32m    306\u001b[39m     prompt: \u001b[38;5;28mstr\u001b[39m | \u001b[38;5;28;01mNone\u001b[39;00m,\n\u001b[32m   (...)\u001b[39m\u001b[32m    312\u001b[39m     _http_client: requests.HTTPXClient | httpx.Client | \u001b[38;5;28;01mNone\u001b[39;00m = \u001b[38;5;28;01mNone\u001b[39;00m,\n\u001b[32m    313\u001b[39m ) -> \u001b[38;5;28mdict\u001b[39m:\n\u001b[32m--> \u001b[39m\u001b[32m315\u001b[39m     response_scoring = \u001b[38;5;28;43mself\u001b[39;49m\u001b[43m.\u001b[49m\u001b[43m_send_inference_payload_raw\u001b[49m\u001b[43m(\u001b[49m\n\u001b[32m    316\u001b[39m \u001b[43m        \u001b[49m\u001b[43mprompt\u001b[49m\u001b[43m=\u001b[49m\u001b[43mprompt\u001b[49m\u001b[43m,\u001b[49m\n\u001b[32m    317\u001b[39m \u001b[43m        \u001b[49m\u001b[43mparams\u001b[49m\u001b[43m=\u001b[49m\u001b[43mparams\u001b[49m\u001b[43m,\u001b[49m\n\u001b[32m    318\u001b[39m \u001b[43m        \u001b[49m\u001b[43mgenerate_url\u001b[49m\u001b[43m=\u001b[49m\u001b[43mgenerate_url\u001b[49m\u001b[43m,\u001b[49m\n\u001b[32m    319\u001b[39m \u001b[43m        \u001b[49m\u001b[43mguardrails\u001b[49m\u001b[43m=\u001b[49m\u001b[43mguardrails\u001b[49m\u001b[43m,\u001b[49m\n\u001b[32m    320\u001b[39m \u001b[43m        \u001b[49m\u001b[43mguardrails_hap_params\u001b[49m\u001b[43m=\u001b[49m\u001b[43mguardrails_hap_params\u001b[49m\u001b[43m,\u001b[49m\n\u001b[32m    321\u001b[39m \u001b[43m        \u001b[49m\u001b[43mguardrails_pii_params\u001b[49m\u001b[43m=\u001b[49m\u001b[43mguardrails_pii_params\u001b[49m\u001b[43m,\u001b[49m\n\u001b[32m    322\u001b[39m \u001b[43m        \u001b[49m\u001b[43m_http_client\u001b[49m\u001b[43m=\u001b[49m\u001b[43m_http_client\u001b[49m\u001b[43m,\u001b[49m\n\u001b[32m    323\u001b[39m \u001b[43m    \u001b[49m\u001b[43m)\u001b[49m\n\u001b[32m    325\u001b[39m     \u001b[38;5;28;01mreturn\u001b[39;00m \u001b[38;5;28mself\u001b[39m._handle_response(\n\u001b[32m    326\u001b[39m         \u001b[32m200\u001b[39m,\n\u001b[32m    327\u001b[39m         \u001b[33m\"\u001b[39m\u001b[33mgenerate\u001b[39m\u001b[33m\"\u001b[39m,\n\u001b[32m    328\u001b[39m         response_scoring,\n\u001b[32m    329\u001b[39m         _field_to_hide=\u001b[33m\"\u001b[39m\u001b[33mgenerated_text\u001b[39m\u001b[33m\"\u001b[39m,\n\u001b[32m    330\u001b[39m     )\n",
      "\u001b[36mFile \u001b[39m\u001b[32m~/anaconda3/envs/aiml25-exam/lib/python3.11/site-packages/ibm_watsonx_ai/foundation_models/inference/base_model_inference.py:302\u001b[39m, in \u001b[36mBaseModelInference._send_inference_payload_raw\u001b[39m\u001b[34m(self, prompt, params, generate_url, guardrails, guardrails_hap_params, guardrails_pii_params, _http_client)\u001b[39m\n\u001b[32m    293\u001b[39m http_client = _http_client \u001b[38;5;129;01mor\u001b[39;00m \u001b[38;5;28mself\u001b[39m._http_client\n\u001b[32m    295\u001b[39m post_params: \u001b[38;5;28mdict\u001b[39m[\u001b[38;5;28mstr\u001b[39m, Any] = \u001b[38;5;28mdict\u001b[39m(\n\u001b[32m    296\u001b[39m     url=generate_url,\n\u001b[32m    297\u001b[39m     json=payload,\n\u001b[32m    298\u001b[39m     params=\u001b[38;5;28mself\u001b[39m._client._params(skip_for_create=\u001b[38;5;28;01mTrue\u001b[39;00m, skip_userfs=\u001b[38;5;28;01mTrue\u001b[39;00m),\n\u001b[32m    299\u001b[39m     headers=\u001b[38;5;28mself\u001b[39m._client._get_headers(),\n\u001b[32m    300\u001b[39m )\n\u001b[32m--> \u001b[39m\u001b[32m302\u001b[39m \u001b[38;5;28;01mreturn\u001b[39;00m \u001b[38;5;28;43mself\u001b[39;49m\u001b[43m.\u001b[49m\u001b[43m_post\u001b[49m\u001b[43m(\u001b[49m\u001b[43mhttp_client\u001b[49m\u001b[43m=\u001b[49m\u001b[43mhttp_client\u001b[49m\u001b[43m,\u001b[49m\u001b[43m \u001b[49m\u001b[43m*\u001b[49m\u001b[43m*\u001b[49m\u001b[43mpost_params\u001b[49m\u001b[43m)\u001b[49m\n",
      "\u001b[36mFile \u001b[39m\u001b[32m~/anaconda3/envs/aiml25-exam/lib/python3.11/site-packages/ibm_watsonx_ai/_wrappers/requests.py:722\u001b[39m, in \u001b[36m_with_retry.<locals>.decorator.<locals>.wrapper\u001b[39m\u001b[34m(self, *args, **kwargs)\u001b[39m\n\u001b[32m    720\u001b[39m \u001b[38;5;28;01mif\u001b[39;00m response \u001b[38;5;129;01mis\u001b[39;00m \u001b[38;5;129;01mnot\u001b[39;00m \u001b[38;5;28;01mNone\u001b[39;00m:\n\u001b[32m    721\u001b[39m     response.close()\n\u001b[32m--> \u001b[39m\u001b[32m722\u001b[39m response = \u001b[43mfunction\u001b[49m\u001b[43m(\u001b[49m\u001b[38;5;28;43mself\u001b[39;49m\u001b[43m,\u001b[49m\u001b[43m \u001b[49m\u001b[43m*\u001b[49m\u001b[43margs\u001b[49m\u001b[43m,\u001b[49m\u001b[43m \u001b[49m\u001b[43m*\u001b[49m\u001b[43m*\u001b[49m\u001b[43mkwargs\u001b[49m\u001b[43m)\u001b[49m\n\u001b[32m    724\u001b[39m \u001b[38;5;28;01mif\u001b[39;00m (\n\u001b[32m    725\u001b[39m     response.status_code \u001b[38;5;129;01min\u001b[39;00m wx_retry_status_codes\n\u001b[32m    726\u001b[39m ) \u001b[38;5;129;01mand\u001b[39;00m attempt != wx_max_retries:\n\u001b[32m    727\u001b[39m     \u001b[38;5;28;01mif\u001b[39;00m \u001b[38;5;28mself\u001b[39m._client.CLOUD_PLATFORM_SPACES:\n",
      "\u001b[36mFile \u001b[39m\u001b[32m~/anaconda3/envs/aiml25-exam/lib/python3.11/site-packages/ibm_watsonx_ai/foundation_models/inference/base_model_inference.py:1135\u001b[39m, in \u001b[36mBaseModelInference._post\u001b[39m\u001b[34m(self, http_client, *args, **kwargs)\u001b[39m\n\u001b[32m   1131\u001b[39m \u001b[38;5;129m@requests\u001b[39m._with_retry()\n\u001b[32m   1132\u001b[39m \u001b[38;5;28;01mdef\u001b[39;00m\u001b[38;5;250m \u001b[39m\u001b[34m_post\u001b[39m(\n\u001b[32m   1133\u001b[39m     \u001b[38;5;28mself\u001b[39m, http_client: Any, *args: Any, **kwargs: Any\n\u001b[32m   1134\u001b[39m ) -> httpx.Response | _requests.Response:\n\u001b[32m-> \u001b[39m\u001b[32m1135\u001b[39m     \u001b[38;5;28;01mreturn\u001b[39;00m \u001b[43mhttp_client\u001b[49m\u001b[43m.\u001b[49m\u001b[43mpost\u001b[49m\u001b[43m(\u001b[49m\u001b[43m*\u001b[49m\u001b[43margs\u001b[49m\u001b[43m,\u001b[49m\u001b[43m \u001b[49m\u001b[43m*\u001b[49m\u001b[43m*\u001b[49m\u001b[43mkwargs\u001b[49m\u001b[43m)\u001b[49m\n",
      "\u001b[36mFile \u001b[39m\u001b[32m~/anaconda3/envs/aiml25-exam/lib/python3.11/site-packages/ibm_watsonx_ai/_wrappers/requests.py:643\u001b[39m, in \u001b[36mHTTPXClient.post\u001b[39m\u001b[34m(self, url, content, json, headers, params, **kwargs)\u001b[39m\n\u001b[32m    640\u001b[39m     \u001b[38;5;28;01mif\u001b[39;00m headers \u001b[38;5;129;01mis\u001b[39;00m \u001b[38;5;129;01mnot\u001b[39;00m \u001b[38;5;28;01mNone\u001b[39;00m \u001b[38;5;129;01mand\u001b[39;00m headers.get(\u001b[33m\"\u001b[39m\u001b[33mContent-Type\u001b[39m\u001b[33m\"\u001b[39m) \u001b[38;5;129;01mis\u001b[39;00m \u001b[38;5;129;01mnot\u001b[39;00m \u001b[38;5;28;01mNone\u001b[39;00m:\n\u001b[32m    641\u001b[39m         headers[\u001b[33m\"\u001b[39m\u001b[33mContent-Type\u001b[39m\u001b[33m\"\u001b[39m] = \u001b[33m\"\u001b[39m\u001b[33mapplication/json\u001b[39m\u001b[33m\"\u001b[39m\n\u001b[32m--> \u001b[39m\u001b[32m643\u001b[39m response = \u001b[38;5;28;43msuper\u001b[39;49m\u001b[43m(\u001b[49m\u001b[43m)\u001b[49m\u001b[43m.\u001b[49m\u001b[43mpost\u001b[49m\u001b[43m(\u001b[49m\n\u001b[32m    644\u001b[39m \u001b[43m    \u001b[49m\u001b[43murl\u001b[49m\u001b[43m=\u001b[49m\u001b[43murl\u001b[49m\u001b[43m,\u001b[49m\n\u001b[32m    645\u001b[39m \u001b[43m    \u001b[49m\u001b[43mcontent\u001b[49m\u001b[43m=\u001b[49m\u001b[43mcontent\u001b[49m\u001b[43m,\u001b[49m\n\u001b[32m    646\u001b[39m \u001b[43m    \u001b[49m\u001b[43mheaders\u001b[49m\u001b[43m=\u001b[49m\u001b[43mheaders\u001b[49m\u001b[43m,\u001b[49m\n\u001b[32m    647\u001b[39m \u001b[43m    \u001b[49m\u001b[43mparams\u001b[49m\u001b[43m=\u001b[49m\u001b[43mparams\u001b[49m\u001b[43m,\u001b[49m\n\u001b[32m    648\u001b[39m \u001b[43m    \u001b[49m\u001b[43m*\u001b[49m\u001b[43m*\u001b[49m\u001b[43mkwargs\u001b[49m\u001b[43m,\u001b[49m\n\u001b[32m    649\u001b[39m \u001b[43m\u001b[49m\u001b[43m)\u001b[49m\n\u001b[32m    650\u001b[39m \u001b[38;5;28;01mreturn\u001b[39;00m response\n",
      "\u001b[36mFile \u001b[39m\u001b[32m~/anaconda3/envs/aiml25-exam/lib/python3.11/site-packages/httpx/_client.py:1144\u001b[39m, in \u001b[36mClient.post\u001b[39m\u001b[34m(self, url, content, data, files, json, params, headers, cookies, auth, follow_redirects, timeout, extensions)\u001b[39m\n\u001b[32m   1123\u001b[39m \u001b[38;5;28;01mdef\u001b[39;00m\u001b[38;5;250m \u001b[39m\u001b[34mpost\u001b[39m(\n\u001b[32m   1124\u001b[39m     \u001b[38;5;28mself\u001b[39m,\n\u001b[32m   1125\u001b[39m     url: URL | \u001b[38;5;28mstr\u001b[39m,\n\u001b[32m   (...)\u001b[39m\u001b[32m   1137\u001b[39m     extensions: RequestExtensions | \u001b[38;5;28;01mNone\u001b[39;00m = \u001b[38;5;28;01mNone\u001b[39;00m,\n\u001b[32m   1138\u001b[39m ) -> Response:\n\u001b[32m   1139\u001b[39m \u001b[38;5;250m    \u001b[39m\u001b[33;03m\"\"\"\u001b[39;00m\n\u001b[32m   1140\u001b[39m \u001b[33;03m    Send a `POST` request.\u001b[39;00m\n\u001b[32m   1141\u001b[39m \n\u001b[32m   1142\u001b[39m \u001b[33;03m    **Parameters**: See `httpx.request`.\u001b[39;00m\n\u001b[32m   1143\u001b[39m \u001b[33;03m    \"\"\"\u001b[39;00m\n\u001b[32m-> \u001b[39m\u001b[32m1144\u001b[39m     \u001b[38;5;28;01mreturn\u001b[39;00m \u001b[38;5;28;43mself\u001b[39;49m\u001b[43m.\u001b[49m\u001b[43mrequest\u001b[49m\u001b[43m(\u001b[49m\n\u001b[32m   1145\u001b[39m \u001b[43m        \u001b[49m\u001b[33;43m\"\u001b[39;49m\u001b[33;43mPOST\u001b[39;49m\u001b[33;43m\"\u001b[39;49m\u001b[43m,\u001b[49m\n\u001b[32m   1146\u001b[39m \u001b[43m        \u001b[49m\u001b[43murl\u001b[49m\u001b[43m,\u001b[49m\n\u001b[32m   1147\u001b[39m \u001b[43m        \u001b[49m\u001b[43mcontent\u001b[49m\u001b[43m=\u001b[49m\u001b[43mcontent\u001b[49m\u001b[43m,\u001b[49m\n\u001b[32m   1148\u001b[39m \u001b[43m        \u001b[49m\u001b[43mdata\u001b[49m\u001b[43m=\u001b[49m\u001b[43mdata\u001b[49m\u001b[43m,\u001b[49m\n\u001b[32m   1149\u001b[39m \u001b[43m        \u001b[49m\u001b[43mfiles\u001b[49m\u001b[43m=\u001b[49m\u001b[43mfiles\u001b[49m\u001b[43m,\u001b[49m\n\u001b[32m   1150\u001b[39m \u001b[43m        \u001b[49m\u001b[43mjson\u001b[49m\u001b[43m=\u001b[49m\u001b[43mjson\u001b[49m\u001b[43m,\u001b[49m\n\u001b[32m   1151\u001b[39m \u001b[43m        \u001b[49m\u001b[43mparams\u001b[49m\u001b[43m=\u001b[49m\u001b[43mparams\u001b[49m\u001b[43m,\u001b[49m\n\u001b[32m   1152\u001b[39m \u001b[43m        \u001b[49m\u001b[43mheaders\u001b[49m\u001b[43m=\u001b[49m\u001b[43mheaders\u001b[49m\u001b[43m,\u001b[49m\n\u001b[32m   1153\u001b[39m \u001b[43m        \u001b[49m\u001b[43mcookies\u001b[49m\u001b[43m=\u001b[49m\u001b[43mcookies\u001b[49m\u001b[43m,\u001b[49m\n\u001b[32m   1154\u001b[39m \u001b[43m        \u001b[49m\u001b[43mauth\u001b[49m\u001b[43m=\u001b[49m\u001b[43mauth\u001b[49m\u001b[43m,\u001b[49m\n\u001b[32m   1155\u001b[39m \u001b[43m        \u001b[49m\u001b[43mfollow_redirects\u001b[49m\u001b[43m=\u001b[49m\u001b[43mfollow_redirects\u001b[49m\u001b[43m,\u001b[49m\n\u001b[32m   1156\u001b[39m \u001b[43m        \u001b[49m\u001b[43mtimeout\u001b[49m\u001b[43m=\u001b[49m\u001b[43mtimeout\u001b[49m\u001b[43m,\u001b[49m\n\u001b[32m   1157\u001b[39m \u001b[43m        \u001b[49m\u001b[43mextensions\u001b[49m\u001b[43m=\u001b[49m\u001b[43mextensions\u001b[49m\u001b[43m,\u001b[49m\n\u001b[32m   1158\u001b[39m \u001b[43m    \u001b[49m\u001b[43m)\u001b[49m\n",
      "\u001b[36mFile \u001b[39m\u001b[32m~/anaconda3/envs/aiml25-exam/lib/python3.11/site-packages/httpx/_client.py:825\u001b[39m, in \u001b[36mClient.request\u001b[39m\u001b[34m(self, method, url, content, data, files, json, params, headers, cookies, auth, follow_redirects, timeout, extensions)\u001b[39m\n\u001b[32m    810\u001b[39m     warnings.warn(message, \u001b[38;5;167;01mDeprecationWarning\u001b[39;00m, stacklevel=\u001b[32m2\u001b[39m)\n\u001b[32m    812\u001b[39m request = \u001b[38;5;28mself\u001b[39m.build_request(\n\u001b[32m    813\u001b[39m     method=method,\n\u001b[32m    814\u001b[39m     url=url,\n\u001b[32m   (...)\u001b[39m\u001b[32m    823\u001b[39m     extensions=extensions,\n\u001b[32m    824\u001b[39m )\n\u001b[32m--> \u001b[39m\u001b[32m825\u001b[39m \u001b[38;5;28;01mreturn\u001b[39;00m \u001b[38;5;28;43mself\u001b[39;49m\u001b[43m.\u001b[49m\u001b[43msend\u001b[49m\u001b[43m(\u001b[49m\u001b[43mrequest\u001b[49m\u001b[43m,\u001b[49m\u001b[43m \u001b[49m\u001b[43mauth\u001b[49m\u001b[43m=\u001b[49m\u001b[43mauth\u001b[49m\u001b[43m,\u001b[49m\u001b[43m \u001b[49m\u001b[43mfollow_redirects\u001b[49m\u001b[43m=\u001b[49m\u001b[43mfollow_redirects\u001b[49m\u001b[43m)\u001b[49m\n",
      "\u001b[36mFile \u001b[39m\u001b[32m~/anaconda3/envs/aiml25-exam/lib/python3.11/site-packages/httpx/_client.py:914\u001b[39m, in \u001b[36mClient.send\u001b[39m\u001b[34m(self, request, stream, auth, follow_redirects)\u001b[39m\n\u001b[32m    910\u001b[39m \u001b[38;5;28mself\u001b[39m._set_timeout(request)\n\u001b[32m    912\u001b[39m auth = \u001b[38;5;28mself\u001b[39m._build_request_auth(request, auth)\n\u001b[32m--> \u001b[39m\u001b[32m914\u001b[39m response = \u001b[38;5;28;43mself\u001b[39;49m\u001b[43m.\u001b[49m\u001b[43m_send_handling_auth\u001b[49m\u001b[43m(\u001b[49m\n\u001b[32m    915\u001b[39m \u001b[43m    \u001b[49m\u001b[43mrequest\u001b[49m\u001b[43m,\u001b[49m\n\u001b[32m    916\u001b[39m \u001b[43m    \u001b[49m\u001b[43mauth\u001b[49m\u001b[43m=\u001b[49m\u001b[43mauth\u001b[49m\u001b[43m,\u001b[49m\n\u001b[32m    917\u001b[39m \u001b[43m    \u001b[49m\u001b[43mfollow_redirects\u001b[49m\u001b[43m=\u001b[49m\u001b[43mfollow_redirects\u001b[49m\u001b[43m,\u001b[49m\n\u001b[32m    918\u001b[39m \u001b[43m    \u001b[49m\u001b[43mhistory\u001b[49m\u001b[43m=\u001b[49m\u001b[43m[\u001b[49m\u001b[43m]\u001b[49m\u001b[43m,\u001b[49m\n\u001b[32m    919\u001b[39m \u001b[43m\u001b[49m\u001b[43m)\u001b[49m\n\u001b[32m    920\u001b[39m \u001b[38;5;28;01mtry\u001b[39;00m:\n\u001b[32m    921\u001b[39m     \u001b[38;5;28;01mif\u001b[39;00m \u001b[38;5;129;01mnot\u001b[39;00m stream:\n",
      "\u001b[36mFile \u001b[39m\u001b[32m~/anaconda3/envs/aiml25-exam/lib/python3.11/site-packages/httpx/_client.py:942\u001b[39m, in \u001b[36mClient._send_handling_auth\u001b[39m\u001b[34m(self, request, auth, follow_redirects, history)\u001b[39m\n\u001b[32m    939\u001b[39m request = \u001b[38;5;28mnext\u001b[39m(auth_flow)\n\u001b[32m    941\u001b[39m \u001b[38;5;28;01mwhile\u001b[39;00m \u001b[38;5;28;01mTrue\u001b[39;00m:\n\u001b[32m--> \u001b[39m\u001b[32m942\u001b[39m     response = \u001b[38;5;28;43mself\u001b[39;49m\u001b[43m.\u001b[49m\u001b[43m_send_handling_redirects\u001b[49m\u001b[43m(\u001b[49m\n\u001b[32m    943\u001b[39m \u001b[43m        \u001b[49m\u001b[43mrequest\u001b[49m\u001b[43m,\u001b[49m\n\u001b[32m    944\u001b[39m \u001b[43m        \u001b[49m\u001b[43mfollow_redirects\u001b[49m\u001b[43m=\u001b[49m\u001b[43mfollow_redirects\u001b[49m\u001b[43m,\u001b[49m\n\u001b[32m    945\u001b[39m \u001b[43m        \u001b[49m\u001b[43mhistory\u001b[49m\u001b[43m=\u001b[49m\u001b[43mhistory\u001b[49m\u001b[43m,\u001b[49m\n\u001b[32m    946\u001b[39m \u001b[43m    \u001b[49m\u001b[43m)\u001b[49m\n\u001b[32m    947\u001b[39m     \u001b[38;5;28;01mtry\u001b[39;00m:\n\u001b[32m    948\u001b[39m         \u001b[38;5;28;01mtry\u001b[39;00m:\n",
      "\u001b[36mFile \u001b[39m\u001b[32m~/anaconda3/envs/aiml25-exam/lib/python3.11/site-packages/httpx/_client.py:979\u001b[39m, in \u001b[36mClient._send_handling_redirects\u001b[39m\u001b[34m(self, request, follow_redirects, history)\u001b[39m\n\u001b[32m    976\u001b[39m \u001b[38;5;28;01mfor\u001b[39;00m hook \u001b[38;5;129;01min\u001b[39;00m \u001b[38;5;28mself\u001b[39m._event_hooks[\u001b[33m\"\u001b[39m\u001b[33mrequest\u001b[39m\u001b[33m\"\u001b[39m]:\n\u001b[32m    977\u001b[39m     hook(request)\n\u001b[32m--> \u001b[39m\u001b[32m979\u001b[39m response = \u001b[38;5;28;43mself\u001b[39;49m\u001b[43m.\u001b[49m\u001b[43m_send_single_request\u001b[49m\u001b[43m(\u001b[49m\u001b[43mrequest\u001b[49m\u001b[43m)\u001b[49m\n\u001b[32m    980\u001b[39m \u001b[38;5;28;01mtry\u001b[39;00m:\n\u001b[32m    981\u001b[39m     \u001b[38;5;28;01mfor\u001b[39;00m hook \u001b[38;5;129;01min\u001b[39;00m \u001b[38;5;28mself\u001b[39m._event_hooks[\u001b[33m\"\u001b[39m\u001b[33mresponse\u001b[39m\u001b[33m\"\u001b[39m]:\n",
      "\u001b[36mFile \u001b[39m\u001b[32m~/anaconda3/envs/aiml25-exam/lib/python3.11/site-packages/httpx/_client.py:1014\u001b[39m, in \u001b[36mClient._send_single_request\u001b[39m\u001b[34m(self, request)\u001b[39m\n\u001b[32m   1009\u001b[39m     \u001b[38;5;28;01mraise\u001b[39;00m \u001b[38;5;167;01mRuntimeError\u001b[39;00m(\n\u001b[32m   1010\u001b[39m         \u001b[33m\"\u001b[39m\u001b[33mAttempted to send an async request with a sync Client instance.\u001b[39m\u001b[33m\"\u001b[39m\n\u001b[32m   1011\u001b[39m     )\n\u001b[32m   1013\u001b[39m \u001b[38;5;28;01mwith\u001b[39;00m request_context(request=request):\n\u001b[32m-> \u001b[39m\u001b[32m1014\u001b[39m     response = \u001b[43mtransport\u001b[49m\u001b[43m.\u001b[49m\u001b[43mhandle_request\u001b[49m\u001b[43m(\u001b[49m\u001b[43mrequest\u001b[49m\u001b[43m)\u001b[49m\n\u001b[32m   1016\u001b[39m \u001b[38;5;28;01massert\u001b[39;00m \u001b[38;5;28misinstance\u001b[39m(response.stream, SyncByteStream)\n\u001b[32m   1018\u001b[39m response.request = request\n",
      "\u001b[36mFile \u001b[39m\u001b[32m~/anaconda3/envs/aiml25-exam/lib/python3.11/site-packages/httpx/_transports/default.py:250\u001b[39m, in \u001b[36mHTTPTransport.handle_request\u001b[39m\u001b[34m(self, request)\u001b[39m\n\u001b[32m    237\u001b[39m req = httpcore.Request(\n\u001b[32m    238\u001b[39m     method=request.method,\n\u001b[32m    239\u001b[39m     url=httpcore.URL(\n\u001b[32m   (...)\u001b[39m\u001b[32m    247\u001b[39m     extensions=request.extensions,\n\u001b[32m    248\u001b[39m )\n\u001b[32m    249\u001b[39m \u001b[38;5;28;01mwith\u001b[39;00m map_httpcore_exceptions():\n\u001b[32m--> \u001b[39m\u001b[32m250\u001b[39m     resp = \u001b[38;5;28;43mself\u001b[39;49m\u001b[43m.\u001b[49m\u001b[43m_pool\u001b[49m\u001b[43m.\u001b[49m\u001b[43mhandle_request\u001b[49m\u001b[43m(\u001b[49m\u001b[43mreq\u001b[49m\u001b[43m)\u001b[49m\n\u001b[32m    252\u001b[39m \u001b[38;5;28;01massert\u001b[39;00m \u001b[38;5;28misinstance\u001b[39m(resp.stream, typing.Iterable)\n\u001b[32m    254\u001b[39m \u001b[38;5;28;01mreturn\u001b[39;00m Response(\n\u001b[32m    255\u001b[39m     status_code=resp.status,\n\u001b[32m    256\u001b[39m     headers=resp.headers,\n\u001b[32m    257\u001b[39m     stream=ResponseStream(resp.stream),\n\u001b[32m    258\u001b[39m     extensions=resp.extensions,\n\u001b[32m    259\u001b[39m )\n",
      "\u001b[36mFile \u001b[39m\u001b[32m~/anaconda3/envs/aiml25-exam/lib/python3.11/site-packages/httpcore/_sync/connection_pool.py:256\u001b[39m, in \u001b[36mConnectionPool.handle_request\u001b[39m\u001b[34m(self, request)\u001b[39m\n\u001b[32m    253\u001b[39m         closing = \u001b[38;5;28mself\u001b[39m._assign_requests_to_connections()\n\u001b[32m    255\u001b[39m     \u001b[38;5;28mself\u001b[39m._close_connections(closing)\n\u001b[32m--> \u001b[39m\u001b[32m256\u001b[39m     \u001b[38;5;28;01mraise\u001b[39;00m exc \u001b[38;5;28;01mfrom\u001b[39;00m\u001b[38;5;250m \u001b[39m\u001b[38;5;28;01mNone\u001b[39;00m\n\u001b[32m    258\u001b[39m \u001b[38;5;66;03m# Return the response. Note that in this case we still have to manage\u001b[39;00m\n\u001b[32m    259\u001b[39m \u001b[38;5;66;03m# the point at which the response is closed.\u001b[39;00m\n\u001b[32m    260\u001b[39m \u001b[38;5;28;01massert\u001b[39;00m \u001b[38;5;28misinstance\u001b[39m(response.stream, typing.Iterable)\n",
      "\u001b[36mFile \u001b[39m\u001b[32m~/anaconda3/envs/aiml25-exam/lib/python3.11/site-packages/httpcore/_sync/connection_pool.py:236\u001b[39m, in \u001b[36mConnectionPool.handle_request\u001b[39m\u001b[34m(self, request)\u001b[39m\n\u001b[32m    232\u001b[39m connection = pool_request.wait_for_connection(timeout=timeout)\n\u001b[32m    234\u001b[39m \u001b[38;5;28;01mtry\u001b[39;00m:\n\u001b[32m    235\u001b[39m     \u001b[38;5;66;03m# Send the request on the assigned connection.\u001b[39;00m\n\u001b[32m--> \u001b[39m\u001b[32m236\u001b[39m     response = \u001b[43mconnection\u001b[49m\u001b[43m.\u001b[49m\u001b[43mhandle_request\u001b[49m\u001b[43m(\u001b[49m\n\u001b[32m    237\u001b[39m \u001b[43m        \u001b[49m\u001b[43mpool_request\u001b[49m\u001b[43m.\u001b[49m\u001b[43mrequest\u001b[49m\n\u001b[32m    238\u001b[39m \u001b[43m    \u001b[49m\u001b[43m)\u001b[49m\n\u001b[32m    239\u001b[39m \u001b[38;5;28;01mexcept\u001b[39;00m ConnectionNotAvailable:\n\u001b[32m    240\u001b[39m     \u001b[38;5;66;03m# In some cases a connection may initially be available to\u001b[39;00m\n\u001b[32m    241\u001b[39m     \u001b[38;5;66;03m# handle a request, but then become unavailable.\u001b[39;00m\n\u001b[32m    242\u001b[39m     \u001b[38;5;66;03m#\u001b[39;00m\n\u001b[32m    243\u001b[39m     \u001b[38;5;66;03m# In this case we clear the connection and try again.\u001b[39;00m\n\u001b[32m    244\u001b[39m     pool_request.clear_connection()\n",
      "\u001b[36mFile \u001b[39m\u001b[32m~/anaconda3/envs/aiml25-exam/lib/python3.11/site-packages/httpcore/_sync/connection.py:103\u001b[39m, in \u001b[36mHTTPConnection.handle_request\u001b[39m\u001b[34m(self, request)\u001b[39m\n\u001b[32m    100\u001b[39m     \u001b[38;5;28mself\u001b[39m._connect_failed = \u001b[38;5;28;01mTrue\u001b[39;00m\n\u001b[32m    101\u001b[39m     \u001b[38;5;28;01mraise\u001b[39;00m exc\n\u001b[32m--> \u001b[39m\u001b[32m103\u001b[39m \u001b[38;5;28;01mreturn\u001b[39;00m \u001b[38;5;28;43mself\u001b[39;49m\u001b[43m.\u001b[49m\u001b[43m_connection\u001b[49m\u001b[43m.\u001b[49m\u001b[43mhandle_request\u001b[49m\u001b[43m(\u001b[49m\u001b[43mrequest\u001b[49m\u001b[43m)\u001b[49m\n",
      "\u001b[36mFile \u001b[39m\u001b[32m~/anaconda3/envs/aiml25-exam/lib/python3.11/site-packages/httpcore/_sync/http11.py:136\u001b[39m, in \u001b[36mHTTP11Connection.handle_request\u001b[39m\u001b[34m(self, request)\u001b[39m\n\u001b[32m    134\u001b[39m     \u001b[38;5;28;01mwith\u001b[39;00m Trace(\u001b[33m\"\u001b[39m\u001b[33mresponse_closed\u001b[39m\u001b[33m\"\u001b[39m, logger, request) \u001b[38;5;28;01mas\u001b[39;00m trace:\n\u001b[32m    135\u001b[39m         \u001b[38;5;28mself\u001b[39m._response_closed()\n\u001b[32m--> \u001b[39m\u001b[32m136\u001b[39m \u001b[38;5;28;01mraise\u001b[39;00m exc\n",
      "\u001b[36mFile \u001b[39m\u001b[32m~/anaconda3/envs/aiml25-exam/lib/python3.11/site-packages/httpcore/_sync/http11.py:106\u001b[39m, in \u001b[36mHTTP11Connection.handle_request\u001b[39m\u001b[34m(self, request)\u001b[39m\n\u001b[32m     95\u001b[39m     \u001b[38;5;28;01mpass\u001b[39;00m\n\u001b[32m     97\u001b[39m \u001b[38;5;28;01mwith\u001b[39;00m Trace(\n\u001b[32m     98\u001b[39m     \u001b[33m\"\u001b[39m\u001b[33mreceive_response_headers\u001b[39m\u001b[33m\"\u001b[39m, logger, request, kwargs\n\u001b[32m     99\u001b[39m ) \u001b[38;5;28;01mas\u001b[39;00m trace:\n\u001b[32m    100\u001b[39m     (\n\u001b[32m    101\u001b[39m         http_version,\n\u001b[32m    102\u001b[39m         status,\n\u001b[32m    103\u001b[39m         reason_phrase,\n\u001b[32m    104\u001b[39m         headers,\n\u001b[32m    105\u001b[39m         trailing_data,\n\u001b[32m--> \u001b[39m\u001b[32m106\u001b[39m     ) = \u001b[38;5;28;43mself\u001b[39;49m\u001b[43m.\u001b[49m\u001b[43m_receive_response_headers\u001b[49m\u001b[43m(\u001b[49m\u001b[43m*\u001b[49m\u001b[43m*\u001b[49m\u001b[43mkwargs\u001b[49m\u001b[43m)\u001b[49m\n\u001b[32m    107\u001b[39m     trace.return_value = (\n\u001b[32m    108\u001b[39m         http_version,\n\u001b[32m    109\u001b[39m         status,\n\u001b[32m    110\u001b[39m         reason_phrase,\n\u001b[32m    111\u001b[39m         headers,\n\u001b[32m    112\u001b[39m     )\n\u001b[32m    114\u001b[39m network_stream = \u001b[38;5;28mself\u001b[39m._network_stream\n",
      "\u001b[36mFile \u001b[39m\u001b[32m~/anaconda3/envs/aiml25-exam/lib/python3.11/site-packages/httpcore/_sync/http11.py:177\u001b[39m, in \u001b[36mHTTP11Connection._receive_response_headers\u001b[39m\u001b[34m(self, request)\u001b[39m\n\u001b[32m    174\u001b[39m timeout = timeouts.get(\u001b[33m\"\u001b[39m\u001b[33mread\u001b[39m\u001b[33m\"\u001b[39m, \u001b[38;5;28;01mNone\u001b[39;00m)\n\u001b[32m    176\u001b[39m \u001b[38;5;28;01mwhile\u001b[39;00m \u001b[38;5;28;01mTrue\u001b[39;00m:\n\u001b[32m--> \u001b[39m\u001b[32m177\u001b[39m     event = \u001b[38;5;28;43mself\u001b[39;49m\u001b[43m.\u001b[49m\u001b[43m_receive_event\u001b[49m\u001b[43m(\u001b[49m\u001b[43mtimeout\u001b[49m\u001b[43m=\u001b[49m\u001b[43mtimeout\u001b[49m\u001b[43m)\u001b[49m\n\u001b[32m    178\u001b[39m     \u001b[38;5;28;01mif\u001b[39;00m \u001b[38;5;28misinstance\u001b[39m(event, h11.Response):\n\u001b[32m    179\u001b[39m         \u001b[38;5;28;01mbreak\u001b[39;00m\n",
      "\u001b[36mFile \u001b[39m\u001b[32m~/anaconda3/envs/aiml25-exam/lib/python3.11/site-packages/httpcore/_sync/http11.py:217\u001b[39m, in \u001b[36mHTTP11Connection._receive_event\u001b[39m\u001b[34m(self, timeout)\u001b[39m\n\u001b[32m    214\u001b[39m     event = \u001b[38;5;28mself\u001b[39m._h11_state.next_event()\n\u001b[32m    216\u001b[39m \u001b[38;5;28;01mif\u001b[39;00m event \u001b[38;5;129;01mis\u001b[39;00m h11.NEED_DATA:\n\u001b[32m--> \u001b[39m\u001b[32m217\u001b[39m     data = \u001b[38;5;28;43mself\u001b[39;49m\u001b[43m.\u001b[49m\u001b[43m_network_stream\u001b[49m\u001b[43m.\u001b[49m\u001b[43mread\u001b[49m\u001b[43m(\u001b[49m\n\u001b[32m    218\u001b[39m \u001b[43m        \u001b[49m\u001b[38;5;28;43mself\u001b[39;49m\u001b[43m.\u001b[49m\u001b[43mREAD_NUM_BYTES\u001b[49m\u001b[43m,\u001b[49m\u001b[43m \u001b[49m\u001b[43mtimeout\u001b[49m\u001b[43m=\u001b[49m\u001b[43mtimeout\u001b[49m\n\u001b[32m    219\u001b[39m \u001b[43m    \u001b[49m\u001b[43m)\u001b[49m\n\u001b[32m    221\u001b[39m     \u001b[38;5;66;03m# If we feed this case through h11 we'll raise an exception like:\u001b[39;00m\n\u001b[32m    222\u001b[39m     \u001b[38;5;66;03m#\u001b[39;00m\n\u001b[32m    223\u001b[39m     \u001b[38;5;66;03m#     httpcore.RemoteProtocolError: can't handle event type\u001b[39;00m\n\u001b[32m   (...)\u001b[39m\u001b[32m    227\u001b[39m     \u001b[38;5;66;03m# perspective. Instead we handle this case distinctly and treat\u001b[39;00m\n\u001b[32m    228\u001b[39m     \u001b[38;5;66;03m# it as a ConnectError.\u001b[39;00m\n\u001b[32m    229\u001b[39m     \u001b[38;5;28;01mif\u001b[39;00m data == \u001b[33mb\u001b[39m\u001b[33m\"\u001b[39m\u001b[33m\"\u001b[39m \u001b[38;5;129;01mand\u001b[39;00m \u001b[38;5;28mself\u001b[39m._h11_state.their_state == h11.SEND_RESPONSE:\n",
      "\u001b[36mFile \u001b[39m\u001b[32m~/anaconda3/envs/aiml25-exam/lib/python3.11/site-packages/httpcore/_backends/sync.py:128\u001b[39m, in \u001b[36mSyncStream.read\u001b[39m\u001b[34m(self, max_bytes, timeout)\u001b[39m\n\u001b[32m    126\u001b[39m \u001b[38;5;28;01mwith\u001b[39;00m map_exceptions(exc_map):\n\u001b[32m    127\u001b[39m     \u001b[38;5;28mself\u001b[39m._sock.settimeout(timeout)\n\u001b[32m--> \u001b[39m\u001b[32m128\u001b[39m     \u001b[38;5;28;01mreturn\u001b[39;00m \u001b[38;5;28;43mself\u001b[39;49m\u001b[43m.\u001b[49m\u001b[43m_sock\u001b[49m\u001b[43m.\u001b[49m\u001b[43mrecv\u001b[49m\u001b[43m(\u001b[49m\u001b[43mmax_bytes\u001b[49m\u001b[43m)\u001b[49m\n",
      "\u001b[36mFile \u001b[39m\u001b[32m~/anaconda3/envs/aiml25-exam/lib/python3.11/ssl.py:1295\u001b[39m, in \u001b[36mSSLSocket.recv\u001b[39m\u001b[34m(self, buflen, flags)\u001b[39m\n\u001b[32m   1291\u001b[39m     \u001b[38;5;28;01mif\u001b[39;00m flags != \u001b[32m0\u001b[39m:\n\u001b[32m   1292\u001b[39m         \u001b[38;5;28;01mraise\u001b[39;00m \u001b[38;5;167;01mValueError\u001b[39;00m(\n\u001b[32m   1293\u001b[39m             \u001b[33m\"\u001b[39m\u001b[33mnon-zero flags not allowed in calls to recv() on \u001b[39m\u001b[38;5;132;01m%s\u001b[39;00m\u001b[33m\"\u001b[39m %\n\u001b[32m   1294\u001b[39m             \u001b[38;5;28mself\u001b[39m.\u001b[34m__class__\u001b[39m)\n\u001b[32m-> \u001b[39m\u001b[32m1295\u001b[39m     \u001b[38;5;28;01mreturn\u001b[39;00m \u001b[38;5;28;43mself\u001b[39;49m\u001b[43m.\u001b[49m\u001b[43mread\u001b[49m\u001b[43m(\u001b[49m\u001b[43mbuflen\u001b[49m\u001b[43m)\u001b[49m\n\u001b[32m   1296\u001b[39m \u001b[38;5;28;01melse\u001b[39;00m:\n\u001b[32m   1297\u001b[39m     \u001b[38;5;28;01mreturn\u001b[39;00m \u001b[38;5;28msuper\u001b[39m().recv(buflen, flags)\n",
      "\u001b[36mFile \u001b[39m\u001b[32m~/anaconda3/envs/aiml25-exam/lib/python3.11/ssl.py:1168\u001b[39m, in \u001b[36mSSLSocket.read\u001b[39m\u001b[34m(self, len, buffer)\u001b[39m\n\u001b[32m   1166\u001b[39m         \u001b[38;5;28;01mreturn\u001b[39;00m \u001b[38;5;28mself\u001b[39m._sslobj.read(\u001b[38;5;28mlen\u001b[39m, buffer)\n\u001b[32m   1167\u001b[39m     \u001b[38;5;28;01melse\u001b[39;00m:\n\u001b[32m-> \u001b[39m\u001b[32m1168\u001b[39m         \u001b[38;5;28;01mreturn\u001b[39;00m \u001b[38;5;28;43mself\u001b[39;49m\u001b[43m.\u001b[49m\u001b[43m_sslobj\u001b[49m\u001b[43m.\u001b[49m\u001b[43mread\u001b[49m\u001b[43m(\u001b[49m\u001b[38;5;28;43mlen\u001b[39;49m\u001b[43m)\u001b[49m\n\u001b[32m   1169\u001b[39m \u001b[38;5;28;01mexcept\u001b[39;00m SSLError \u001b[38;5;28;01mas\u001b[39;00m x:\n\u001b[32m   1170\u001b[39m     \u001b[38;5;28;01mif\u001b[39;00m x.args[\u001b[32m0\u001b[39m] == SSL_ERROR_EOF \u001b[38;5;129;01mand\u001b[39;00m \u001b[38;5;28mself\u001b[39m.suppress_ragged_eofs:\n",
      "\u001b[31mKeyboardInterrupt\u001b[39m: "
     ]
    }
   ],
   "source": [
    "# Send each CV to the LLM with the job description\n",
    "for _, row in tqdm(df_cvs_it_test.iterrows(), total=len(df_cvs_it_test)):\n",
    "    resume = row['Resume_str']\n",
    "    prompt = build_match_prompt(job_description_it, resume)\n",
    "\n",
    "    print(\"[DEBUG] Prompt:\", repr(prompt))\n",
    "    \n",
    "    # Call the LLM\n",
    "    response = model.generate(prompt)\n",
    "\n",
    "    # Updated JSON extraction logic\n",
    "    raw_output = response[\"results\"][0][\"generated_text\"]\n",
    "    clean_output = re.sub(r\"json|\", \"\", raw_output).strip()\n",
    "\n",
    "    try:\n",
    "        match = re.search(r'\\{.*?\\}', clean_output, re.DOTALL)\n",
    "        if match:\n",
    "            parsed = json.loads(match.group())\n",
    "            scores.append(float(parsed.get(\"score\", 0)))\n",
    "            explanations.append(parsed.get(\"explanation\", \"\"))\n",
    "        else:\n",
    "            print(\"[ERROR] No JSON object found in output.\")\n",
    "            scores.append(0)\n",
    "            explanations.append(\"NO_JSON\")\n",
    "    except Exception as e:\n",
    "        print(f\"[ERROR] Failed to parse JSON: {e}\")\n",
    "        print(\"[RAW OUTPUT]\", clean_output)\n",
    "        scores.append(0)\n",
    "        explanations.append(\"PARSE_ERROR\")"
   ]
  },
  {
   "cell_type": "code",
   "execution_count": 59,
   "id": "b108eb3a",
   "metadata": {},
   "outputs": [
    {
     "name": "stdout",
     "output_type": "stream",
     "text": [
      "CV 1 - Score: 2.0, Explanation: The candidate's background is primarily in marketing, communications, and public relations, with no mention of mainframe application development, SDLC methodologies, or Hyperion experience required for the Business Systems Analyst role.\n"
     ]
    },
    {
     "ename": "IndexError",
     "evalue": "list index out of range",
     "output_type": "error",
     "traceback": [
      "\u001b[31m---------------------------------------------------------------------------\u001b[39m",
      "\u001b[31mIndexError\u001b[39m                                Traceback (most recent call last)",
      "\u001b[36mCell\u001b[39m\u001b[36m \u001b[39m\u001b[32mIn[59]\u001b[39m\u001b[32m, line 3\u001b[39m\n\u001b[32m      1\u001b[39m \u001b[38;5;66;03m# Print the scores and explanations\u001b[39;00m\n\u001b[32m      2\u001b[39m \u001b[38;5;28;01mfor\u001b[39;00m i, row \u001b[38;5;129;01min\u001b[39;00m df_cvs_it_test.iterrows():\n\u001b[32m----> \u001b[39m\u001b[32m3\u001b[39m     \u001b[38;5;28mprint\u001b[39m(\u001b[33mf\u001b[39m\u001b[33m\"\u001b[39m\u001b[33mCV \u001b[39m\u001b[38;5;132;01m{\u001b[39;00mi+\u001b[32m1\u001b[39m\u001b[38;5;132;01m}\u001b[39;00m\u001b[33m - Score: \u001b[39m\u001b[38;5;132;01m{\u001b[39;00m\u001b[43mscores\u001b[49m\u001b[43m[\u001b[49m\u001b[43mi\u001b[49m\u001b[43m]\u001b[49m\u001b[38;5;132;01m}\u001b[39;00m\u001b[33m, Explanation: \u001b[39m\u001b[38;5;132;01m{\u001b[39;00mexplanations[i]\u001b[38;5;132;01m}\u001b[39;00m\u001b[33m\"\u001b[39m)\n",
      "\u001b[31mIndexError\u001b[39m: list index out of range"
     ]
    }
   ],
   "source": [
    "# Print the scores and explanations\n",
    "for i, row in df_cvs_it_test.iterrows():\n",
    "    print(f\"CV {i+1} - Score: {scores[i]}, Explanation: {explanations[i]}\")"
   ]
  },
  {
   "cell_type": "code",
   "execution_count": 31,
   "id": "3545d1aa",
   "metadata": {},
   "outputs": [
    {
     "name": "stderr",
     "output_type": "stream",
     "text": [
      "100%|██████████| 30/30 [00:00<00:00, 9606.74it/s]"
     ]
    },
    {
     "name": "stdout",
     "output_type": "stream",
     "text": [
      "Full prompt:\n",
      " \n",
      "You are a recruitment assistant.\n",
      "\n",
      "Your task is to evaluate how well the candidate's CV (full text of CV) matches the job description (full text of job description).\n",
      "\n",
      "Give:\n",
      "1. A match score from 0 to 10, where 0 = very poor fit and 10 = excellent fit.\n",
      "2. A short explanation (max 2 sentences) justifying the score.\n",
      "\n",
      "JOB DESCRIPTION:\n",
      "RESPONSIBILITIES:Kforce has a client in Irvine, CA that is searching for a Business Systems Analyst - Sales Operations.Responsibilities: Perform application development and maintenance support of application systems under direct supervision Will work closely with coworkers in a team oriented environment Act as lead on small enhancements and support items Provide analytical and application development support of applications for Sales Operation systems under direct supervision Design, develop and maintain systems Meets with end usersREQUIREMENTS: Must have mainframe application development experience Must have experience adhering to SDLC methodologies Extensive knowledge in mainframe based development Experienced with Hyperion (implementation experience a plus) Experience with Java and Web Services Must be able to communicate effectively with customers and coworkers to enhance customer satisfaction Must be a sound team player with initiative, resourcefulness and high level of professionalismKforce is an Equal Opportunity/Affirmative Action Employer. All qualified applicants will receive consideration for employment without regard to race, color, religion, sex, pregnancy, sexual orientation, gender identity, national origin, age, protected veteran status, or disability status.\n",
      "\n",
      "CANDIDATE RESUME:\n",
      "         ENGINEERING SUPERVISOR             Skills        PLC: IEC 61131 (Ladder Logic, Functional Block Diagram, Structured Text, Instruction List. ), Java, C, Visual Basic, VHDL, PSpice, Assembly (Intel, Motorola, TI), Labview.\n",
      "Software Packages:\tAutoCAD, Inventor, Matlab, Microsoft Office, PSIM, Easy Power, Xilinx ISE, Printed Circuit Board CAD (Protel), Siemens Step 7, Wago CoDeSys, Allen Bradley RSLogix, ERP (Alliance, Global Shop, XA, SAP).              Professional Experience      Engineering Supervisor    December 2014   to   Current     Company Name   -   City  ,   State      Leading and supervising engineering staff members as they perform their tasks and participating in budgeting, scheduling, and staff management.  Establishing design standards, specifications, criteria, scheduling and resource-management for products and projects.  Working closely with product line management to serve clients' aftermarket needs.  Recommending and implementing improvements to engineering processes, methods and controls; conferring with management, production and other departments regarding manufacturing capabilities, production schedules, and other considerations to maximize efficiencies.          Electrical Design Engineer    May 2011   to   December 2014     Company Name   -   City  ,   State      Identifying products within line of variable frequency drives, switchboards, generator control cabinets and PLC based control consoles having potential for improvement.  Developing new products used in power systems product-line.  Composing documents outlining the projects design, verification and validation process in accordance with API standards.  Modeling the new/improved products using computer simulation tools in order to confirm specified performance.  New/improved products comprehensive hardware design and complete software integration.  Creating bill of materials, one-line drawings, schematics, layouts and instruction to manufacture prototypes.  Developing test procedures to verify prototypes performance.  Specific Projects: Custom pre-charge circuit for VFD systems with multiple inverters and common rectifier.  24VDC overvoltage relay for protection of 24VDC control devices against overvoltage.  Standalone VFD house for raising derrick mast, test Topdrives and other applications IECEx/ATEX certification of low voltage motors (600V, 1800HP).  Design of new motor testing facility using common DC link VFDs to replace Active Front End Drives.  Commissioning of Siemens VFD lineup.          Project Engineer    October 2008   to   May 2011     Company Name   -   City  ,   State      Designing generator control systems, variable frequency drives, dynamic braking cabinets, switchboards, panel boards, jacking switchgears, PLC based control consoles and remote IO boxes for land and offshore rigs.  Developing bill of materials, block diagrams, electrical one-lines, detailed schematics and interconnection cabling diagrams.* Supervising production process of designed systems.  Composing factory acceptance test procedures for manufactured products and supervising the procedures.  Performing detailed troubleshooting of drilling equipment using computer simulations and by testing equipment on site and in the field.  Traveling to customer site to meet with client, test, troubleshoot and commission the product.  As the project manager, leading the team of onsite manufacturing staff, vendors and subcontractors.  Performing technical studies including center of gravity calculation, motor model, short circuit, breaker coordination, harmonic calculation (IEEE 519), arc flash, fault analysis, voltage drop and power flow study to obtain certifications for designed equipment.  Compiling technical and non-technical reports to describe products.  Specific Projects: Kencana KM-1 tender drilling unit, Kencana Shipyard, Malaysia: VFDs, MCCs, generator controls, panel boards (480V and above) and control consoles.  Friede and Goldman: VFD based jacking switchgears and control console.  Remedial Offshore: VFD lineup, control and IO consoles.  Xtreme Drilling and Coil: standalone VFD lineup, control and IO consoles.  Shengli: Jacking switchgear.          Facility Engineer    August 2006   to   October 2008     Company Name   -   City  ,   State      Power distribution General Responsibilities: Composing proposals, estimates and construction drawings for lighting, low and medium voltage power distribution, grounding and alternative power generation systems.  Responsible for the campus renovations, environmental safety, automation, controls and HVAC needs.  Specific Projects: New testing facilities for several engineering departments.  Renovation of buildings HVAC system.  Conversion of 2.4kV power distribution to 12.5kV.  Golf cart charging station with solar panel roof.          Automation engineer, Intern    January 2005   to   August 2006     Company Name   -   City  ,   State      Design and implementation of microprocessor based monitoring systems for laser spectrometers.          Education and Training      Bachelor of Science   :   Electrical and Computer Engineering  ,   Aug 2006    University of Oklahoma   -   City  ,   State      GPA:   GPA: 3.73 GPA: 3.78    Electrical and Computer Engineering GPA: 3.73 GPA: 3.78          Skills    API, AutoCAD, automation, budgeting, C, cabling, CAD, Conversion, client, clients, DC, Designing, ERP, flash, Functional, hardware design, HP, HVAC, instruction, Intel, Java, Labview, laser, lighting, Logic, materials, Matlab, microprocessor, Microsoft Office, Modeling, Motorola, PLC, Power distribution, power generation, processes, Programming, proposals, Protel, PSpice, Renovation, renovations, safety, SAP, scheduling, schematics, Siemens, simulation, staff management, Step 7, Structured, Supervising, switchgear, tender, troubleshoot, troubleshooting, validation, VHDL, Visual Basic, XA   \n",
      "\n",
      "Respond strictly in this JSON format (no markdown, no explanations before or after), which serves an example for your response:\n",
      "{\n",
      "  \"score\": 8,\n",
      "  \"explanation\": \"The candidate has relevant engineering and Java experience, but lacks SDLC and Hyperion knowledge.\"\n",
      "}\n",
      "\n",
      "### END\n",
      "\n",
      "[DEBUG] Prompt length (chars): 7827\n"
     ]
    },
    {
     "name": "stderr",
     "output_type": "stream",
     "text": [
      "\n"
     ]
    }
   ],
   "source": [
    "# Send each CV to the LLM with the job description\n",
    "for _, row in tqdm(df_cvs_it_test.iterrows(), total=len(df_cvs_it_test)):\n",
    "    resume = row['Resume_str']\n",
    "    prompt = build_match_prompt(job_description_it, resume)\n",
    "\n",
    "    if _ == 0:  # Only print the first one\n",
    "        print(\"Full prompt:\\n\", prompt)\n",
    "        print(\"[DEBUG] Prompt length (chars):\", len(prompt))"
   ]
  },
  {
   "cell_type": "code",
   "execution_count": null,
   "id": "9fbc5bf5",
   "metadata": {},
   "outputs": [],
   "source": []
  }
 ],
 "metadata": {
  "kernelspec": {
   "display_name": "aiml25-exam",
   "language": "python",
   "name": "python3"
  },
  "language_info": {
   "codemirror_mode": {
    "name": "ipython",
    "version": 3
   },
   "file_extension": ".py",
   "mimetype": "text/x-python",
   "name": "python",
   "nbconvert_exporter": "python",
   "pygments_lexer": "ipython3",
   "version": "3.11.12"
  }
 },
 "nbformat": 4,
 "nbformat_minor": 5
}
