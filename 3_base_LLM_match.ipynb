{
 "cells": [
  {
   "cell_type": "code",
   "execution_count": 1,
   "id": "eb2ab16c",
   "metadata": {},
   "outputs": [],
   "source": [
    "# Imports\n",
    "import pandas as pd\n",
    "from sklearn.model_selection import train_test_split\n",
    "from ibm_watsonx_ai import APIClient, Credentials\n",
    "from ibm_watsonx_ai.foundation_models import ModelInference\n",
    "from ibm_watsonx_ai.foundation_models.schema import TextGenParameters\n",
    "from sklearn.metrics import classification_report \n",
    "from tqdm import tqdm\n",
    "from decouple import config\n",
    "import json\n",
    "import re\n",
    "import time"
   ]
  },
  {
   "cell_type": "code",
   "execution_count": 2,
   "id": "d225d315",
   "metadata": {},
   "outputs": [
    {
     "name": "stdout",
     "output_type": "stream",
     "text": [
      "<class 'pandas.core.frame.DataFrame'>\n",
      "RangeIndex: 7964 entries, 0 to 7963\n",
      "Data columns (total 15 columns):\n",
      " #   Column           Non-Null Count  Dtype \n",
      "---  ------           --------------  ----- \n",
      " 0   country          7964 non-null   object\n",
      " 1   country_code     7964 non-null   object\n",
      " 2   date_added       49 non-null     object\n",
      " 3   has_expired      7964 non-null   object\n",
      " 4   job_board        7964 non-null   object\n",
      " 5   job_description  7964 non-null   object\n",
      " 6   job_title        7964 non-null   object\n",
      " 7   job_type         7418 non-null   object\n",
      " 8   location         7964 non-null   object\n",
      " 9   organization     5616 non-null   object\n",
      " 10  page_url         7964 non-null   object\n",
      " 11  salary           1277 non-null   object\n",
      " 12  sector           6131 non-null   object\n",
      " 13  uniq_id          7964 non-null   object\n",
      " 14  predictions      7964 non-null   object\n",
      "dtypes: object(15)\n",
      "memory usage: 933.4+ KB\n"
     ]
    }
   ],
   "source": [
    "# Read the CSV file for jobposts into a DataFrame\n",
    "df_jobposts = pd.read_csv('data/processed/jobposts.csv')\n",
    "df_jobposts.info()\n",
    "# sample_df = df.sample(frac=0.05, random_state=42)"
   ]
  },
  {
   "cell_type": "code",
   "execution_count": 3,
   "id": "9a2ec9b5",
   "metadata": {},
   "outputs": [
    {
     "name": "stdout",
     "output_type": "stream",
     "text": [
      "predictions\n",
      "SALES                     1365\n",
      "HEALTHCARE                1193\n",
      "ENGINEERING               1107\n",
      "INFORMATION-TECHNOLOGY    1056\n",
      "CONSTRUCTION               710\n",
      "CHEF                       419\n",
      "ACCOUNTANT                 386\n",
      "HR                         341\n",
      "AUTOMOBILE                 283\n",
      "ADVOCATE                   250\n",
      "FINANCE                    211\n",
      "BUSINESS-DEVELOPMENT       140\n",
      "PUBLIC-RELATIONS           125\n",
      "AGRICULTURE                 81\n",
      "TEACHER                     68\n",
      "AVIATION                    52\n",
      "CONSULTANT                  42\n",
      "APPAREL                     33\n",
      "BANKING                     31\n",
      "DESIGNER                    29\n",
      "DIGITAL-MEDIA               27\n",
      "FITNESS                     10\n",
      "ARTS                         5\n",
      "Name: count, dtype: int64\n"
     ]
    }
   ],
   "source": [
    "# Count and list unique job categories\n",
    "print(df_jobposts['predictions'].value_counts())"
   ]
  },
  {
   "cell_type": "code",
   "execution_count": 4,
   "id": "acf90054",
   "metadata": {},
   "outputs": [],
   "source": [
    "# Filter for the 5 target categories\n",
    "categories = ['INFORMATION-TECHNOLOGY', 'FINANCE', 'SALES', 'HEALTHCARE', 'HR']\n",
    "df_filtered = df_jobposts[df_jobposts['predictions'].isin(categories)]\n",
    "\n",
    "# Sample 2 job postings per category\n",
    "df_sampled = df_filtered.groupby('predictions', group_keys=False).sample(n=2, random_state=42)\n",
    "\n",
    "# Reduce to relevant columns\n",
    "df_sampled = df_sampled[['predictions', 'job_description']]"
   ]
  },
  {
   "cell_type": "code",
   "execution_count": null,
   "id": "ae80273e",
   "metadata": {},
   "outputs": [],
   "source": [
    "# Split into separate DataFrames\n",
    "df_it = df_sampled[df_sampled['predictions'] == 'INFORMATION-TECHNOLOGY'] # take 1\n",
    "df_finance = df_sampled[df_sampled['predictions'] == 'FINANCE']\n",
    "df_sales = df_sampled[df_sampled['predictions'] == 'SALES'] # take 1\n",
    "df_healthcare = df_sampled[df_sampled['predictions'] == 'HEALTHCARE']\n",
    "df_hr = df_sampled[df_sampled['predictions'] == 'HR'] # take 1\n"
   ]
  },
  {
   "cell_type": "code",
   "execution_count": 6,
   "id": "fd719c61",
   "metadata": {},
   "outputs": [
    {
     "name": "stdout",
     "output_type": "stream",
     "text": [
      "                predictions                                    job_description\n",
      "194                 FINANCE  Liability Claims Team LeadCLAIM YOUR FUTURE AS...\n",
      "534                 FINANCE  Report this job About the Job **Manager, Cash ...\n",
      "57               HEALTHCARE  The Quality Assurance Manager will be responsi...\n",
      "432              HEALTHCARE  Full-TimeOklahoma City, OK Job #:CLedmOK058499...\n",
      "318                      HR  The Human Resource Consulting Group, LLC (HRCG...\n",
      "174                      HR  Kforce is one of the premier leaders in the st...\n",
      "160  INFORMATION-TECHNOLOGY  RESPONSIBILITIES:Kforce has a client in Irvine...\n",
      "187  INFORMATION-TECHNOLOGY  Recruiter to Contact: JC CaoJob Title: Project...\n",
      "133                   SALES  Summary Event Specialist Part Time Sales   Are...\n",
      "52                    SALES  Overview   Let's Grow Together! We are a fast-...\n"
     ]
    }
   ],
   "source": [
    "print(df_sampled)"
   ]
  },
  {
   "cell_type": "code",
   "execution_count": 7,
   "id": "97c601f9",
   "metadata": {},
   "outputs": [
    {
     "name": "stdout",
     "output_type": "stream",
     "text": [
      "Summary Event Specialist Part Time Sales   Are you outgoing, friendly and enjoy meeting new people?  Our part time Event Specialist jobs are fun and exciting and could be a great fit for you! Join our winning team as a retail demonstrator promoting best in class products at your local retailers. You can be the brand ambassador who excels in captivating an audience during in-store events, with an emphasis on brand awareness, product demonstration and sales. The in-store demonstrator is responsible for reviewing program materials, set up and break down of the work area, and the preparation and sampling of products on scheduled event days. Take this chance to join the largest sales and marketing agency in North America, Advantage Solutions, where you will receive top-notch training and competitive pay rates.          Responsibilities:   Set up, break down, product preparation and sampling during in-store demonstrations Generate brand awareness and positive product impressions to increase sales Assess customers individual usage needs and interests in order to best recommend products Timely complete of all call reports, paperwork, and on-going personal training by required deadlines   Qualifications:   High School Diploma preferred or equivalent job-related experience Experience in event marketing, demonstrations, sales, brand promotion or retail/grocery Interact in a friendly, enthusiastic, energetic and outgoing manner with management, clients, and consumers in any setting Stand comfortably for up to 6 hours a day Able to work independently and as a motivated team player Ability to work a part-time retail schedule, Monday through Sunday Minimal travel required for training or other scheduled events Daily access to a PC computer with internet/email access   Advantage Solutions is one of North America’s leading sales and marketing agencies specializing in outsourced sales, merchandising, category management and marketing services to manufacturers, suppliers and producers of food products and consumer packaged goods. Advantage Solutions services a variety of trade channels including grocery, mass merchandise, specialty, convenience, drug, dollar, club, hardware, consumer electronics and home centers. We bridge the gap between manufacturers and retailers, providing consumers access to the best products available in the marketplace today.   Advantage Sales and Marketing, LLC dba Advantage Solutions is proud to be an Equal Opportunity Employer.\n"
     ]
    }
   ],
   "source": [
    "# Print the column job \"description\" of 7th row\n",
    "print(df_sampled.iloc[8]['job_description'])"
   ]
  },
  {
   "cell_type": "code",
   "execution_count": 8,
   "id": "2216c620",
   "metadata": {},
   "outputs": [
    {
     "name": "stdout",
     "output_type": "stream",
     "text": [
      "<class 'pandas.core.frame.DataFrame'>\n",
      "RangeIndex: 2484 entries, 0 to 2483\n",
      "Data columns (total 4 columns):\n",
      " #   Column       Non-Null Count  Dtype \n",
      "---  ------       --------------  ----- \n",
      " 0   ID           2484 non-null   int64 \n",
      " 1   Resume_str   2484 non-null   object\n",
      " 2   Resume_html  2484 non-null   object\n",
      " 3   Category     2484 non-null   object\n",
      "dtypes: int64(1), object(3)\n",
      "memory usage: 77.8+ KB\n"
     ]
    }
   ],
   "source": [
    "# Read the CSV file for CVs into a DataFrame\n",
    "df_cvs = pd.read_csv('data/resume.csv')\n",
    "df_cvs.info()"
   ]
  },
  {
   "cell_type": "code",
   "execution_count": 9,
   "id": "ab33952e",
   "metadata": {},
   "outputs": [
    {
     "name": "stdout",
     "output_type": "stream",
     "text": [
      "         ID                                         Resume_str  \\\n",
      "0  16852973           HR ADMINISTRATOR/MARKETING ASSOCIATE\\...   \n",
      "1  22323967           HR SPECIALIST, US HR OPERATIONS      ...   \n",
      "2  33176873           HR DIRECTOR       Summary      Over 2...   \n",
      "3  27018550           HR SPECIALIST       Summary    Dedica...   \n",
      "4  17812897           HR MANAGER         Skill Highlights  ...   \n",
      "\n",
      "                                         Resume_html Category  \n",
      "0  <div class=\"fontsize fontface vmargins hmargin...       HR  \n",
      "1  <div class=\"fontsize fontface vmargins hmargin...       HR  \n",
      "2  <div class=\"fontsize fontface vmargins hmargin...       HR  \n",
      "3  <div class=\"fontsize fontface vmargins hmargin...       HR  \n",
      "4  <div class=\"fontsize fontface vmargins hmargin...       HR  \n"
     ]
    }
   ],
   "source": [
    "# Print head of CVs dataframe\n",
    "print(df_cvs.head())"
   ]
  },
  {
   "cell_type": "code",
   "execution_count": 10,
   "id": "2fc062be",
   "metadata": {},
   "outputs": [
    {
     "name": "stdout",
     "output_type": "stream",
     "text": [
      "Category\n",
      "INFORMATION-TECHNOLOGY    120\n",
      "BUSINESS-DEVELOPMENT      120\n",
      "FINANCE                   118\n",
      "ADVOCATE                  118\n",
      "ACCOUNTANT                118\n",
      "ENGINEERING               118\n",
      "CHEF                      118\n",
      "AVIATION                  117\n",
      "FITNESS                   117\n",
      "SALES                     116\n",
      "BANKING                   115\n",
      "HEALTHCARE                115\n",
      "CONSULTANT                115\n",
      "CONSTRUCTION              112\n",
      "PUBLIC-RELATIONS          111\n",
      "HR                        110\n",
      "DESIGNER                  107\n",
      "ARTS                      103\n",
      "TEACHER                   102\n",
      "APPAREL                    97\n",
      "DIGITAL-MEDIA              96\n",
      "AGRICULTURE                63\n",
      "AUTOMOBILE                 36\n",
      "BPO                        22\n",
      "Name: count, dtype: int64\n"
     ]
    }
   ],
   "source": [
    "# Count and list unique job categories of CVs\n",
    "print(df_cvs['Category'].value_counts())"
   ]
  },
  {
   "cell_type": "code",
   "execution_count": 43,
   "id": "b67e9ee4",
   "metadata": {},
   "outputs": [
    {
     "name": "stdout",
     "output_type": "stream",
     "text": [
      "Category\n",
      "INFORMATION-TECHNOLOGY    5\n",
      "ENGINEERING               2\n",
      "PUBLIC-RELATIONS          1\n",
      "DIGITAL-MEDIA             1\n",
      "FINANCE                   1\n",
      "Name: count, dtype: int64\n",
      "         ID                                         Resume_str  \\\n",
      "0  61319162           MARKETING AND COMMUNICATIONS DIRECTOR...   \n",
      "1  20237244           INFORMATION TECHNOLOGY SPECIALIST    ...   \n",
      "2  23085604           CHIEF SYSTEM ARCHITECT, SVP SYSTEM IN...   \n",
      "3  24083609           INFORMATION TECHNOLOGY SPECIALIST (IN...   \n",
      "4  21298336           ENGINEERING INTERN         Summary   ...   \n",
      "\n",
      "                                         Resume_html                Category  \n",
      "0  <div class=\"fontsize fontface vmargins hmargin...        PUBLIC-RELATIONS  \n",
      "1  <div class=\"fontsize fontface vmargins hmargin...  INFORMATION-TECHNOLOGY  \n",
      "2  <div class=\"fontsize fontface vmargins hmargin...           DIGITAL-MEDIA  \n",
      "3  <div class=\"fontsize fontface vmargins hmargin...  INFORMATION-TECHNOLOGY  \n",
      "4  <div class=\"fontsize fontface vmargins hmargin...             ENGINEERING  \n"
     ]
    }
   ],
   "source": [
    "# Take 50% relevant and 50% irrelevant CVs (30 CVs total)\n",
    "# Filter CVs by category\n",
    "relevant_cvs = df_cvs[df_cvs['Category'] == 'INFORMATION-TECHNOLOGY'].sample(n=5, random_state=42)\n",
    "\n",
    "irrelevant_cvs = df_cvs[df_cvs['Category'] != 'INFORMATION-TECHNOLOGY'].sample(n=5, random_state=42)\n",
    "\n",
    "# Combine into one 100-row dataset\n",
    "df_cvs_it_test = pd.concat([relevant_cvs, irrelevant_cvs], ignore_index=True)\n",
    "\n",
    "# Shuffle the result (so the LLM doesn't learn order)\n",
    "df_cvs_it_test = df_cvs_it_test.sample(frac=1, random_state=42).reset_index(drop=True)\n",
    "\n",
    "# Print the unique categories in the CVs DataFrame\n",
    "print(df_cvs_it_test['Category'].value_counts())\n",
    "\n",
    "# Print the first 5 rows of the CVs DataFrame\n",
    "print(df_cvs_it_test.head())"
   ]
  },
  {
   "cell_type": "code",
   "execution_count": 62,
   "id": "e92eccee",
   "metadata": {},
   "outputs": [],
   "source": [
    "# Define model setup and parameters\n",
    "# Load credentials\n",
    "WX_API_KEY = config(\"WX_API_KEY\")\n",
    "WX_PROJECT_ID = config(\"WX_PROJECT_ID\")\n",
    "WX_API_URL = \"https://us-south.ml.cloud.ibm.com\"\n",
    "\n",
    "# Create client\n",
    "credentials = Credentials(\n",
    "    api_key=WX_API_KEY,\n",
    "    url=WX_API_URL,\n",
    ")\n",
    "client = APIClient(\n",
    "    credentials=credentials,\n",
    "    project_id=WX_PROJECT_ID,\n",
    ")\n",
    "\n",
    "# Define generation parameters\n",
    "PARAMS = TextGenParameters(\n",
    "    temperature=0,\n",
    "    max_new_tokens=200,\n",
    "    stop_sequences=[\"### END\"]\n",
    ")\n",
    "\n",
    "# Load the model (same as in your previous assignments)\n",
    "model = ModelInference(\n",
    "    api_client=client,\n",
    "    model_id=\"meta-llama/llama-3-3-70b-instruct\",\n",
    "    params=PARAMS\n",
    ")"
   ]
  },
  {
   "cell_type": "code",
   "execution_count": null,
   "id": "3f0d2773",
   "metadata": {},
   "outputs": [],
   "source": [
    "# Select the first job posting from the IT category\n",
    "job_description_it = df_it.iloc[0]['job_description']\n",
    "\n",
    "# Create empty lists to hold scores and explanations\n",
    "scores = []\n",
    "explanations = []\n",
    "\n",
    "# Define the prompt template\n",
    "# TODO: check for transferable skills that are also applicable to other categories\n",
    "# TODO: 100 CVs per category\n",
    "def build_match_prompt(job_description: str, resume_text: str) -> str:\n",
    "    return f\"\"\"\n",
    "You are a recruitment assistant.\n",
    "\n",
    "Your task is to evaluate how well the candidate's CV (full text of CV) matches the job description (full text of job description).\n",
    "\n",
    "Give:\n",
    "1. A match score from 0 to 10, where 0 = very poor fit and 10 = excellent fit.\n",
    "2. A short explanation (max 2 sentences) justifying the score.\n",
    "\n",
    "JOB DESCRIPTION:\n",
    "{job_description}\n",
    "\n",
    "CANDIDATE RESUME:\n",
    "{resume_text}\n",
    "\n",
    "Respond strictly in this JSON format (no markdown, no explanations before or after), which serves an example for your response:\n",
    "{{\n",
    "  \"score\": 8,\n",
    "  \"explanation\": \"The candidate has relevant engineering and Java experience, but lacks SDLC and Hyperion knowledge.\"\n",
    "}}\n",
    "\n",
    "### END\n",
    "\"\"\""
   ]
  },
  {
   "cell_type": "code",
   "execution_count": 63,
   "id": "c54304ee",
   "metadata": {},
   "outputs": [
    {
     "name": "stderr",
     "output_type": "stream",
     "text": [
      "  0%|          | 0/10 [00:00<?, ?it/s]"
     ]
    },
    {
     "name": "stdout",
     "output_type": "stream",
     "text": [
      "[DEBUG] Prompt: '\\nYou are a recruitment assistant.\\n\\nYour task is to evaluate how well the candidate\\'s CV (full text of CV) matches the job description (full text of job description).\\n\\nGive:\\n1. A match score from 0 to 10, where 0 = very poor fit and 10 = excellent fit.\\n2. A short explanation (max 2 sentences) justifying the score.\\n\\nJOB DESCRIPTION:\\nRESPONSIBILITIES:Kforce has a client in Irvine, CA that is searching for a Business Systems Analyst - Sales Operations.Responsibilities: Perform application development and maintenance support of application systems under direct supervision Will work closely with coworkers in a team oriented environment Act as lead on small enhancements and support items Provide analytical and application development support of applications for Sales Operation systems under direct supervision Design, develop and maintain systems Meets with end usersREQUIREMENTS: Must have mainframe application development experience Must have experience adhering to SDLC methodologies Extensive knowledge in mainframe based development Experienced with Hyperion (implementation experience a plus) Experience with Java and Web Services Must be able to communicate effectively with customers and coworkers to enhance customer satisfaction Must be a sound team player with initiative, resourcefulness and high level of professionalismKforce is an Equal Opportunity/Affirmative Action Employer. All qualified applicants will receive consideration for employment without regard to race, color, religion, sex, pregnancy, sexual orientation, gender identity, national origin, age, protected veteran status, or disability status.\\n\\nCANDIDATE RESUME:\\n         MARKETING AND COMMUNICATIONS DIRECTOR           Core Accomplishments    communications plans. Managed budgets from $200k to $10 million. Outstanding work ethic and organizational skills      Professional Experience      Marketing and Communications Director   01/2014   －   Current     Company Name     City  ,   State       Creates compelling, persuasive, relevant, and accurate communications content that increases the public\\'s engagement with the organization (in collaboration with members of the National Marketing and Communications cohort) and build community support for improving schools in Seattle and across the state;  Develops and executes a robust marketing and communications strategy in collaboration with the Seattle Executive Director, Government Affairs Director, and Seattle Organizer to ensure high-impact communications, earned media, and strong support of all Stand for Children Washington efforts;  Conducting market-specific, qualitative research to inform strategic communication outreach to target audiences;  Develops and implements a comprehensive public relations strategy to strengthen and elevate Stand for Children\\'s brand, elevate and effectively message our policy and electoral campaigns across the state          Associate Director of Corporate Relations   01/2009   －   01/2013     Company Name     City  ,   State       Consulted with companies such as: Black Girls CODE, Log Camp and National Association of Multicultural Digital Entrepreneurs  Liaised with education organizations such as: Washington STEM, WestEd and Education Pioneers  Led all communication activities: marketing, public relations and social media  Pitched stories to journalists for prospective companies  Managed media profile of executives  Developed and managed speaking plans for Black Girls CODE CEO  Created branding materials and overall messaging  Served as a creative copywriter for -pitches, presentations, brochures, web promotion and marketing materials  Planned and organized companies proactive presence in several communication channels, including - traditional media channels, online, social media, business/commercial events, conferences and industry meetings  Worked in collaboration with media houses to develop new ways and strategies for attracting media audiences and the general public British Virgin Islands  Led a five-person cross-functional team in strategic planning, including building private sector relationships, conducting negotiations, and managing budget and house targets  Developed and maintained relationships for the Ministry internationally with over 22 countries  Designed a communications/marketing strategy for the Ministry (press releases, talking points, briefings and white papers)  Instituted a communication program to convey the specifics of the Securities and Investment Business Act of 2010 to the financial community  Worked with cross-functional partners in finance, policy, legal and marketing on diverse communications matters ranging from media strategy to crisis management for the ministry  Prepared briefings for the Deputy Premier and managed executive spokespeople for the ministry  Lead negotiator for the Tax Information Exchange Agreement program  Expanded the international business development program  Represented the Ministry of Finance at numerous international conferences/meetings  Senior relationship manager for mission critical corporate sponsors  Cultivated and solicited philanthropic partnerships  Identified prospects, developed and proposed strategies for the cultivation of major financial institutions  Managed corporate-sponsored local programs and distance learning events  Developed investment curricula with the Director of Corporate Relations  Maintained and strengthened affiliation with the organization through activities with investment and international related grant making programming  Represented the organization at various financial industry events nationally          New York Director for Management and Planning   01/2008   －   01/2008     Company Name     City  ,   State       New York, NY/Paris, France New York Director for Management and Planning  Led the establishment of the New York Office; oversaw operating budget of $10 million  Secured a grant for $440k from the Bill and Melinda Gates Foundation  Developed a programmatic assessment and evaluation tool that streamlined the contract management process and improved performance from suppliers  Maximized financial performance by managing compliance and ultimately decreasing staffing costs  Developed and implemented new operating plans, policies, programs and procedures  Served as the liaison and primary point of initial contact for internal (Board of Directors) and external constituencies on all matters pertaining to the office of the Paris Director  Drafted speeches, presentations, lectures, and policy documents on issues related to the work of the organization  Ensured that office operations were in compliance with policy provisions and standards  Ensured registrations and license procedures were up to date internationally  Managed a variety of special projects for the Department          Governance Manager   01/2006   －   01/2008     Company Name     City  ,   State       Organized and coordinated governance activities and worked directly with the Chief Executive Officer  Served as the liaison to the Board of Directors  Edited grant proposals, participated in the grant proposal process  Tracked the priorities and developments of various boards that affected the organization  Represented the CEO in both internal and external settings          Education          Masters  :  UNIVERSITY OF PENNSYLVANIA   -   Public Policy    City  ,   State  ,   US    UNIVERSITY OF PENNSYLVANIA Philadelphia, PA Masters in Public Policy, May 2003 GPA 3.8              Wharton Business School   -   Corporate Finance and Marketing            Wharton Business School courses in Corporate Finance and Marketing            Bachelor of Arts  :  Annenberg School of Communications   -   Comparative Government    City  ,   State  ,   US    Annenberg School of Communications courses in communications SMITH COLLEGE Northampton, MA Bachelor of Arts, May 1999 Major: Comparative Government            Certificate  :  NORTHWESTERN UNIVERSITY, Kellogg School of Management   -   Marketing/Leadership Executive Program    City  ,   State  ,   US    NORTHWESTERN UNIVERSITY, Kellogg School of Management Certificate Marketing/Leadership Executive Program, July 2007\\tChicago, IL ADDITIONAL Technology Skills: MS Office, Raisersedge, LexisNexis, Twitter and numerous social media platforms Extensive International Work: Western Europe, US, Africa, Asia, and the Caribbean        Certifications    Certificate Marketing/Leadership Executive Program, Chicago, IL      Professional Affiliations    Consulted with companies such as: Black Girls CODE, Log Camp and National Association of Multicultural Digital      Presentations    online, social media, business/commercial events, conferences and industry meetings Served as a creative copywriter for -pitches, presentations, brochures, web promotion and marketing materials      Skills    Marketing, Public Relations, And Marketing, Branding, Copywriter, Proactive, Self Motivated, Liaison, Budget, Governance, Proposals, Public Relations Strategy, Finance, Business Development, Crisis Management, Exchange, Marketing Strategy, Media Strategy, Premier, Securities, Strategic Planning, White Papers, Associate, Contract Management, Million, Operations, Registrations, Staffing, Budgets, Energetic, Organizational Skills, San, Storage Area Network, Ms Office, Public Policy, Corporate Finance   \\n\\nRespond strictly in this JSON format (no markdown, no explanations before or after), which serves an example for your response:\\n{\\n  \"score\": 8,\\n  \"explanation\": \"The candidate has relevant engineering and Java experience, but lacks SDLC and Hyperion knowledge.\"\\n}\\n\\n### END\\n'\n"
     ]
    },
    {
     "name": "stderr",
     "output_type": "stream",
     "text": [
      " 10%|█         | 1/10 [00:01<00:13,  1.48s/it]"
     ]
    },
    {
     "name": "stdout",
     "output_type": "stream",
     "text": [
      "[DEBUG] Prompt: '\\nYou are a recruitment assistant.\\n\\nYour task is to evaluate how well the candidate\\'s CV (full text of CV) matches the job description (full text of job description).\\n\\nGive:\\n1. A match score from 0 to 10, where 0 = very poor fit and 10 = excellent fit.\\n2. A short explanation (max 2 sentences) justifying the score.\\n\\nJOB DESCRIPTION:\\nRESPONSIBILITIES:Kforce has a client in Irvine, CA that is searching for a Business Systems Analyst - Sales Operations.Responsibilities: Perform application development and maintenance support of application systems under direct supervision Will work closely with coworkers in a team oriented environment Act as lead on small enhancements and support items Provide analytical and application development support of applications for Sales Operation systems under direct supervision Design, develop and maintain systems Meets with end usersREQUIREMENTS: Must have mainframe application development experience Must have experience adhering to SDLC methodologies Extensive knowledge in mainframe based development Experienced with Hyperion (implementation experience a plus) Experience with Java and Web Services Must be able to communicate effectively with customers and coworkers to enhance customer satisfaction Must be a sound team player with initiative, resourcefulness and high level of professionalismKforce is an Equal Opportunity/Affirmative Action Employer. All qualified applicants will receive consideration for employment without regard to race, color, religion, sex, pregnancy, sexual orientation, gender identity, national origin, age, protected veteran status, or disability status.\\n\\nCANDIDATE RESUME:\\n         INFORMATION TECHNOLOGY SPECIALIST       Summary      Information Security Analyst/Systems professional with over 16 years of diverse experience across the analysis, troubleshooting, management and testing of complex IT systems. \\xa0Experience includes\\xa0 analytical support to computer surveillance\\nactivities in Cyber Security, Intrusion detection analysis and System\\nAdministration. \\xa0Also knowledgeable in Military Cyber Operations.\\xa0       Security Clearance    Currently hold an active TS/SCI Security Clearance. \\xa0Last updated in 2013.      Technical Skills and Qualifications    Windows, Unix, Linux, VMWare, Wireshark, Snort, TCPDump, EnCase, Bash Programming, configuring routers and switches, computer networking, \\xa0Intrusion analysis and Firewalls.      Work Experience      Information Technology Specialist  ,   05/2009   －   Current    Company Name   －   City  ,   State      Provide electronic surveillance of information systems, perform digital evidence analysis (DEA), and provide technical analytical support to computer surveillance activities.  \\u200bProvide traffic analysis against adversary\\'s (TTP) tactics, techniques and protocols. \\xa0   Configure and install routers, switches and wireless controllers.     Draft training materials and organize training sessions for\\xa0 6\\xa0 employees.            Network Security Analyst  ,   08/2008   －   05/2009    Company Name   －   City  ,   State       Analyzed software, hardware and network systems for various transmission systems.       Identified, reported and resolved network security violations.             Corporate Security  ,   11/2007   －   08/2008    Company Name   －   City  ,   State      Ensured Rackspace was in compliance with industry standards such as PCI (Payment Card Industry), HIPAA, ISO 27001, and Sarbanes-Oxley.   Responded to all client requests for technical support by phone and email.            Network Security Analyst  ,   11/2003   －   11/2007    Company Name   －   City  ,   State      Identified and responded to threats against Air Force worldwide\\ncomputer networks on an unclassified and\\nclassified entity (NIPR and SIPR).\\xa0  Provided immediate\\nanalysis and verification of network activity using Automatic Signature\\nIdentification Measurement (ASIM) and Cisco Intrusion Detection System (CIDS).\\n  Detected network intrusions\\nand applied appropriate methods of counter activity.\\n  Analyzed trends of\\nall network activity.\\n  Provided daily\\nactivity reports to management and headquarters.\\xa0 \\xa0\\xa0           Education and Training      2018    Park University   －   City  ,   State  ,   United States    Bachelor of Science    Information and Computer Science     Emphasis in  Network Security           2015    CompTIA                 Certified in Security Fundamentals (Security+)           2014    CompTIA                Network Fundamentals (Network+ )        2012    Defense Cyber Investigation Training Academy   －   City  ,   State  ,   United States           Coursework in Network Exploitation Techniques          2011    Defense Cyber Investigations Academy   －   City  ,   State             Coursework in Network Monitoring Techniques\\xa0          2010    Defense Cyber Investigations Training Academy   －   City  ,   State  ,   United States           Certified Computer Forensics Examiner          2009    Defense Cyber Investigations Training Academy   －   City  ,   State  ,   United States          Certified Digital Media Collector     \\n\\nRespond strictly in this JSON format (no markdown, no explanations before or after), which serves an example for your response:\\n{\\n  \"score\": 8,\\n  \"explanation\": \"The candidate has relevant engineering and Java experience, but lacks SDLC and Hyperion knowledge.\"\\n}\\n\\n### END\\n'\n"
     ]
    },
    {
     "name": "stderr",
     "output_type": "stream",
     "text": [
      " 20%|██        | 2/10 [00:02<00:11,  1.40s/it]"
     ]
    },
    {
     "name": "stdout",
     "output_type": "stream",
     "text": [
      "[DEBUG] Prompt: '\\nYou are a recruitment assistant.\\n\\nYour task is to evaluate how well the candidate\\'s CV (full text of CV) matches the job description (full text of job description).\\n\\nGive:\\n1. A match score from 0 to 10, where 0 = very poor fit and 10 = excellent fit.\\n2. A short explanation (max 2 sentences) justifying the score.\\n\\nJOB DESCRIPTION:\\nRESPONSIBILITIES:Kforce has a client in Irvine, CA that is searching for a Business Systems Analyst - Sales Operations.Responsibilities: Perform application development and maintenance support of application systems under direct supervision Will work closely with coworkers in a team oriented environment Act as lead on small enhancements and support items Provide analytical and application development support of applications for Sales Operation systems under direct supervision Design, develop and maintain systems Meets with end usersREQUIREMENTS: Must have mainframe application development experience Must have experience adhering to SDLC methodologies Extensive knowledge in mainframe based development Experienced with Hyperion (implementation experience a plus) Experience with Java and Web Services Must be able to communicate effectively with customers and coworkers to enhance customer satisfaction Must be a sound team player with initiative, resourcefulness and high level of professionalismKforce is an Equal Opportunity/Affirmative Action Employer. All qualified applicants will receive consideration for employment without regard to race, color, religion, sex, pregnancy, sexual orientation, gender identity, national origin, age, protected veteran status, or disability status.\\n\\nCANDIDATE RESUME:\\n         CHIEF SYSTEM ARCHITECT, SVP SYSTEM INTEGRATION           Executive Profile     Over 25 years technical experience with software, hardware , manufacturing, OEM, product development, project management integration, professional in many different industries: software, hardware, hybrid systems, storage and backup systems, media delivery systems, AV systems, semiconductor, advertising, IPTV/OTT, broadcast systems, commercial and industrial video systems, post production systems, security systems, contract manufacturing, OEM manufacturing, and TV design and manufacturing.     My vast experience in different vertical markets, and different product types allows me to have the ability to work within any  industry and be extremely effective for virtually any type of product, service, or system on a global scale. Executive, director and manger for many prominent technology companies has given me a unique and deeply diversified background. All of this culminates into one of the most extensive technical and business development related backgrounds for any marketplace, service or product type.    Along with the experience, comes long-standing relationships with  top executives and key decision makers within the Fortune 500 companies, enterprise companies, Telco/CSP/Mobile service providers/operators, cable and satellite operators, advertising agencies, International Governments, Government Ministries (communication, broadcast, and mobile), education, healthcare, research,  entertainment , aerospace, and technology companies on a global scale. My work has resulted in the generation of billions in revenue across my career.     Technical Experience: \\xa0   I have been designing and deploying medium to large scale digital media delivery systems/networks for the past 20 years from private companies to countrywide Government driven deployments. I have held titles such as CDO (Chief Digital Officer), CSO (Chief Strategy Officer), and CTO.  I have, 20+ years experience in designing, architecting, integrating, deploying and managing a wide variety of software, hardware, SaaS and Cloud systems as well as various hybrid solutions.  I have extensive product manufacturing, SKD, contract manufacturing, product design and management, project management, as well as implementing developer programs on a global scale. Expert knowledge in both hardware and software based solutions, as well as end-to-end fully integrated solutions. Industry recognized expert in system architecture and design, including cloud based systems, as well as storage and backup systems. I have built technical teams on a global scale for system integration, field technical support, technical support, and professional services. All of my experience is very HANDS ON experience. I have a tremendous, unmatched passion for it, and I am always hands on in every system I design. I stay extremely current on all new technology, even new technology that has not been introduced into the market yet. An added benefit to living in Silicon Valley       Skill Highlights          Project timeline management  Product development  Video Integration expert  Troubleshooting proficiency  Patient and diligent  Vast technical knowledge  Network asset management  Project management  Strong collaborative skills  Capacity and scalability planning  Optimizing and performance tuning  Testing  Excellent problem solving skills  Customer needs assessment  Extensive knowledge of streaming video platforms      Vast technical knowledge  Patient and diligent  Troubleshooting proficiency  Encoding expert  Digital content delivery system expert  IPTV/OTT expert  Broadcast Systems expert  Storage systems expert  Media Server expert  DHCP/DNS Ethernet and Firewall proficient  Accomplished with mobile devices  3 screen delivery expert  Hardware and Software systems for content creation, contribution and distribution expert  content management system            Core Accomplishments      Designed and deployed some of the largest IPTV and OTT systems worldwide  personally designed and deployed many major countrywide broadcast system internationally  Considered one of the foremost experts in video/digital media based delivery systems  7 Time Emmy Award winner 4 for technological achievement        Professional Experience      Chief System Architect, SVP System Integration     June 2009   to   Current     Company Name   －   City  ,   State      SVP System Integration, and Chief System Architect,.  Hardware systems for digital media delivery.  Responsibilities included building of all international integration, and technical support organizations.  I personally handled all significant RFP responses for all major projects.  Helped the company transition from a box seller into a solution selling organization, adding a full global system integration team.  As Chief System Architect, I design all IPTV, Cable, OTT, DVB-T/T2, DVB-S/S2/DTH, MPLS, Mobile TV, Cloud Video and associated backup system on a global basis.  My technical expertise creates an environment of confidence with my clients as they know I truly understand their needs and requirements.  I oversee the design, deployment, and cut-over/handover of these systems to the clients worldwide.  Many of these systems are nationwide deployments.  I opened 17 offices globally for system integration and support.  Further responsibilities, milestones and accomplishments upon request, as I am still an employee of Telairity.          Chief System Architect, Digital Media and Entertainment Group    March 2009   to   June 2011     Company Name   －   City  ,   State      Responsible to chart the course and drive the company\\'s global DME (Digital Media and Entertainment) practice to enterprise clients  (Fortune 100-500), CSP (Telcos), and other related vertical markets specific to digital media strategies and solutions.  Responsible for all system designs, product designs, system architecture,  and the ultimate deployment of large scale IPTV/, OTT, and other related digital media based system with such clients as Alcatel, Cisco, Scientific Atlanta, Yahoo, QUALCOMM, NTT and many others.          CTO    January 2007   to   September 2009     Company Name   －   City  ,  State      One of the original 4 founders who started ZillionTV.  As acting CTO, designed the entire IPTV/VOD/MobileTV delivery architecture, interactivity, motion based UI, advertising system, plus innovative customer features such as getting paid to watch TV, with industry unique and patented advertising program, system functionality and services.  Awarded 5 patents and 7 pending on all of the above technology.  Executed global developer program, and evangelization strategy for mobile TV (IOS, Android, etc).  Additionally, directly under me were sales, strategic partnerships, business development, ad sales, Telco/CSP network operator contracting, and content acquisition and ingest.  Company was sold.          EVP Operations, and EVP/GM of Engineering, Television Design Center.    January 2004   to   January 2007     Company Name   －   City  ,   State      EVP Operations, and EVP/GM of Engineering, Television Design Center.  As EVP, Established China engineering, manufacturing, operations, of the world\\'s largest TV design and integration engineering center in ShenZhen China.  I established from scratch an entire operation in China for the design, engineering and manufacturing of LCD Televisions and other related business and consumer display and playback devices.  Additionally, I was responsible for all manufacturing,  project and product management, design, design engineering, new technology development,  operations, technical support and integration/engineering technical services for Japan and Korea consumer electronics companies.  Representing and managing global CE brands for the design and manufacturing and sale of LCD TVs, HDTVs, CE devices, and various vertical multimedia markets.  Managed a global team over 500 people including sales, engineers, project and program managers, QA, manufacturing, manufacturing support, and technical support services.  CE brands/enterprise clients represented included:  Samsung , LG, Sony, Matsushita, Mitsubishi, Sharp, Sanyo, Panasonic, Posdata, Rifatron, Hitachi, Hyundai and many others for TV, Monitors, digital displays, IFE, Security, DVRs and HD large format, LED display technology.  Established and built both manufacturing management, and engineering teams for the leading CE manufacturers, OEM manufacturers and contract manufacturers in China.  Customers included TCL/TTE, Konka, HiSense, Jizhou, Skyworth, Lenovo, UT Starcom, Haier, Great Wall, Innolux, TPV, YDF, Xoceco, SVA, Founder, and many other Tier 1, 2 , and 3 manufacturers.  Won significant engineering contracts with companies such as: Thales In-Flight entertainment systems, Samsung, Celestica, Alphameric, Vestel, Beko, and Grundig, Hyundai, Sony, Samsung, LG, Matsushita, Sharp, Sanyo, and Hitachi for TV, specialized monitor, and many other consumer and industrial electronic products.          EVP Worldwide System Integration and Professional Services.    January 2003   to   January 2004     Company Name   －   City  ,   State      EVP Worldwide System Integration and Professional Services.  MPEG4-H.264 End-to-Platform.  Created global integration, deployment and field support operations for large enterprise clients, CSPs, digital media companies, and the Chinese Government.  Primary engineering efforts for DG2L encoders, Set Top Boxes and content creation tools and solutions for IPTV, education, healthcare online and Digital Cinema.  Responsible for a new revenue base of $75M in both product and managed services.  Managed a global team of sales engineers, and project managers.  Established MPEG4 developer operations with global staff to evangelize MPEG across all delivery methods (Cable, Terrestrial, Satelitte and Mobile), and technical support offices in China, Japan and India.  Closed the Largest IPTV contract in China with SARFT, China Telecom, and China Netcom.          VP Global Professional Services, Integration and Technical Services    January 2000   to   January 2003     Company Name   －   City  ,   State      IVAST specializes in end-to-end, interactive content delivery systems utilizing MPEG-4 and H.264 solutions, for content creation, delivery and playback over IP, QAM, DVB, Wireless, Mobile, and Satellite to multiple playback devices.  Responsibility included product development, field engineering, system engineering, and managed services.  Managed a global team of sales engineers, program and project managers, and  global developer network including worldwide evangalists and developers.  Built the entire global extended sales support department including: field engineering  operations, technical support, and professional services engineering departments.  Established the system integration department for large scale enterprise SIs such as  EDS, IBM Global and Accenture.  Closed revenue generating professional services contracts with such strategic clients as: Philips, Sony, Samsung, Yahoo, Pioneer, Panasonic, Intel, NIST, Matsushita, Fuji/Xerox, Cisco, @Home Japan, NTT Comm., NTT East, China Telecom, China Unicom, NHK, Teleman, Daikin, Hunan Government, Charter Communications, Kao Cosmetics, Dai Nippon Printing (DNP), Dentsu International, Shobi University, B & H, Dazzle, Broadfield, China Education TV, Sony, Beijing Dawning Computer, NASA, Belo, PAX, and Turner Broadcasting, to name a few.  Created technology integration teams responsible for integration of core IP technology, SDK\\'s and development platform for Mobile Phones, Set Top Boxes, Content Creation Tools, and Encoding devices.  Clients include: Philips, Sharp, Toshiba, Sony, Daikin, Savaje, Nokia, and CTC.  Negotiated and closed revenue generating integration contracts which enabled DSP and CE hardware manufacturer to embed iVAST MPEG-4 technology into devices/chipsets.  Customers included: Texas Instruments, Philips, Tut Systems, I-Basic, Advanced Communications, Roxus Technology, DG2L, Samsung, Sony, Fuji/Xerox, VideoTele, Savaje Technology, Equator, LSI Logic, Sharp, Toshiba, SeaChange, and Onewave.  Responsible for professional services and integration with such clients as Turner Broadcasting, Fox, MTV, Discovery Channel, Cox, Disney, HBO, Warner Brothers, and Sony Entertainment.  In 2 years, opened 4 offices in China, and 1 in Japan.  Built the most comprehensive System Integrator channel with the 36 top SI\\'s, in Asia Pacific, South America, India, Australia, and Europe for content creation, VOD, live broadcasting, IPTV, Cable, distance and e-Learning, Core IP integration and wireless delivery of rich media content, resulting in over 60% of iVAST revenue annually.  Closed professional services and integration contracts with the largest SI\\'s in Asia Pacific including: Itochu/CTC, Hwacom, ID technology, Comtech, Sobey, Dayang, Double Advanced, Bluewave, Daikin,ShenZhen Ricom, Lian Dian Digital, Truetech, MinYoung Media, Hunan Enjoy, Onewave Technology, Ouija Technology, Telelynx, Oriental Telemedia, Instec and Cisco to name a few.          Vice President System integration and Professional Services    January 1998   to   January 2000     Company Name   －   City  ,   State       Hired to establish Streaming21 as the world leader in streaming media delivery systems.  Specializing in media delivery systems for both Live and on demand content using MPEG-1, 2.  4, H.264, MP3, WMT and VCD, and associated back up and storage systems.  Chartered with establishing and growing a solid professional services revenue foundation, and strong strategic technology partners for Streaming21\\'s carrier class, streaming media architecture.  Closed strategic partner contracts and agreements with the following companies: Avid Technology, HP, Compaq, Dell, EDS, IBM Global, Ciprico, EMC, EDS, ADC, Kabira, Digital Fairway, Inktomi, Virage, Arista, Upperstream, Optibase, Viewcast, Futuretel, GDC, Todd VNM, ISTS, Accucom, Ariscom, Data Direct, Fantastic, Network Engines, Stellar One, Motorola, Proton, Philips, Sony, Neon Technology, Elastic Networks, ST3, and Acer.  Closed integration and professional services agreement with close friend James Cameron for his return to the Titanic project for $18M.  Established a rapid response engineering team for sales, addressing immediate client needs outside the scope of existing core technology.  As a direct result, we were able to close an additional 25% of pipeline projects by implementing features and integration on a far shorter timeline.  Formed and managed the Solutions Group.  The sole responsibility of the solutions group was to interface directly with our strategic partners to provide collaborative integration, design and implementation of complex, end-to-end, customer required solutions.  This became a sizable profit center within S21.          Director of Digital Media Technology    January 1997   to   January 1999     Company Name   －   City  ,   State      Hardware and software storage solutions.  Hired to develop new vertical market storage solutions with Hammer\\'s technology, and establish Hammer as a dominant, defacto force in the entertainment industry marketplace.  Through the use of personal entertainment industry contacts and associates, secured and personally acquired and maintained the following new client base for Hammer: Disney Television Animation Worldwide, Disney Feature Animation, Disney On-line, Walt Disney Imagineering, Disney Ideas, Lightpoint Entertainment, FullSail, Dreamquest Images, Lucas Film, Lucas Digital, Lucas Arts, Skywalker Sound, JAK Films, DreamWorks, Industrial Light and Magic, Pixar, Digital Domain, CNN, PDI, Sony, HBO, Universal, Nickelodeon, MTV, Toon City, Metropolis Digital, Square USA, MCI, NBC, WB, Fox Animation Studios, Martha Stewart Living Studios, Buena Vista Home Entertainment, MCA Home Entertainment, Lockheed Martin, Manex Group, Associated Press, A.G.  Edwards, NYU Tisch School for Film and Video, Bloomberg, USC, Lawrence Livermore Labs, and Toyota, to name a few.  Given on screen film credit by George Lucas for Star Wars, Episode I.  As a net result of my professional services group we obtained a global Disney standardization deployment, making it the largest individual sales in Hammer\\'s history $45M.  Started theFibre Channel SAN division which became the most profitable and highest revenue generating Division of Hammer Storage Solutions.  Instrumental in the acquisition of Hammer by Bell Micro.          Director of Technology, Creative Media Arts Division    January 1996   to   January 1997     Company Name   －   City  ,   State      Hired to implement and design a new storage and backup division for Andataco targeted at the entertainment industry as a new vertical marketplace.  Successfully designed and established Andataco as a solid storage solution provider in the motion picture, video, animation, non-linear editing, graphics and audio industries.  Responsible for designing a training and education program for an elite group of sales people, in order to gain immediate market penetration and high visibility in the Motion picture, Special effects, Animation, and Post Production industries.  Utilizing extensive experience and knowledge of the Motion Picture, Post Production, and Video industries, successfully trained and maintained a highly skilled engineering  staff that developed high speed, high availability RAID subsystems solutions into the entertainment vertical target market.  Responsible for the re-design of Andataco\\'s ESP storage product to ensure its success within the Motion picture/Entertainment Industry.  Handled all) MRD\\'s and all other associated tasks necessary for the successful penetration within the entertainment vertical marketplace.          CEO Creative Director    January 1994   to   January 1996     Company Name   －   City  ,   State      Directed and managed entire crew and staff for Post Production of low-medium budget motion pictures, high end animated commercials and music videos.  As VP of Post Production my responsibilities included:  Full creative responsibilities from start to finish of all client, ad agency and motion picture related projects.  Designed and maintained state of the art, all digital post production facility.  Grew the company from $19 million annual revenue to $98 million a year in revenue in just 2.5 years.  Received 1 Emmy award and 2 Clio awards for documentary and commercial spots.          Vice President    January 1991   to   January 1994     Company Name   －   City  ,   State      Lambert specialized in producing independent films, distributing niche market documentaries, and hard to find topic related short form Feature Films.  We established worldwide distribution of both Lambert produced films and major motion picture company libraries to niche markets.  Established, maintained and managed the business relationship between Lambert Industries, Universal Studios, Warner Brothers, and 20th Century Fox.  As a direct result of my efforts, Lambert Industries went from a $12.5 Million in revenue per year to $46 Million.  Lambert\\'s success ultimately resulted in Lambert being acquired at a substantial profit.  Personally responsible for all project development, budgeting, and contracts, domestic distribution, foreign distribution, broadcast rights and sales, foreign distribution, cable rights and sales.  Ancillary rights and contracts.  Packaging of new project development, script approval, agency contracting, completion bonds and project funding.  Designed, implemented, hired, equipped, and maintained, broadcast edit facility.  Built a pure digital, multimedia and pre-press in-house graphics department.  Duties included creating 60 plus pages full color catalogs four times a year.          President/CEO    January 1987   to   January 1991     Company Name   －   City  ,   State      Created a marketplace within the travel industry by producing national commercials, marketing tapes, and finally end user videos of tourist on tour, cruise ships, and exotic specialized vacations.  The response and explosive growth of Travel Video Media led to the development of the worlds first all digital post product facility and the 2rd largest post production facility worldwide.  Additionally, TVM Creating over 100,000 unique video productions per week, making it the largest content creation facility in the world.  Took the company from start up with 3 people to 250 employees and $175M in revenue per year in 3 years.  Responsible for the studio engineering architecture, design and system integration including the first Sony D-1 Digital technology along with Abekas, Quantel, and Ultimatte Technology.  Created the first all digital post production environment that ultimately resulted in 3 Emmy Awards for technological achievement.  As a direct result of the national exposure, we procured and maintained many high profile accounts for post production including but not limited to: MTV, HBO, Disney, Universal, Paramount and Twentieth Century Fox.  Additionally Produced, provided and contracted cable and broadcast rights to travel related programming.  Negotiated and sold the company to Disney Studios, Orlando Florida.  I retired, or so I thought.          Producer/Director    January 1985   to   January 1987     Company Name   －   City  ,   State      In house producer and director for regional, national, and international broadcast ad campaigns.  Produced and directed over 25 commercials in two years winning 3 Clio awards for national spots.  Worked directly with the clients and commercial production companies to produce cohesive and creative national broadcast ad campaigns.          Executive Associate Producer Producer    January 1982   to   January 1985     Company Name   －   City  ,   State      Worked directly with and for Bob Evans on several major motion pictures in a business development capacity.  Duties included:.  Feature film packaging.  Cast and crew development.  Negotiated major studio distribution agreements foreign and domestic.  Negotiated all contracts for ancillary rights, and financing, budgeting, new project development, talent agency and union negotiations.          First AD, Director    January 1980   to   January 1982     Company Name   －   City  ,   State      Started out as a first assistant director for Greenbriar Productions the non-union production arm of N.  Lee Lacy Associates commercial production company.  At the time N.  Lee Lacy Associates was the largest commercial production in the world, with offices globally.  After 7 months acquired union status, and within 14 months became a staff director.  Won a Clio award for United Airlines national spot while directing for N.  Lee Lacy Associates.  As a director my responsibilities included creative interaction between clients, largest national ad agencies, cast, crews, and post production facilities.          Education      BA   :   Communication       Boston University   －   City  ,   State       Communication          Skills     advertising, animation, Arts, ad agency, audio, Avid, backup, broadcast, Broadcasting, broadcast systems, budgeting, business development, Cable TV, catalogs, China,  Hardware, consumer electronics, content, Content Creation, content delivery, contracts, Clients, delivery, encoders, decoders, transmitters, Multiplexers, gateways, modulators, satellites, LCD TV, LED TV, OLED TV, system design, product development, DSP, directing, edit, editing, 3D animation, features, Film, feature films, graphics, Intel, IPTV,  director, managing, marketing, MPEG2, MPEG4, MP3, H.264, HEVC, 2K, 4K, Monitors, Motorola, MP3, multimedia, negotiations, enterprise, Networks, non-linear editing, developer, Packaging, pre-press, Press, product management, project management, producing, producer, programming, project development, QA, RAID, RFP, sales support, technical support, system integration, SAN,  script, Sound, strategy, strategic, streaming media, system architecture, System Architect, system engineering, system integration, Telecom, Phones, TV, Mobile, mobile TV, Television, 3 screen delivery, OTT, Video, Video systems, video system design, video system management, broadcast systems, broadcast system management, NMS, EMS, CSP       Additional Information       7 Time Emmy Award winner, 7 Time Clio Award Winner and Active Father of 5 ...need I say more?     \\n\\nRespond strictly in this JSON format (no markdown, no explanations before or after), which serves an example for your response:\\n{\\n  \"score\": 8,\\n  \"explanation\": \"The candidate has relevant engineering and Java experience, but lacks SDLC and Hyperion knowledge.\"\\n}\\n\\n### END\\n'\n"
     ]
    },
    {
     "name": "stderr",
     "output_type": "stream",
     "text": [
      " 30%|███       | 3/10 [00:05<00:12,  1.76s/it]"
     ]
    },
    {
     "name": "stdout",
     "output_type": "stream",
     "text": [
      "[DEBUG] Prompt: '\\nYou are a recruitment assistant.\\n\\nYour task is to evaluate how well the candidate\\'s CV (full text of CV) matches the job description (full text of job description).\\n\\nGive:\\n1. A match score from 0 to 10, where 0 = very poor fit and 10 = excellent fit.\\n2. A short explanation (max 2 sentences) justifying the score.\\n\\nJOB DESCRIPTION:\\nRESPONSIBILITIES:Kforce has a client in Irvine, CA that is searching for a Business Systems Analyst - Sales Operations.Responsibilities: Perform application development and maintenance support of application systems under direct supervision Will work closely with coworkers in a team oriented environment Act as lead on small enhancements and support items Provide analytical and application development support of applications for Sales Operation systems under direct supervision Design, develop and maintain systems Meets with end usersREQUIREMENTS: Must have mainframe application development experience Must have experience adhering to SDLC methodologies Extensive knowledge in mainframe based development Experienced with Hyperion (implementation experience a plus) Experience with Java and Web Services Must be able to communicate effectively with customers and coworkers to enhance customer satisfaction Must be a sound team player with initiative, resourcefulness and high level of professionalismKforce is an Equal Opportunity/Affirmative Action Employer. All qualified applicants will receive consideration for employment without regard to race, color, religion, sex, pregnancy, sexual orientation, gender identity, national origin, age, protected veteran status, or disability status.\\n\\nCANDIDATE RESUME:\\n         INFORMATION TECHNOLOGY SPECIALIST (INFOSEC)       Summary    Retired Information Assurance Systems Security Certification Specialist responsible for managing and monitoring\\ninformation systems and network security, and information systems security programs in support of the Information\\nSecurity/Information Assurance mission for U.S. Army Medical Command and Defense Health Agency. Also, served as a clerk typist and secretary.      Highlights          Self-directed  Results-oriented  Time management      Strong interpersonal skills  Dedicated team player  Labor relations            Accomplishments     Increased office organization by developing more efficient filing system and customer database protocols.        Experience      INFORMATION TECHNOLOGY SPECIALIST (INFOSEC)   01/2012   to   11/2015     Company Name   City  ,   State       Interpreted scan results, implemented corrective action, and prepared reports of findings in support of the\\n   network infrastructure.  Worked in coordination with Army Cyber Command and Regional Computer Emergency Response (Army\\n   Cyber and RCERT) to support Computer Networks Attacks (CNA) and Computer Network Defense (CND)\\n   efforts.          Chief Steward   01/2000   to   01/2012     Company Name   City  ,   State       Defended the interest of the federal employees at Fort Sam Houston, TX.    \\xa0Assigned cases to stewards based on their skill sets       \\xa0Managed the receptionist area, including greeting visitors and \\xa0responding to telephone and in-person requests for information.        \\xa0Prepared employee\\'s rebuttal to grievances.     \\xa0Organized files, developed spreadsheets, faxed reports and scanned \\xa0 \\xa0documents.      \\xa0Participated in arbitrations, mediations, and Alternate dispute resolutions.           Education      Associate of Science  :   Business Administration   1980       Richard Bland College   City  ,   State       Business Administration        Skills     Excellent attention to detail   Fast Learner  Ability to work under pressure  Excellent problem-solving abilities    \\n\\nRespond strictly in this JSON format (no markdown, no explanations before or after), which serves an example for your response:\\n{\\n  \"score\": 8,\\n  \"explanation\": \"The candidate has relevant engineering and Java experience, but lacks SDLC and Hyperion knowledge.\"\\n}\\n\\n### END\\n'\n"
     ]
    },
    {
     "name": "stderr",
     "output_type": "stream",
     "text": [
      " 40%|████      | 4/10 [00:06<00:09,  1.65s/it]"
     ]
    },
    {
     "name": "stdout",
     "output_type": "stream",
     "text": [
      "[DEBUG] Prompt: '\\nYou are a recruitment assistant.\\n\\nYour task is to evaluate how well the candidate\\'s CV (full text of CV) matches the job description (full text of job description).\\n\\nGive:\\n1. A match score from 0 to 10, where 0 = very poor fit and 10 = excellent fit.\\n2. A short explanation (max 2 sentences) justifying the score.\\n\\nJOB DESCRIPTION:\\nRESPONSIBILITIES:Kforce has a client in Irvine, CA that is searching for a Business Systems Analyst - Sales Operations.Responsibilities: Perform application development and maintenance support of application systems under direct supervision Will work closely with coworkers in a team oriented environment Act as lead on small enhancements and support items Provide analytical and application development support of applications for Sales Operation systems under direct supervision Design, develop and maintain systems Meets with end usersREQUIREMENTS: Must have mainframe application development experience Must have experience adhering to SDLC methodologies Extensive knowledge in mainframe based development Experienced with Hyperion (implementation experience a plus) Experience with Java and Web Services Must be able to communicate effectively with customers and coworkers to enhance customer satisfaction Must be a sound team player with initiative, resourcefulness and high level of professionalismKforce is an Equal Opportunity/Affirmative Action Employer. All qualified applicants will receive consideration for employment without regard to race, color, religion, sex, pregnancy, sexual orientation, gender identity, national origin, age, protected veteran status, or disability status.\\n\\nCANDIDATE RESUME:\\n         ENGINEERING INTERN         Summary    Motivated Entry Level Civil Engineer with technical knowledge and a quality assurance mindset necessary to conquer unforeseen obstacles. Organized, detail-oriented, and efficient work ethics. Committed to high performance and mastering tasks to better future duties.\\xa0\\xa0      Relevant Courses          Materials of Construction  Construction Management  Reinforced Concrete  Structural Steel Design  Survey\\xa0      Engineering Leadership  Foundation Design  Environmental Engineering  Soil Engineering  Transportation Engineering            Experience      Company Name    City  ,   State    Engineering Intern   05/2017   to   08/2017       Spreadsheets  Estimating  Dealt with Subcontractors/Suppliers  Plan Revisions          Company Name    City  ,   State    Field Engineering Intern   05/2016   to   08/2016       Drill Logs  Time Cards  Drilled Shaft Concrete Pours  Quantities          Company Name    City  ,   State    Field Engineering Intern   05/2015   to   08/2015       Spreadsheets  Concrete  RFI\\'s  Soil Nail Wall Installation          Skills    Bluebeam, Mathcad, Microsoft Word, Excel, Project, Powerpoint, Autocad Civil 3D.      Education and Training      Bachelor of Science  :  Civil Engineering   2018     University of Pittsburgh at Johnstown  ,   City  ,   State      GPA: 3.01        Activities and Honors    Dean\\'s List - 2013   \\n\\nRespond strictly in this JSON format (no markdown, no explanations before or after), which serves an example for your response:\\n{\\n  \"score\": 8,\\n  \"explanation\": \"The candidate has relevant engineering and Java experience, but lacks SDLC and Hyperion knowledge.\"\\n}\\n\\n### END\\n'\n"
     ]
    },
    {
     "name": "stderr",
     "output_type": "stream",
     "text": [
      " 50%|█████     | 5/10 [00:07<00:07,  1.48s/it]"
     ]
    },
    {
     "name": "stdout",
     "output_type": "stream",
     "text": [
      "[DEBUG] Prompt: '\\nYou are a recruitment assistant.\\n\\nYour task is to evaluate how well the candidate\\'s CV (full text of CV) matches the job description (full text of job description).\\n\\nGive:\\n1. A match score from 0 to 10, where 0 = very poor fit and 10 = excellent fit.\\n2. A short explanation (max 2 sentences) justifying the score.\\n\\nJOB DESCRIPTION:\\nRESPONSIBILITIES:Kforce has a client in Irvine, CA that is searching for a Business Systems Analyst - Sales Operations.Responsibilities: Perform application development and maintenance support of application systems under direct supervision Will work closely with coworkers in a team oriented environment Act as lead on small enhancements and support items Provide analytical and application development support of applications for Sales Operation systems under direct supervision Design, develop and maintain systems Meets with end usersREQUIREMENTS: Must have mainframe application development experience Must have experience adhering to SDLC methodologies Extensive knowledge in mainframe based development Experienced with Hyperion (implementation experience a plus) Experience with Java and Web Services Must be able to communicate effectively with customers and coworkers to enhance customer satisfaction Must be a sound team player with initiative, resourcefulness and high level of professionalismKforce is an Equal Opportunity/Affirmative Action Employer. All qualified applicants will receive consideration for employment without regard to race, color, religion, sex, pregnancy, sexual orientation, gender identity, national origin, age, protected veteran status, or disability status.\\n\\nCANDIDATE RESUME:\\n         INFORMATION TECHNOLOGY MANAGER/ANALYST         Professional Summary    Innovative and solution focused web development manager/analyst with extensive experience in Program and Project Management. Detail-oriented and skilled in identifying technology needs, creating a plan for solving them, and leading multiple teams to implement the solutions. Self motivated, strong leader, and team player that works hard developing staff.\\xa0 Experienced in working in industry and academia.      Skills        Project management Program management Process improvement Requirements gathering Team leader Strategic planning  Results-oriented Effective multi-tasker Data analysis Team player Team building Extensive technology experience          Work History      Information Technology Manager/Analyst  ,     07/2006   to   Current     Company Name   –   City  ,   State    \\n\\n\\n\\n\\n\\n\\nAnalyze the technology needs of the Graduate College, to develop short term and long term goals and to meet and implement the solutions to those needs by working with internal, external or mixed teams tech or non-tech teams. Oversee the management of multiple websites running various software.\\xa0 Supervise and manage the composition of the Graduate College information technology team focusing on balancing technology skills based on short and long term goals.\\xa0\\nDevelop staff skills through training as needed. Collect and report data to various groups across campus as well as to national agencies such as National Science Foundation, National Institutes of Health, and Council of Graduate Schools.\\xa0\\n\\n\\n   Led the Graduate College IT team for over eight years   Implemented Software Development Lifecycle Methodology\\xa0   Appointed to Iowa State University\\'s Paperless Task force to represent the Graduate College   Elected to the Professional and Scientific Council to represent P&S employees  Led strategic initiates for the Graduate College for past three years  Communication leader between faculty, staff, and central IT  Proficient in the use and implementation of industry IT standards  Regularly translate detailed program requirements into technical specifications.         Manager  ,     06/2003   to   06/2006     Company Name   –   City  ,   State      Assisted with the running of the Des Moines Store (Largest in district).  Managed 25 employees.  Trained employees to complete their position duties.  Handled cash daily and reconciled accounts.         Web Communications Manager  ,     01/1999   to   01/2003     Company Name   –   City  ,   State      Developed and managed websites and web software related projects while staying within the $2 million budget of the Web Communications department. \\xa0Directed various development teams of project managers and programmers focusing on internal and external users. \\xa0Created project plans and worked with marketing and executive leadership to gain approval for projects. \\xa0Regularly worked by phone or email to complete projects. \\xa0    Led project teams to roll out first company wide intranet, while delivering 1 month faster than original timeline.  Developed new corporate website from scratch, and then led teams to roll out new website.  Developed, trained, and implemented Corporate Web Design Standards across the company.         Education      Family Financial Planning (Graduate Certificate)  :         Iowa State University   -   City  ,   State           Will be a Certified Financial Planner after completion.  :     1 1998     GPA:   GPA: 4 . 0   GPA: 4 . 0       B.S  :   Marketing  ,       Iowa State University   -   City  ,   State    Marketing        Microsoft Front Page Certified New Horizons - Des Moines, IA\\nA CCOMPLISHMENTS  :     1 1999    l Rolled out the first company wide intranet for a Fortune 500 Company. l Learned two computer languages on my own to better understand the limits of what developers can do. l In 2010, elected Professional and Scientific representative. l Implemented entire electronic thesis/dissertation solution at Iowa State University. l Published paper at International Academy of Technology Education, and Development (IATED) conference: Empowering Departments Across the University by Using Web Technologies \\xad 2   \\n\\nRespond strictly in this JSON format (no markdown, no explanations before or after), which serves an example for your response:\\n{\\n  \"score\": 8,\\n  \"explanation\": \"The candidate has relevant engineering and Java experience, but lacks SDLC and Hyperion knowledge.\"\\n}\\n\\n### END\\n'\n"
     ]
    },
    {
     "name": "stderr",
     "output_type": "stream",
     "text": [
      " 60%|██████    | 6/10 [00:08<00:05,  1.39s/it]"
     ]
    },
    {
     "name": "stdout",
     "output_type": "stream",
     "text": [
      "[DEBUG] Prompt: '\\nYou are a recruitment assistant.\\n\\nYour task is to evaluate how well the candidate\\'s CV (full text of CV) matches the job description (full text of job description).\\n\\nGive:\\n1. A match score from 0 to 10, where 0 = very poor fit and 10 = excellent fit.\\n2. A short explanation (max 2 sentences) justifying the score.\\n\\nJOB DESCRIPTION:\\nRESPONSIBILITIES:Kforce has a client in Irvine, CA that is searching for a Business Systems Analyst - Sales Operations.Responsibilities: Perform application development and maintenance support of application systems under direct supervision Will work closely with coworkers in a team oriented environment Act as lead on small enhancements and support items Provide analytical and application development support of applications for Sales Operation systems under direct supervision Design, develop and maintain systems Meets with end usersREQUIREMENTS: Must have mainframe application development experience Must have experience adhering to SDLC methodologies Extensive knowledge in mainframe based development Experienced with Hyperion (implementation experience a plus) Experience with Java and Web Services Must be able to communicate effectively with customers and coworkers to enhance customer satisfaction Must be a sound team player with initiative, resourcefulness and high level of professionalismKforce is an Equal Opportunity/Affirmative Action Employer. All qualified applicants will receive consideration for employment without regard to race, color, religion, sex, pregnancy, sexual orientation, gender identity, national origin, age, protected veteran status, or disability status.\\n\\nCANDIDATE RESUME:\\n         FINANCE MANAGER         Summary     Pro-active, results-oriented, deadline driven with broad experience in all aspects of accounting and financial management.  Solid planning and organizational skills in coordinating all aspects of each project from inception through completion.  Sees the big picture and plans appropriate strategies to achieve results.  Well disciplined with proven ability to manage multiple assignments efficiently under extreme pressure while meeting tight deadline schedules.  Strong team builder and facilitator, creates an atmosphere that encourages individual growth among accounting professionals while maximizing their potential and production.  Ascertains needs and goals, streamlines existing operations, envisions new concepts and looks for areas of improvement while following through with development and direction.  Clearly and effectively communicates direction, commits people to action with timelines, and transforms complex information into easily understood formats.        Highlights         SAP, Dynamics AX, AS400, SBT, IFRS, JD Edwards, MAS90, Great Plains and Quickbooks.  Access, SAS and SQL.  MS Office including Excel 2010, 2007 and 2003.  UltiPro, ADP, Report Smith, E-Time Heavy, TimeSaver, EZLabor and EasyPay.     Comprehensive experience in Organizational Re-Engineering  Inventory Control/Purchasing  Reporting/Process  Improvement Financial   Management/Analysis   Quarterly/Year-End Audit   Budget & Forecasting   Preparation/Administration   General Accounting/HR/Payroll   Staff Management   Business Analysis   GAAP/JSOX/ISO/SOX            Experience      Finance Manager  ,   12/2011   to   05/2014    Company Name   －   City  ,   State      Provide financial reports for three plants in the region.  Manage day to day operations to include overseeing all accounting functions, procurement, annual budget forecast, payroll and complying with SOX.  Work with corporate HR in regards to plant personnel and suggest personnel changes in the plant along with other necessary changes to create a corporate environment from the prior family owned company feel.  Manage all aspects of Supply Chain Developed and implemented purchasing, operations, logistics and production systems Manage vendor and supplier contracts Introduced Lean Manufacturing practices Manage billing and HR functions.          Accounting Manager  ,   12/2008   to   07/2011    Company Name   －   City  ,   State      Overall authority for the global intercompany operations of the organization, budget preparation and administration, audit, accounting, monthly closing of books, account reconciliation, and journal entry adjustments.  Prepared monthly, quarterly and annual reports summarizing the business activities.  Developed trend and balance sheet analysis; accounts receivable and aging reports.  Maintained audit reports to ensure a smooth quarterly and year-end audit.  Supervised and lead support staff of up to 4.  Created new global policies to help streamline the inter-company reconciliation process.  Introduced monthly team meetings to enhance team environment, review projects and provide training.  Recommended a cross-training project to include written documentation of all processes.          Corporate Controller  ,   03/2008   to   12/2008    Company Name   －   City  ,   State      Restructured the accounting department to create a strong team of 6 rect reports to handle an SAP implementation and go live.  Challenged to lead a 20 year old manufacturing company away from old habits and into an updated more controlled accounting environment.  Implemented internal controls in areas of required purchase orders with authorized approvals, travel and expense review with limits, including D&B checks for setting customer credit limits, creating reorder points to avoid excessive inventory on hand, paying within terms for a discount and working with purchasing to get price discounts from vendors.  Responsible for the financial reporting of three plants combined average 80 million in sales annually.  Business process owner for SAP software implementation.  Headed the quarterly bank audit.          Cost Accountant  ,   01/2007   to   01/2008    Company Name   －   City  ,   State      Managed all financials for printing company and reported directly to controller in another state.  Prepared analysis, month-end financials and other reports as requested by corporate.  Reviewed variances and explained variances to plant managers.  Provided daily support to plant management team including analyzing data to initiate improvements and cost savings.  Prepared monthly management meeting slides showing variances and margins which needed to be discussed.  Established internal controls to achieve compliance with Sarbanes Oxley.  Assisted in the monthly and yearly forecasting process including the creation of the budget.  Implemented inventory and asset review to insure accurate and complete accounting data for job costs and overhead.          Supply Specialist  ,   01/1999   to   01/2007    Company Name   －   City  ,   State      Maintained accurate inventory for over 180 line items.  Helped prepare over $500,000 worth of equipment and supplies from de-commissioned ships for warehouse turn-in.          Education      Bachelor of Science  :  Accounting  ,  2006    University of Phoenix   －   City  ,   State               Master of Business Administration  :  Business  ,  2010    UNIVERSITY OF PHOENIX   －   City  ,   State              Also attended Wright State University, Sinclair Community College and Columbus State prior to finishing BA                Skills     account reconciliation, accounting, accounts receivable, go live, streamline, ADP, AS400, BA, balance sheet, billing, budget preparation, budget, Business process, closing, contracts, controller, credit, documentation, financials, financial, financial reporting, forecasting, Great Plains, HR, inventory, JD Edwards, logistics, MAS90, meetings, Access, Excel, MS Office, payroll, personnel, policies, processes, procurement, purchasing, Quickbooks, sales, SAP, Sarbanes Oxley, SAS, SBT, SQL, Supply Chain, trend, written, annual reports, year-end    \\n\\nRespond strictly in this JSON format (no markdown, no explanations before or after), which serves an example for your response:\\n{\\n  \"score\": 8,\\n  \"explanation\": \"The candidate has relevant engineering and Java experience, but lacks SDLC and Hyperion knowledge.\"\\n}\\n\\n### END\\n'\n"
     ]
    },
    {
     "name": "stderr",
     "output_type": "stream",
     "text": [
      " 70%|███████   | 7/10 [00:10<00:04,  1.38s/it]"
     ]
    },
    {
     "name": "stdout",
     "output_type": "stream",
     "text": [
      "[DEBUG] Prompt: '\\nYou are a recruitment assistant.\\n\\nYour task is to evaluate how well the candidate\\'s CV (full text of CV) matches the job description (full text of job description).\\n\\nGive:\\n1. A match score from 0 to 10, where 0 = very poor fit and 10 = excellent fit.\\n2. A short explanation (max 2 sentences) justifying the score.\\n\\nJOB DESCRIPTION:\\nRESPONSIBILITIES:Kforce has a client in Irvine, CA that is searching for a Business Systems Analyst - Sales Operations.Responsibilities: Perform application development and maintenance support of application systems under direct supervision Will work closely with coworkers in a team oriented environment Act as lead on small enhancements and support items Provide analytical and application development support of applications for Sales Operation systems under direct supervision Design, develop and maintain systems Meets with end usersREQUIREMENTS: Must have mainframe application development experience Must have experience adhering to SDLC methodologies Extensive knowledge in mainframe based development Experienced with Hyperion (implementation experience a plus) Experience with Java and Web Services Must be able to communicate effectively with customers and coworkers to enhance customer satisfaction Must be a sound team player with initiative, resourcefulness and high level of professionalismKforce is an Equal Opportunity/Affirmative Action Employer. All qualified applicants will receive consideration for employment without regard to race, color, religion, sex, pregnancy, sexual orientation, gender identity, national origin, age, protected veteran status, or disability status.\\n\\nCANDIDATE RESUME:\\n         DIRECTOR OF INFORMATION TECHNOLOGY       Profile    SUMMAR Y\\nApplying technology and workflow solutions to business challenges is exciting for me because I love to learn and apply\\nnew lessons and approaches to support and enhance the organization to achieve its goals and mission.      Core Qualifications          C#          Oracle SQL          Oracle  Information Management          SQL Server          SQL*Plus  TFS          SharePoint          SharePoint Designer  Database Design          Database Administration          Data Management  ASP.NET          Team Leadership          IIS  PL/SQL          ADO.NET          Tactical Planning  Application Development          Web Applications          IT Strategy  Microsoft SQL Server          Software Development          Agile Methodologies  Requirements Analysis          SDLC          XML  Information Technology          SQL          Software Project Management  Project Management          Analysis          Business Intelligence  Leadership                Professional Experience      Director of Information Technology   11/2012   to   08/2015     Company Name      Provided application and network support services for the MSBA.  The MSBA is a small quasi-public state authority who financially assists school districts in their school building projects.  My group maintains a rackspace hosted asp.net solution tied to SQL Server.  I had all the hardware and software refreshed as well as bringing the development group up to sql server, tfs, and VS 2012.  I personally rewrote their utility and security library from VB.NET to C# and added many more classes to support more static helper functions.  I also developed an architecture based on object modeling for a middle tier.  I was the the login account administrator for the authority which utilized Santander Banking Services.  I wore many hats with my team - developer, manager, network administration and help desk.  I served as the project manager for all current projects and provided business analysis to work out business workflows for my team.  I recommended Tableau as the authority\\'s visualization business intelligence tool.  We just started developing the infrastructure around the new business intelligence tool.  We finished bringing in DSCI for data and phone lines and we are ready to have our phone system hosted in their data center.          Team Leader   05/2005   to   11/2012     Company Name      Lead clinical and research programming development and application support for applications developed by my group for the Cardiovascular Program.  I had three teams under my leadership.  I had the CAS and later the EMERIS group and I project managed the effort to replace a number of legacy systems with modern C# applications.  The second group maintained professional and clinical billing for the cardiology department.  The third group developed and maintained research applications for the cardiology\\'s research department.  I was the logical Oracle DBA who puts objects into production and I maintained our central job scheduler and placed those jobs into production as well.          Chief Information Officer   07/2000   to   02/2005     Company Name      Provide network, application and help desk support for the largest agency in the Commonwealth of Massachusetts, The Department of Mental Retardation.  The agency is now called the Department of Developmental Services and at that time my network team of 5 managed the the entire state of Massachusetts office: 30 field office and 5 state school facilities.  We upgraded to Zen 5.0 of Novell and remotely managed our desktops.  We also developed client server model applications and the electronic service delivery model which was hosted in our facility with ITD\\'s assistance.  Our development platform was classic asp with vb.net and the back end was sql server.          Director of Applications Development   02/1996   to   06/2000     Company Name      Provided application development and support services to the Department of Youth Services.  I lead the Year 2000.  project to convert our Natural/Adabas mainframe system to a ASP web based application YSIS.  I also helped out as a.  banyan administrator to our Network Administrator.          Education      Master of Business Administration (MBA)  :   Management Information Systems, General\\nDelta Mu Delta    Suffolk University - Sawyer School of Management   City         Management Information Systems, General\\nDelta Mu Delta        Bachelor of Arts (BA)  :   Economics        GPA:   Omicron Delta Epsilon    Economics Omicron Delta Epsilon        Skills    .NET, asp.net, VB.NET, Adabas, ADO, Agile, Application Development, ASP, agency, Banking, banyan, billing, business analysis, Business Intelligence, cardiology, client server, hardware, Data Management, Database Administration, Database Design, delivery, desktops, XML, help desk support, help desk, IIS, Information Technology, IT Strategy, Leadership, Team Leadership, mainframe, C#, office, SharePoint, Natural, Network Administrator, network administration, network support, network, Novell, object modeling, Oracle, Oracle DBA, developer, PL/SQL, Oracle SQL, phone system, programming, Project Management, Requirements Analysis, research, SDLC, Software Development, Microsoft SQL Server, SQL, sql server, Tableau, phone, Web Applications, Year 2000   \\n\\nRespond strictly in this JSON format (no markdown, no explanations before or after), which serves an example for your response:\\n{\\n  \"score\": 8,\\n  \"explanation\": \"The candidate has relevant engineering and Java experience, but lacks SDLC and Hyperion knowledge.\"\\n}\\n\\n### END\\n'\n"
     ]
    },
    {
     "name": "stderr",
     "output_type": "stream",
     "text": [
      " 80%|████████  | 8/10 [00:11<00:02,  1.42s/it]"
     ]
    },
    {
     "name": "stdout",
     "output_type": "stream",
     "text": [
      "[DEBUG] Prompt: '\\nYou are a recruitment assistant.\\n\\nYour task is to evaluate how well the candidate\\'s CV (full text of CV) matches the job description (full text of job description).\\n\\nGive:\\n1. A match score from 0 to 10, where 0 = very poor fit and 10 = excellent fit.\\n2. A short explanation (max 2 sentences) justifying the score.\\n\\nJOB DESCRIPTION:\\nRESPONSIBILITIES:Kforce has a client in Irvine, CA that is searching for a Business Systems Analyst - Sales Operations.Responsibilities: Perform application development and maintenance support of application systems under direct supervision Will work closely with coworkers in a team oriented environment Act as lead on small enhancements and support items Provide analytical and application development support of applications for Sales Operation systems under direct supervision Design, develop and maintain systems Meets with end usersREQUIREMENTS: Must have mainframe application development experience Must have experience adhering to SDLC methodologies Extensive knowledge in mainframe based development Experienced with Hyperion (implementation experience a plus) Experience with Java and Web Services Must be able to communicate effectively with customers and coworkers to enhance customer satisfaction Must be a sound team player with initiative, resourcefulness and high level of professionalismKforce is an Equal Opportunity/Affirmative Action Employer. All qualified applicants will receive consideration for employment without regard to race, color, religion, sex, pregnancy, sexual orientation, gender identity, national origin, age, protected veteran status, or disability status.\\n\\nCANDIDATE RESUME:\\n         INFORMATION TECHNOLOGY MANAGER         Summary     Dedicated  IT Manager  well-versed in analyzing and mitigating risk and finding cost-effective solutions. Excels at boosting performance and productivity by establishing realistic goals and enforcing deadlines.        Highlights          Operations management  Project tracking\\xa0  Performance criteria tracking  Waterfall framework  Scrum methodology  Enterprise platforms       Salary structure/compensation analysis  Calm under pressure  Compensation/benefits administration  Staff development  Client communication            Experience      Information Technology Manager  ,   03/2013   to   Current    Company Name   －   City  ,   State       Managed a four-person local IT team, allocating resources to ongoing projects and enforcing deadlines.      Drove business KPIs through rapid iteration of customer-facing product features.     Leveraged in-depth understanding of end-to-end customer experience to identify pain points and latent customer needs.       Collaborated with the global team to resolve IT support cases.          Build and maintain a staff of five & terminate for cause one employee.  Create and audit processes interlocking with other teams, adjust as required.  Manage travel and budget for staff on-site visits.  Ownership of SaaS customers in North America, Canada and Australia.   Defined project deliverables and monitored status of tasks.      Executed proof of concept implementations to validate product feasibility.              IT Administrator  ,   06/2011   to   03/2013    Company Name   －   City  ,   State       Designed and delivered mission critical infrastructure to ensure the highest levels of availability, performance and security.     Maintained security, backup, and redundancy strategies.               Ownership of IT Infrastructure and Client/Server management (Chicago, Houston, Montreal and Sydney).   Collected, analyzed, and reported program metrics, including product technical performance measures and key performance parameters.    Manage North America production data center (SaaS) and disaster recovery applications.  Deploy and manage VMware architecture.  Monitor and created automatic actions related to hardware and web servers.  Engineered IT infrastructure for reliable WAN and LAN connectivity.  Active Directory and Group Policy configuration and deployment.  Provided client support for production.  SQL Administration.  Deployed over 30 NEC phones and support for NEC PBX.  Responsible for purchasing and product recommendations.          Network Administrator  ,   02/2010   to   05/2011    Company Name   －   City  ,   State      Tested, configured and deployed Windows 7 operating system with Acronis Snap Deploy.  Deployed and tested Microsoft Exchange 2010 in VMware.  Administered SQL 2005 database to run Dentrix and DEXIS software.  Configuration and implementation of Group Policies.          Information Technology Consultant  ,   10/2008   to   05/2011    Company Name   －   City  ,   State      Managed and provided security administrative support for Paine Wetzel ONCOR International, Northridge Group, Rent Here Realty, and Northwestern Dental Center.  Supported Microsoft Windows 2003, XP, Vista and Mac operating systems.  Responsible for purchase decisions to provide the best end point security solutions.  Obtained Milestone Advanced Certified Partner for video surveillance.          Network Administrator  ,   10/2008   to   05/2011    Company Name   －   City  ,   State      Installed and configured LAN with Windows XP and Windows Vista clients.  Administration of Microsoft Active Directory.  Administration of Microsoft Exchange 2003 systems including backup and recovery.  Deploy Symantec endpoint security solutions and implemented disaster recovery.  Managed multiple desktop applications: Microsoft Office, Adobe Acrobat, ACT.  Administration of intranet.          Network Administrator  ,   10/2008   to   12/2009    Company Name   －   City  ,   State      Provided on-site technical support for Windows 2003 and 2008 servers, workstations, laptops, Blackberries, and iPhones.  Migrated to Exchange 2007 SCR from Exchange 2003 with PowerShell and DAS.  Managed Windows Server 2008 and Windows 7.          College of Education Computer Technician  ,   07/2006   to   06/2008    Company Name   －   City  ,   State      Performed PC and Mac hardware and software configurations.  Troubleshot general Novell Client issues.  Installed and maintained peripherals.  Built images to be used with Symantec Ghost.          Education      Master of Science  :  Business Information Technology  ,  2018    DePaul University   －   City  ,   State              Bachelor of Science  :  Network and Communications Management  ,  2009    DeVry University   －   City  ,   State              Skills    Active Directory, administrative support, Adobe Acrobat, Architect, backup, budget, Client/Server, hardware, Concept, Client, clients, client support, DAS, database, disaster recovery, Ghost, LAN, laptops, Mac hardware, Mac, Exchange, Microsoft Exchange, Microsoft Exchange 2003, Microsoft Office, Windows 7, Windows, Microsoft Windows 2003, Windows XP, NEC, Novell, operating systems, operating system, PBX, peripherals, Policies, processes, purchasing, servers, SLA, SQL, Symantec, technical support, phones, Video, Vista, web servers, WAN, Windows Server   \\n\\nRespond strictly in this JSON format (no markdown, no explanations before or after), which serves an example for your response:\\n{\\n  \"score\": 8,\\n  \"explanation\": \"The candidate has relevant engineering and Java experience, but lacks SDLC and Hyperion knowledge.\"\\n}\\n\\n### END\\n'\n"
     ]
    },
    {
     "name": "stderr",
     "output_type": "stream",
     "text": [
      " 90%|█████████ | 9/10 [00:12<00:01,  1.36s/it]"
     ]
    },
    {
     "name": "stdout",
     "output_type": "stream",
     "text": [
      "[DEBUG] Prompt: '\\nYou are a recruitment assistant.\\n\\nYour task is to evaluate how well the candidate\\'s CV (full text of CV) matches the job description (full text of job description).\\n\\nGive:\\n1. A match score from 0 to 10, where 0 = very poor fit and 10 = excellent fit.\\n2. A short explanation (max 2 sentences) justifying the score.\\n\\nJOB DESCRIPTION:\\nRESPONSIBILITIES:Kforce has a client in Irvine, CA that is searching for a Business Systems Analyst - Sales Operations.Responsibilities: Perform application development and maintenance support of application systems under direct supervision Will work closely with coworkers in a team oriented environment Act as lead on small enhancements and support items Provide analytical and application development support of applications for Sales Operation systems under direct supervision Design, develop and maintain systems Meets with end usersREQUIREMENTS: Must have mainframe application development experience Must have experience adhering to SDLC methodologies Extensive knowledge in mainframe based development Experienced with Hyperion (implementation experience a plus) Experience with Java and Web Services Must be able to communicate effectively with customers and coworkers to enhance customer satisfaction Must be a sound team player with initiative, resourcefulness and high level of professionalismKforce is an Equal Opportunity/Affirmative Action Employer. All qualified applicants will receive consideration for employment without regard to race, color, religion, sex, pregnancy, sexual orientation, gender identity, national origin, age, protected veteran status, or disability status.\\n\\nCANDIDATE RESUME:\\n         BIOMEDICAL ENGINEERING TECHNICIAN II           Professional Summary     Versatile BMET II highly effective at working independently and as part of a team. Expertise in installation and inspection of medical devices.       Core Qualifications          Microsoft Excel, Project and Visio  Adobe   Engineering standards   OSHA regulations  MS Office proficient  Competency in procedure development  Advanced anatomy knowledge  Advanced knowledge of embedded systems  Vast technical knowledge  Windows XP/Vista  DHCP/DNS Ethernet and Firewall proficient  LAN aptitude  Proficient in AVG, Printers, PC Security systems  Knowledge of manufacturing test methodologies.   Database servers  Local remoter systems support  Proficiency in TCP/IP protocols  Information security  Document management               Excellent communication techniques  Self-starter  Team player  Patient and diligent  Keen eye for detail  Acutely observant  Excellent problem solving skills            Experience      Company Name     June 2008   to   Current     Biomedical Engineering Technician II   City  ,   State      Properly respond to service calls to evaluate, diagnose, perform repair and planned maintenance (PM) on the hospital\\'s biomedical equipment.  Integration of software for network systems such as Philips, Hillrom, and Hugs Infant Security System as well as installs of such systems.  Knowledge of the application and repair of computers and servers and how they interface with medical equipment.  Evaluate biomedical equipment issues, implement appropriate repairs; as assigned, perform planned maintenance (PM), maintain effective customer relations, follow appropriate hospital policies, procedures, hospital protocol and complete necessary documentation.  Follow-up with hospital staff to ensure resolution.  Assist other technicians on basic and complex repairs.  Provide efficient service delivery for all medical devices within assigned areas.  Share the on-call / pager responsibility.  Document all repair actions and submit reports/summaries according to schedule.  Ensure proper care of spares, tools and test equipment and ensure calibration.  Maintain approved parts inventory.  Brings ideas/concerns to supervisor; participates in department decision-making.  Assist senior biomedical equipment technicians or leads with in-service educational programs on equipment use to staff.  Ensure all work orders, vendor service reports, PM activities, purchase orders and other duties are documented in an accurate and timely manner.  Perform electrical safety checks on incoming medical equipment and monitor maintenance and repair records for them also.  Add to or change original components to meet specific or diagnostic requirements.  Maintain, inspect, install devices and system configurations, and oversee the hospital\\'s Hugs infant security system which protects all pediatric / newborn patients from abduction.  Review outcome of preventive maintenance actions and make recommendations to department staff concerning outcomes.  Knowledge of basic anatomy and physiology as applied to the use of biomedical equipment.  Knowledge of color code conventions used in component and wiring marking.  Promoted to one of 3 Lead Techs overseeing Preventive Maintenance (PM) inspections that are due each month throughout various locations in the hospital, in charge of keeping the Supervisor informed on PM statistics, tracking the PM process week by week, and training other techs on PMs.  Ability to lift up to 100 lbs and push a cart up to 250 lbs.  Ability to stand and walk for hours at time.          Company Name     January 2006   to   July 2008     Nutrition Clerk   City  ,   State      Keep a count of patients\\' carbs intake throughout the day.  Assist nurses in monitoring patients\\' daily meals to ensure they do not eat any foods restricted on their diet plan; prep and serve supplement drinks to the patients while providing excellent customer service.          Company Name     November 2006   to   June 2008     Manager/Assistant Service Coordinator   City  ,   State      Input, update, upload, and maintain master schedule files for DeVry University Kansas City, MO main campus and other DeVry branches.  Utilize Oracle database to schedule courses for the upcoming term and review student academic records to compare grade progression.  Provide tutoring for DeVry students, schedule the ESC staff as well as perform clerical chores for the academic and registrar office as needed.  Managed a staff of 6-8.          Company Name     June 2006   to   November 2006     Receptionist   City  ,   State      Answered phone calls and greeted customers, assisted staff with special projects, alphabetized and filed paperwork.  Monitored equivalency tests for new students to access knowledge before they enroll and monitored proficiency tests for current students who want to test out of classes.  Cleaned student testing.  area and reception areas; alphabetized student academic files so they could be ready for scanning into the school\\'s electronic records database; received and submitted transcript requests to the Systems Administrator.          Skills       \\n\\nRespond strictly in this JSON format (no markdown, no explanations before or after), which serves an example for your response:\\n{\\n  \"score\": 8,\\n  \"explanation\": \"The candidate has relevant engineering and Java experience, but lacks SDLC and Hyperion knowledge.\"\\n}\\n\\n### END\\n'\n"
     ]
    },
    {
     "name": "stderr",
     "output_type": "stream",
     "text": [
      "100%|██████████| 10/10 [00:14<00:00,  1.46s/it]\n"
     ]
    }
   ],
   "source": [
    "# Send each CV to the LLM with the job description\n",
    "for _, row in tqdm(df_cvs_it_test.iterrows(), total=len(df_cvs_it_test)):\n",
    "    resume = row['Resume_str']\n",
    "    prompt = build_match_prompt(job_description_it, resume)\n",
    "\n",
    "    print(\"[DEBUG] Prompt:\", repr(prompt))\n",
    "    \n",
    "    # Call the LLM\n",
    "    response = model.generate(prompt)\n",
    "\n",
    "    # Updated JSON extraction logic\n",
    "    raw_output = response[\"results\"][0][\"generated_text\"]\n",
    "    clean_output = re.sub(r\"json|\", \"\", raw_output).strip()\n",
    "\n",
    "    try:\n",
    "        match = re.search(r'\\{.*?\\}', clean_output, re.DOTALL)\n",
    "        if match:\n",
    "            parsed = json.loads(match.group())\n",
    "            scores.append(float(parsed.get(\"score\", 0)))\n",
    "            explanations.append(parsed.get(\"explanation\", \"\"))\n",
    "        else:\n",
    "            print(\"[ERROR] No JSON object found in output.\")\n",
    "            scores.append(0)\n",
    "            explanations.append(\"NO_JSON\")\n",
    "    except Exception as e:\n",
    "        print(f\"[ERROR] Failed to parse JSON: {e}\")\n",
    "        print(\"[RAW OUTPUT]\", clean_output)\n",
    "        scores.append(0)\n",
    "        explanations.append(\"PARSE_ERROR\")"
   ]
  },
  {
   "cell_type": "code",
   "execution_count": 64,
   "id": "b108eb3a",
   "metadata": {},
   "outputs": [
    {
     "name": "stdout",
     "output_type": "stream",
     "text": [
      "CV 1 - Score: 2.0, Explanation: The candidate's background is primarily in marketing, communications, and public relations, with no mention of mainframe application development, SDLC methodologies, or Hyperion experience required for the Business Systems Analyst role.\n",
      "CV 2 - Score: 2.0, Explanation: The candidate's background is primarily in marketing, communications, and public relations, with no mention of mainframe application development, SDLC methodologies, or Hyperion experience required for the Business Systems Analyst role.\n",
      "CV 3 - Score: 2.0, Explanation: The candidate has extensive experience in cyber security and network analysis, but lacks the required mainframe application development experience and knowledge of SDLC methodologies, Hyperion, Java, and Web Services.\n",
      "CV 4 - Score: 0.0, Explanation: The candidate's CV does not match the job description, lacking mainframe application development experience, SDLC methodologies, and Hyperion knowledge.\n",
      "CV 5 - Score: 2.0, Explanation: The candidate lacks mainframe application development experience, SDLC methodologies, and Hyperion knowledge, which are key requirements for the Business Systems Analyst position.\n",
      "CV 6 - Score: 2.0, Explanation: The candidate's extensive experience is in digital media, entertainment, and consumer electronics, but lacks direct relevance to the Business Systems Analyst role in Sales Operations, with no mention of mainframe application development, SDLC methodologies, or Hyperion experience.\n",
      "CV 7 - Score: 2.0, Explanation: The candidate lacks mainframe application development experience, SDLC methodologies, and Hyperion knowledge, which are key requirements for the Business Systems Analyst position.\n",
      "CV 8 - Score: 0.0, Explanation: The candidate's background is in civil engineering with no relevant experience in business systems analysis, mainframe application development, or sales operations.\n",
      "CV 9 - Score: 2.0, Explanation: The candidate lacks mainframe application development experience and Hyperion knowledge, but has experience with project management and team leadership.\n",
      "CV 10 - Score: 2.0, Explanation: The candidate lacks mainframe application development experience and SDLC methodologies, and their background is primarily in finance and accounting, which does not align with the job requirements.\n"
     ]
    }
   ],
   "source": [
    "# Print the scores and explanations\n",
    "for i, row in df_cvs_it_test.iterrows():\n",
    "    print(f\"CV {i+1} - Score: {scores[i]}, Explanation: {explanations[i]}\")"
   ]
  },
  {
   "cell_type": "code",
   "execution_count": 31,
   "id": "3545d1aa",
   "metadata": {},
   "outputs": [
    {
     "name": "stderr",
     "output_type": "stream",
     "text": [
      "100%|██████████| 30/30 [00:00<00:00, 9606.74it/s]"
     ]
    },
    {
     "name": "stdout",
     "output_type": "stream",
     "text": [
      "Full prompt:\n",
      " \n",
      "You are a recruitment assistant.\n",
      "\n",
      "Your task is to evaluate how well the candidate's CV (full text of CV) matches the job description (full text of job description).\n",
      "\n",
      "Give:\n",
      "1. A match score from 0 to 10, where 0 = very poor fit and 10 = excellent fit.\n",
      "2. A short explanation (max 2 sentences) justifying the score.\n",
      "\n",
      "JOB DESCRIPTION:\n",
      "RESPONSIBILITIES:Kforce has a client in Irvine, CA that is searching for a Business Systems Analyst - Sales Operations.Responsibilities: Perform application development and maintenance support of application systems under direct supervision Will work closely with coworkers in a team oriented environment Act as lead on small enhancements and support items Provide analytical and application development support of applications for Sales Operation systems under direct supervision Design, develop and maintain systems Meets with end usersREQUIREMENTS: Must have mainframe application development experience Must have experience adhering to SDLC methodologies Extensive knowledge in mainframe based development Experienced with Hyperion (implementation experience a plus) Experience with Java and Web Services Must be able to communicate effectively with customers and coworkers to enhance customer satisfaction Must be a sound team player with initiative, resourcefulness and high level of professionalismKforce is an Equal Opportunity/Affirmative Action Employer. All qualified applicants will receive consideration for employment without regard to race, color, religion, sex, pregnancy, sexual orientation, gender identity, national origin, age, protected veteran status, or disability status.\n",
      "\n",
      "CANDIDATE RESUME:\n",
      "         ENGINEERING SUPERVISOR             Skills        PLC: IEC 61131 (Ladder Logic, Functional Block Diagram, Structured Text, Instruction List. ), Java, C, Visual Basic, VHDL, PSpice, Assembly (Intel, Motorola, TI), Labview.\n",
      "Software Packages:\tAutoCAD, Inventor, Matlab, Microsoft Office, PSIM, Easy Power, Xilinx ISE, Printed Circuit Board CAD (Protel), Siemens Step 7, Wago CoDeSys, Allen Bradley RSLogix, ERP (Alliance, Global Shop, XA, SAP).              Professional Experience      Engineering Supervisor    December 2014   to   Current     Company Name   -   City  ,   State      Leading and supervising engineering staff members as they perform their tasks and participating in budgeting, scheduling, and staff management.  Establishing design standards, specifications, criteria, scheduling and resource-management for products and projects.  Working closely with product line management to serve clients' aftermarket needs.  Recommending and implementing improvements to engineering processes, methods and controls; conferring with management, production and other departments regarding manufacturing capabilities, production schedules, and other considerations to maximize efficiencies.          Electrical Design Engineer    May 2011   to   December 2014     Company Name   -   City  ,   State      Identifying products within line of variable frequency drives, switchboards, generator control cabinets and PLC based control consoles having potential for improvement.  Developing new products used in power systems product-line.  Composing documents outlining the projects design, verification and validation process in accordance with API standards.  Modeling the new/improved products using computer simulation tools in order to confirm specified performance.  New/improved products comprehensive hardware design and complete software integration.  Creating bill of materials, one-line drawings, schematics, layouts and instruction to manufacture prototypes.  Developing test procedures to verify prototypes performance.  Specific Projects: Custom pre-charge circuit for VFD systems with multiple inverters and common rectifier.  24VDC overvoltage relay for protection of 24VDC control devices against overvoltage.  Standalone VFD house for raising derrick mast, test Topdrives and other applications IECEx/ATEX certification of low voltage motors (600V, 1800HP).  Design of new motor testing facility using common DC link VFDs to replace Active Front End Drives.  Commissioning of Siemens VFD lineup.          Project Engineer    October 2008   to   May 2011     Company Name   -   City  ,   State      Designing generator control systems, variable frequency drives, dynamic braking cabinets, switchboards, panel boards, jacking switchgears, PLC based control consoles and remote IO boxes for land and offshore rigs.  Developing bill of materials, block diagrams, electrical one-lines, detailed schematics and interconnection cabling diagrams.* Supervising production process of designed systems.  Composing factory acceptance test procedures for manufactured products and supervising the procedures.  Performing detailed troubleshooting of drilling equipment using computer simulations and by testing equipment on site and in the field.  Traveling to customer site to meet with client, test, troubleshoot and commission the product.  As the project manager, leading the team of onsite manufacturing staff, vendors and subcontractors.  Performing technical studies including center of gravity calculation, motor model, short circuit, breaker coordination, harmonic calculation (IEEE 519), arc flash, fault analysis, voltage drop and power flow study to obtain certifications for designed equipment.  Compiling technical and non-technical reports to describe products.  Specific Projects: Kencana KM-1 tender drilling unit, Kencana Shipyard, Malaysia: VFDs, MCCs, generator controls, panel boards (480V and above) and control consoles.  Friede and Goldman: VFD based jacking switchgears and control console.  Remedial Offshore: VFD lineup, control and IO consoles.  Xtreme Drilling and Coil: standalone VFD lineup, control and IO consoles.  Shengli: Jacking switchgear.          Facility Engineer    August 2006   to   October 2008     Company Name   -   City  ,   State      Power distribution General Responsibilities: Composing proposals, estimates and construction drawings for lighting, low and medium voltage power distribution, grounding and alternative power generation systems.  Responsible for the campus renovations, environmental safety, automation, controls and HVAC needs.  Specific Projects: New testing facilities for several engineering departments.  Renovation of buildings HVAC system.  Conversion of 2.4kV power distribution to 12.5kV.  Golf cart charging station with solar panel roof.          Automation engineer, Intern    January 2005   to   August 2006     Company Name   -   City  ,   State      Design and implementation of microprocessor based monitoring systems for laser spectrometers.          Education and Training      Bachelor of Science   :   Electrical and Computer Engineering  ,   Aug 2006    University of Oklahoma   -   City  ,   State      GPA:   GPA: 3.73 GPA: 3.78    Electrical and Computer Engineering GPA: 3.73 GPA: 3.78          Skills    API, AutoCAD, automation, budgeting, C, cabling, CAD, Conversion, client, clients, DC, Designing, ERP, flash, Functional, hardware design, HP, HVAC, instruction, Intel, Java, Labview, laser, lighting, Logic, materials, Matlab, microprocessor, Microsoft Office, Modeling, Motorola, PLC, Power distribution, power generation, processes, Programming, proposals, Protel, PSpice, Renovation, renovations, safety, SAP, scheduling, schematics, Siemens, simulation, staff management, Step 7, Structured, Supervising, switchgear, tender, troubleshoot, troubleshooting, validation, VHDL, Visual Basic, XA   \n",
      "\n",
      "Respond strictly in this JSON format (no markdown, no explanations before or after), which serves an example for your response:\n",
      "{\n",
      "  \"score\": 8,\n",
      "  \"explanation\": \"The candidate has relevant engineering and Java experience, but lacks SDLC and Hyperion knowledge.\"\n",
      "}\n",
      "\n",
      "### END\n",
      "\n",
      "[DEBUG] Prompt length (chars): 7827\n"
     ]
    },
    {
     "name": "stderr",
     "output_type": "stream",
     "text": [
      "\n"
     ]
    }
   ],
   "source": [
    "# Send each CV to the LLM with the job description\n",
    "for _, row in tqdm(df_cvs_it_test.iterrows(), total=len(df_cvs_it_test)):\n",
    "    resume = row['Resume_str']\n",
    "    prompt = build_match_prompt(job_description_it, resume)\n",
    "\n",
    "    if _ == 0:  # Only print the first one\n",
    "        print(\"Full prompt:\\n\", prompt)\n",
    "        print(\"[DEBUG] Prompt length (chars):\", len(prompt))"
   ]
  },
  {
   "cell_type": "code",
   "execution_count": null,
   "id": "9fbc5bf5",
   "metadata": {},
   "outputs": [],
   "source": []
  }
 ],
 "metadata": {
  "kernelspec": {
   "display_name": "aiml25-ma3",
   "language": "python",
   "name": "python3"
  },
  "language_info": {
   "codemirror_mode": {
    "name": "ipython",
    "version": 3
   },
   "file_extension": ".py",
   "mimetype": "text/x-python",
   "name": "python",
   "nbconvert_exporter": "python",
   "pygments_lexer": "ipython3",
   "version": "3.11.12"
  }
 },
 "nbformat": 4,
 "nbformat_minor": 5
}
