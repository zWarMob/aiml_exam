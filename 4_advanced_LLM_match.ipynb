{
 "cells": [
  {
   "cell_type": "code",
   "execution_count": 50,
   "id": "eb2ab16c",
   "metadata": {},
   "outputs": [],
   "source": [
    "# recreate the job posts csv with correct classification"
   ]
  },
  {
   "cell_type": "code",
   "execution_count": 51,
   "id": "bb044f0b",
   "metadata": {},
   "outputs": [],
   "source": [
    "import pandas as pd"
   ]
  },
  {
   "cell_type": "code",
   "execution_count": 52,
   "id": "0b259417",
   "metadata": {},
   "outputs": [],
   "source": [
    "# read in job posts\n",
    "# we agreed on 1 from each of the following categories for now: HR SALES INFORMATION-TECHNOLOGY\n",
    "df_jobposts = pd.read_csv('data/processed/jobposts.csv')\n",
    "\n",
    "categories = ['INFORMATION-TECHNOLOGY', 'SALES', 'HR']\n",
    "\n",
    "df_filtered = df_jobposts[df_jobposts['predictions'].isin(categories)]\n",
    "\n",
    "# Sample 1 job postings per category\n",
    "df_sampled = df_filtered.groupby('predictions', group_keys=False).sample(n=1, random_state=42)\n",
    "df_sampled = df_sampled[['predictions', 'job_description']]\n",
    "\n",
    "# Split into separate DataFrames\n",
    "df_it = df_sampled[df_sampled['predictions'] == 'INFORMATION-TECHNOLOGY']\n",
    "df_sales = df_sampled[df_sampled['predictions'] == 'SALES']\n",
    "df_hr = df_sampled[df_sampled['predictions'] == 'HR']"
   ]
  },
  {
   "cell_type": "code",
   "execution_count": 53,
   "id": "c64ca798",
   "metadata": {},
   "outputs": [
    {
     "name": "stdout",
     "output_type": "stream",
     "text": [
      "INFORMATION-TECHNOLOGY\n",
      "C# Developer Job in Chicago 60601, Illinois US CyberCoders Search. Apply. Done. Learn more about CyberCoders C# Developer Apply Chicago, IL Full-Time $80,000 - $140,000 Job Details If you are a C# Developer with experience , please read on!Job Title: C# DeveloperLocation: Chicago, ILSalary: $80-140kThe Company: We are a quickly growing mid- stage start up that is born and bred in Chicago. Our platform has created a high impact on a fast-paced industry and we are looking to add a great C#Developer that can keep up!!What You Will Be Doing- Develop high quality Desktop and tablet applications- Propose and Deliver scalable enhancements to our GUI's-Stay up to date on latest features in .NET and WPF - incorporate into our platform-Build agile software methodologies- Participate in design sessions and code reviews- Collaborate with cross-functional teamsWhat You Need for this PositionRequirements:- Bachelor’s degree in Computer Science, Engineering, Math or equivalent- 2-5 years of experience in developing applications in C#- WPF / MVVM-data structures- algorithms-Multi-threaded programming- Object - Oriented Design and ProgrammingPluses:- Options trading industry- Unit Testing- Windows FormsWhat's In It for You- Great work environment- Immediate Hire- Competitive SalarySo, if you are a C # Developer, please apply today! Or simply send your resume to: Amanda.Wilson@Cybercoders.com Applicants must be authorized to work in the U.S. Are you a good fit for this position? Amanda Wilson is recruiting for this position. Apply Job ID: AW2-1249358 Clicking the green apply button is the best way to apply, but you may also email me your resume in Word: Amanda.Wilson@CyberCoders.com **Please do NOT change the email subject line in any way. You must keep the JobID: CC MonsterAp: AW2-1249358 -- in the email subject line for your application to be considered.** Thank you, Amanda Wilson | Executive Recruiter | CyberCoders CyberCoders, Inc is proud to be an Equal Opportunity Employer All qualified applicants will receive consideration for employment without regard to race, color, religion, sex, national origin, disability, protected veteran status, or any other characteristic protected by law. Your Right to Work – In compliance with federal law, all persons hired will be required to verify identity and eligibility to work in the United States and to complete the required employment eligibility verification document form upon hire. Copyright © 1999 - 2016. CyberCoders, Inc. All rights reserved.\n"
     ]
    }
   ],
   "source": [
    "print(df_it.iloc[0][\"predictions\"])\n",
    "print(df_it.iloc[0][\"job_description\"])"
   ]
  },
  {
   "cell_type": "code",
   "execution_count": 54,
   "id": "c29abf79",
   "metadata": {},
   "outputs": [],
   "source": [
    "df_cvs = pd.read_csv('data/resume.csv')\n",
    "\n",
    "# Take 50% relevant and 50% irrelevant CVs (30 CVs total)\n",
    "# Filter CVs by category\n",
    "relevant_cvs_it = df_cvs[df_cvs['Category'] == 'INFORMATION-TECHNOLOGY'].sample(n=50, random_state=42)\n",
    "irrelevant_cvs_it = df_cvs[df_cvs['Category'] != 'INFORMATION-TECHNOLOGY'].sample(n=50, random_state=42)\n",
    "\n",
    "relevant_cvs_sales = df_cvs[df_cvs['Category'] == 'SALES'].sample(n=50, random_state=42)\n",
    "irrelevant_cvs_sales = df_cvs[df_cvs['Category'] != 'SALES'].sample(n=50, random_state=42)\n",
    "\n",
    "relevant_cvs_hr = df_cvs[df_cvs['Category'] == 'HR'].sample(n=50, random_state=42)\n",
    "irrelevant_cvs_hr = df_cvs[df_cvs['Category'] != 'HR'].sample(n=50, random_state=42)\n",
    "\n",
    "# Combine into one 100-row dataset\n",
    "df_cvs_it_test = pd.concat([relevant_cvs_it, irrelevant_cvs_it], ignore_index=True)\n",
    "df_cvs_sales_test = pd.concat([relevant_cvs_sales, irrelevant_cvs_sales], ignore_index=True)\n",
    "df_cvs_hr_test = pd.concat([relevant_cvs_hr, irrelevant_cvs_hr], ignore_index=True)\n",
    "\n",
    "# Shuffle the result (so the LLM doesn't learn order)\n",
    "df_cvs_it_test = df_cvs_it_test.sample(frac=1, random_state=42).reset_index(drop=True)\n",
    "df_cvs_sales_test = df_cvs_sales_test.sample(frac=1, random_state=42).reset_index(drop=True)\n",
    "df_cvs_hr_test = df_cvs_hr_test.sample(frac=1, random_state=42).reset_index(drop=True)"
   ]
  },
  {
   "cell_type": "code",
   "execution_count": 55,
   "id": "24d7dbbf",
   "metadata": {},
   "outputs": [],
   "source": [
    "import pandas as pd\n",
    "import time\n",
    "from sklearn.model_selection import train_test_split\n",
    "from ibm_watsonx_ai import APIClient\n",
    "from ibm_watsonx_ai import Credentials\n",
    "from ibm_watsonx_ai.foundation_models import ModelInference\n",
    "from ibm_watsonx_ai.foundation_models.schema import TextGenParameters\n",
    "from sklearn.metrics import classification_report \n",
    "from tqdm import tqdm\n",
    "from decouple import config"
   ]
  },
  {
   "cell_type": "code",
   "execution_count": 56,
   "id": "271c7f2c",
   "metadata": {},
   "outputs": [],
   "source": [
    "WX_API_KEY = config('WX_API_KEY')\n",
    "\n",
    "credentials = Credentials(\n",
    "    url = \"https://us-south.ml.cloud.ibm.com\",\n",
    "    api_key = WX_API_KEY\n",
    ")\n",
    "\n",
    "client = APIClient(\n",
    "    credentials=credentials, \n",
    "    project_id=\"c8d96942-6948-4a06-9909-2ea6394aca25\"\n",
    ")"
   ]
  },
  {
   "cell_type": "code",
   "execution_count": 57,
   "id": "8b2eb1c1",
   "metadata": {},
   "outputs": [],
   "source": [
    "# Define generation parameters\n",
    "PARAMS = TextGenParameters(\n",
    "    temperature=0,\n",
    ")\n",
    "\n",
    "model = ModelInference(\n",
    "    api_client=client,\n",
    "    model_id=\"meta-llama/llama-3-3-70b-instruct\",\n",
    "    params=PARAMS,\n",
    "    \n",
    ")"
   ]
  },
  {
   "cell_type": "code",
   "execution_count": 58,
   "id": "6497fd35",
   "metadata": {},
   "outputs": [],
   "source": [
    "def get_job_requirements(model, job_description):\n",
    "    system_prompt = \"\"\"You an HR assistant, your primary responsibility will be to review CV applications. To excel in this role, you will need to consider the following key aspects:\n",
    "\n",
    "    * Reviewing CVs to identify top candidates for various job openings\n",
    "    * Ensuring compliance with company policies and regulations\n",
    "    * Collaborating with hiring managers to understand job requirements and preferences\n",
    "\n",
    "    You will need to consider the following factors:\n",
    "    ### Criteria for Evaluating CVs\n",
    "    * **Educational Qualifications**: \n",
    "        + Degree and field of study\n",
    "        + Institution and location\n",
    "        + Date of completion\n",
    "        + Any relevant certifications\n",
    "    * **Work Experience**: \n",
    "        + Job titles and roles\n",
    "        + Company names and locations\n",
    "        + Dates of employment\n",
    "        + Brief descriptions of job responsibilities\n",
    "    * **Certifications**: relevant certifications and licenses\n",
    "    * **Achievements**: notable achievements and awards\n",
    "    * **Relevant Projects**: relevant projects and contributions\n",
    "    * **Skills**: \n",
    "        + **Necessary Skills**: skills required to perform the job\n",
    "        + **Trainable Skills**: skills that can be learned or developed\n",
    "        + **Additional Skills**: skills that might be helpful but not essential\n",
    "    * **Personal Attributes and Values**: \n",
    "        + Soft skills such as communication, teamwork, and problem-solving\n",
    "        + Personal values such as adaptability, reliability, and integrity\n",
    "    * **Red Flags**: \n",
    "        + Job hopping\n",
    "        + Stagnant jobs and roles\n",
    "        + Excessive mistakes in the resume\n",
    "    * **Job Requirements**: how well the candidate's skills and experience match the job requirements\n",
    "    * **Company Culture**: how well the candidate's values and personality align with the company culture\n",
    "\n",
    "    If a question does not make any sense, or is not factually coherent, explain why instead of answering something not correct. If you don't know the answer to a question, please don't share false information.\n",
    "    \"\"\"\n",
    "\n",
    "    task_prompt = \"\"\"Using the following job ad, extract only the most relevant criteria that will be used to evaluate candidates on.\n",
    "    When writing evaluation criteria for the specific job position, consider if it makes sense setting targets as well, to make it easier when evaluating. For example do we require a certain level of education or certain amount of experience for the position?\n",
    "\n",
    "    Job post:\n",
    "    {job_post}\n",
    "\n",
    "    Based on the job post, provide a list of the most relevant criteria to evaluate candidates on.\n",
    "    \"\"\"\n",
    "\n",
    "    return (model.chat([\n",
    "        {\"role\": \"system\", \"content\": system_prompt},\n",
    "        {\"role\": \"user\", \"content\": task_prompt.format(job_post=job_description)}\n",
    "    ]))[\"choices\"][0][\"message\"][\"content\"]\n"
   ]
  },
  {
   "cell_type": "code",
   "execution_count": 59,
   "id": "ca34d6d1",
   "metadata": {},
   "outputs": [],
   "source": [
    "def get_candidate_evaluation(model, job_requirements, resume):\n",
    "    system_prompt = f\"\"\"You an HR assistant. Your primary responsibility will be to review CV applications. When answering, do not use new lines. Instead, write everything in a single line of text.\n",
    "    Currently our company is rapidly expanding. You will be provided with the requirements for a job position we have, as well as the resume of a candidate.\n",
    "    The goal is to evaluate the candidate based on the given criteria.\n",
    "    Based on how well the candidate performs according each criterion, provide a score from 0 to 10, where 0 = very poor fit and 10 = excellent fit..\n",
    "    After the evaluation of each criterion is done, you will give a final grade for the candidate to give an overall impression. Write 'Final Grade:' before concluding with the final grade.\n",
    "    Provide the final grade in the following json format: \n",
    "    {{\n",
    "        \"score\": int,\n",
    "        \"explanation\": \"string\"\n",
    "    }}\n",
    "    where score is a number from 0 to 10, and explanation is a short justification of the score (max 2 sentences).\n",
    "\n",
    "    Important: If the candidate has a strong background in a related technical field or shows clear evidence of quickly acquiring new skills, consider this as a **positive signal**. Do not penalize candidates too harshly for lacking specific tools or systems if they could reasonably be expected to learn them quickly, especially within the same domain (e.g., IT, software, analytics).\n",
    "\n",
    "    Use professional judgment to assess both current fit and realistic potential.\n",
    "    \"\"\"\n",
    "\n",
    "    task_prompt = \"\"\"Hey. We had a new candidate apply for one of our jobs. Here are the requirements for the position:\n",
    "\n",
    "    Job requirements:\n",
    "    {job_requirements}\n",
    "\n",
    "    And here is the resume of a candidate. \n",
    "    {resume}\"\n",
    "    \n",
    "    Please evalute the resume provided based on the criteria. After the evaluation is done, provide a final score for the candidate from 0 to 10.\n",
    "    \"\"\"\n",
    "\n",
    "    return (model.chat([\n",
    "        {\"role\": \"system\", \"content\": system_prompt},\n",
    "        {\"role\": \"user\", \"content\": task_prompt.format(job_requirements=job_requirements, resume=resume)}\n",
    "    ]))[\"choices\"][0][\"message\"][\"content\"]\n"
   ]
  },
  {
   "cell_type": "code",
   "execution_count": 60,
   "id": "b6c35fd0",
   "metadata": {},
   "outputs": [],
   "source": [
    "import re\n",
    "import json\n",
    "\n",
    "def extract_final_grade(text):\n",
    "    # keyword = \"Final Grade:\"\n",
    "    # if keyword in text:\n",
    "    #     return text.split(keyword, 1)[1].strip()\n",
    "    # return text\n",
    "    match = re.search(r'\\{.*?\\}', text)\n",
    "    if match:\n",
    "        try:\n",
    "            return json.loads(match.group(0))\n",
    "        except json.JSONDecodeError:\n",
    "            print(f\"Found brackets, but content is not valid JSON. {text}\")\n",
    "            return text"
   ]
  },
  {
   "cell_type": "code",
   "execution_count": 61,
   "id": "e5daf0e6",
   "metadata": {},
   "outputs": [],
   "source": [
    "# job_requirements = get_job_requirements(model, df_it.iloc[0][\"job_description\"])"
   ]
  },
  {
   "cell_type": "code",
   "execution_count": 62,
   "id": "fff24e82",
   "metadata": {},
   "outputs": [],
   "source": [
    "# evaluation = get_candidate_evaluation(model, job_requirements, relevant_cvs_it.iloc[0][\"Resume_str\"])"
   ]
  },
  {
   "cell_type": "code",
   "execution_count": 63,
   "id": "ad59c731",
   "metadata": {},
   "outputs": [],
   "source": [
    "# evaluation"
   ]
  },
  {
   "cell_type": "code",
   "execution_count": 64,
   "id": "cf6eb58a",
   "metadata": {},
   "outputs": [],
   "source": [
    "# extract_final_grade(evaluation)[\"score\"]"
   ]
  },
  {
   "cell_type": "code",
   "execution_count": 65,
   "id": "cd833cd8",
   "metadata": {},
   "outputs": [
    {
     "name": "stdout",
     "output_type": "stream",
     "text": [
      "0\n",
      "1\n",
      "2\n",
      "3\n",
      "4\n",
      "5\n",
      "6\n",
      "7\n",
      "8\n",
      "9\n",
      "10\n",
      "11\n",
      "12\n",
      "13\n",
      "14\n",
      "15\n",
      "16\n",
      "17\n",
      "18\n",
      "19\n",
      "20\n",
      "21\n",
      "22\n",
      "23\n",
      "24\n",
      "25\n",
      "26\n",
      "27\n",
      "28\n",
      "29\n",
      "30\n",
      "31\n",
      "32\n",
      "33\n",
      "34\n",
      "35\n",
      "36\n",
      "37\n",
      "38\n",
      "39\n",
      "40\n",
      "41\n",
      "42\n",
      "43\n",
      "44\n",
      "45\n",
      "46\n",
      "47\n",
      "48\n",
      "49\n",
      "50\n",
      "51\n",
      "52\n",
      "53\n",
      "54\n",
      "55\n",
      "56\n",
      "57\n",
      "58\n",
      "59\n",
      "60\n",
      "61\n",
      "62\n",
      "63\n",
      "64\n",
      "65\n",
      "66\n",
      "67\n",
      "68\n",
      "69\n",
      "70\n",
      "71\n",
      "72\n",
      "73\n",
      "74\n",
      "75\n",
      "76\n",
      "77\n",
      "78\n",
      "79\n",
      "80\n",
      "81\n",
      "82\n",
      "83\n",
      "84\n",
      "85\n",
      "86\n",
      "87\n",
      "88\n",
      "89\n",
      "90\n",
      "91\n",
      "92\n",
      "93\n",
      "94\n",
      "95\n",
      "96\n",
      "97\n",
      "98\n",
      "99\n"
     ]
    }
   ],
   "source": [
    "scores = []\n",
    "explanations = []\n",
    "\n",
    "for i, post in df_it.iterrows():\n",
    "    job_requirements = get_job_requirements(model, post[\"job_description\"])\n",
    "\n",
    "    for j, cv in df_cvs_it_test.iterrows():\n",
    "        print(j)\n",
    "        try:\n",
    "            evaluation = get_candidate_evaluation(model, job_requirements, cv[\"Resume_str\"])\n",
    "            final_score = extract_final_grade(evaluation)\n",
    "            scores.append(final_score[\"score\"])\n",
    "            explanations.append(final_score[\"explanation\"])\n",
    "        except Exception as e:\n",
    "            scores.append(0)\n",
    "            explanations.append(\"NO_JSON\")\n",
    "            print(e)\n",
    "    "
   ]
  },
  {
   "cell_type": "code",
   "execution_count": 66,
   "id": "2436da33",
   "metadata": {},
   "outputs": [],
   "source": [
    "# Save the dataframe CSV file\n",
    "df_cvs_it_test['score'] = scores\n",
    "df_cvs_it_test['explanation'] = explanations\n",
    "df_cvs_it_test.to_csv('data/processed/base_results/cvs_it_test_scores_advanced_LLM.csv', index=False)"
   ]
  },
  {
   "cell_type": "markdown",
   "id": "a5d38aa8",
   "metadata": {},
   "source": []
  },
  {
   "cell_type": "code",
   "execution_count": 67,
   "id": "fd9b9bd9",
   "metadata": {},
   "outputs": [
    {
     "name": "stdout",
     "output_type": "stream",
     "text": [
      "\n",
      "Top 10 CVs based on score:\n",
      "                  Category                                         Resume_str  \\\n",
      "15  INFORMATION-TECHNOLOGY           DIRECTOR OF INFORMATION TECHNOLOGY   ...   \n",
      "44  INFORMATION-TECHNOLOGY           MASTER DATA MANAGER           Experie...   \n",
      "94  INFORMATION-TECHNOLOGY           INFORMATION TECHNOLOGY TECHNICIAN I  ...   \n",
      "38  INFORMATION-TECHNOLOGY           FREELANCE IT CONSULTANT       Career ...   \n",
      "42  INFORMATION-TECHNOLOGY           INFORMATION TECHNOLOGY MANAGER       ...   \n",
      "5   INFORMATION-TECHNOLOGY           INFORMATION TECHNOLOGY (IT) SPECIALIS...   \n",
      "50  INFORMATION-TECHNOLOGY           INFORMATION TECHNOLOGY SPECIALIST    ...   \n",
      "47  INFORMATION-TECHNOLOGY           INFORMATION TECHNOLOGY MANAGER       ...   \n",
      "45  INFORMATION-TECHNOLOGY           SYSTEM ADMINISTRATOR             Expe...   \n",
      "51  INFORMATION-TECHNOLOGY           INFORMATION TECHNOLOGY MANAGER       ...   \n",
      "\n",
      "    score                                        explanation  \n",
      "15      8  The candidate has a strong background in IT an...  \n",
      "44      7  The candidate has a strong background in IT an...  \n",
      "94      6  The candidate has a strong background in IT an...  \n",
      "38      6  The candidate has some relevant experience and...  \n",
      "42      6  The candidate has a strong background in IT an...  \n",
      "5       6  The candidate has a strong background in IT an...  \n",
      "50      5  The candidate has some relevant experience and...  \n",
      "47      5  The candidate has a strong background in IT an...  \n",
      "45      5  The candidate has some relevant experience and...  \n",
      "51      5  The candidate has a strong background in IT ad...  \n"
     ]
    }
   ],
   "source": [
    "# Sort the DataFrame by score\n",
    "df_cvs_it_test_sorted = df_cvs_it_test.sort_values(by='score', ascending=False)\n",
    "\n",
    "# Show the top 10 CVs\n",
    "print(\"\\nTop 10 CVs based on score:\")\n",
    "print(df_cvs_it_test_sorted.head(10)[['Category', 'Resume_str', 'score', 'explanation']])"
   ]
  },
  {
   "cell_type": "code",
   "execution_count": null,
   "id": "17036b98",
   "metadata": {},
   "outputs": [],
   "source": [
    "# Define the metrics function to compute mean, median, and top 10 metrics\n",
    "def compute_metrics(df_sorted, correct_category):\n",
    "    overall_mean = df_sorted['score'].mean()\n",
    "    overall_median = df_sorted['score'].median()\n",
    "    top_10 = df_sorted.head(10)\n",
    "    top10_mean = top_10['score'].mean()\n",
    "    top10_median = top_10['score'].median()\n",
    "    top10_correct_pct = top_10['Category'].value_counts().get(correct_category, 0)\n",
    "    return [overall_mean, overall_median, top10_mean, top10_median, top10_correct_pct]"
   ]
  },
  {
   "cell_type": "code",
   "execution_count": 69,
   "id": "05f7fc26",
   "metadata": {},
   "outputs": [
    {
     "name": "stdout",
     "output_type": "stream",
     "text": [
      "\n",
      "Metrics for IT:\n",
      "Overall Mean IT: 2.42\n",
      "Overall Median IT: 2.00\n",
      "Top 10 Mean IT: 5.90\n",
      "Top 10 Median IT: 6.00\n",
      "Top 10 Correct Count IT: 10/10 (100%)\n",
      "\n",
      "--------------------------\n"
     ]
    }
   ],
   "source": [
    "\n",
    "# Compute metrics per category\n",
    "metrics_it = compute_metrics(df_cvs_it_test_sorted, 'INFORMATION-TECHNOLOGY')\n",
    "\n",
    "# Print the metrics per category\n",
    "print(\"\\nMetrics for IT:\")\n",
    "print(f\"Overall Mean IT: {metrics_it[0]:.2f}\")\n",
    "print(f\"Overall Median IT: {metrics_it[1]:.2f}\")\n",
    "print(f\"Top 10 Mean IT: {metrics_it[2]:.2f}\")\n",
    "print(f\"Top 10 Median IT: {metrics_it[3]:.2f}\")\n",
    "print(f\"Top 10 Correct Count IT: {metrics_it[4]}/10 ({metrics_it[4] / 10 * 100:.0f}%)\")\n",
    "print(\"\\n--------------------------\")"
   ]
  },
  {
   "cell_type": "code",
   "execution_count": 70,
   "id": "9eea56f9",
   "metadata": {},
   "outputs": [
    {
     "data": {
      "image/png": "[encoded data removed]",
      "text/plain": [
       "<Figure size 1000x600 with 1 Axes>"
      ]
     },
     "metadata": {},
     "output_type": "display_data"
    }
   ],
   "source": [
    "\n",
    "import matplotlib.pyplot as plt\n",
    "\n",
    "# Show chart\n",
    "# Labels and setup\n",
    "metric_labels = ['Mean Overall', 'Median Overall', 'Top-10 Mean', 'Top-10 Median', 'Correct Category in Top-10']\n",
    "categories = ['IT']\n",
    "x = range(len(metric_labels))\n",
    "\n",
    "# Create bar chart\n",
    "width = 0.25\n",
    "plt.figure(figsize=(10, 6))\n",
    "plt.bar(x, metrics_it, width=width, label='IT')\n",
    "\n",
    "# Finalize chart\n",
    "plt.xticks(x, metric_labels)\n",
    "plt.ylabel('Score / %')\n",
    "plt.title('Evaluation Metrics by Category')\n",
    "plt.legend()\n",
    "plt.grid(axis='y', linestyle='--', alpha=0.7)\n",
    "plt.tight_layout()\n",
    "plt.show()"
   ]
  }
 ],
 "metadata": {
  "kernelspec": {
   "display_name": "aiml25-ma3",
   "language": "python",
   "name": "python3"
  },
  "language_info": {
   "codemirror_mode": {
    "name": "ipython",
    "version": 3
   },
   "file_extension": ".py",
   "mimetype": "text/x-python",
   "name": "python",
   "nbconvert_exporter": "python",
   "pygments_lexer": "ipython3",
   "version": "3.11.12"
  }
 },
 "nbformat": 4,
 "nbformat_minor": 5
}
