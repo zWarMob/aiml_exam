{
 "cells": [
  {
   "cell_type": "code",
   "execution_count": null,
   "id": "eb2ab16c",
   "metadata": {},
   "outputs": [],
   "source": [
    "# recreate the job posts csv with correct classification"
   ]
  },
  {
   "cell_type": "code",
   "execution_count": 2,
   "id": "bb044f0b",
   "metadata": {},
   "outputs": [],
   "source": [
    "import pandas as pd"
   ]
  },
  {
   "cell_type": "code",
   "execution_count": null,
   "id": "0b259417",
   "metadata": {},
   "outputs": [],
   "source": [
    "# read in job posts\n",
    "# we agreed on 1 from each of the following categories for now: HR SALES INFORMATION-TECHNOLOGY\n",
    "df_jobposts = pd.read_csv('data/processed/jobposts.csv')\n",
    "\n",
    "categories = ['INFORMATION-TECHNOLOGY', 'SALES', 'HR']\n",
    "\n",
    "df_filtered = df_jobposts[df_jobposts['predictions'].isin(categories)]\n",
    "\n",
    "# Sample 1 job postings per category\n",
    "df_sampled = df_filtered.groupby('predictions', group_keys=False).sample(n=1, random_state=42)\n",
    "df_sampled = df_sampled[['predictions', 'job_description']]\n",
    "\n",
    "# Split into separate DataFrames\n",
    "df_it = df_sampled[df_sampled['predictions'] == 'INFORMATION-TECHNOLOGY']\n",
    "df_sales = df_sampled[df_sampled['predictions'] == 'SALES']\n",
    "df_hr = df_sampled[df_sampled['predictions'] == 'HR']"
   ]
  },
  {
   "cell_type": "code",
   "execution_count": null,
   "id": "c29abf79",
   "metadata": {},
   "outputs": [],
   "source": [
    "df_cvs = pd.read_csv('data/resume.csv')\n",
    "\n",
    "# Take 50% relevant and 50% irrelevant CVs (30 CVs total)\n",
    "# Filter CVs by category\n",
    "relevant_cvs_it = df_cvs[df_cvs['Category'] == 'INFORMATION-TECHNOLOGY'].sample(n=50, random_state=42)\n",
    "irrelevant_cvs_it = df_cvs[df_cvs['Category'] != 'INFORMATION-TECHNOLOGY'].sample(n=50, random_state=42)\n",
    "\n",
    "relevant_cvs_it = df_cvs[df_cvs['Category'] == 'SALES'].sample(n=50, random_state=42)\n",
    "irrelevant_cvs_it = df_cvs[df_cvs['Category'] != 'SALES'].sample(n=50, random_state=42)\n",
    "\n",
    "relevant_cvs_it = df_cvs[df_cvs['Category'] == 'HR'].sample(n=50, random_state=42)\n",
    "irrelevant_cvs_it = df_cvs[df_cvs['Category'] != 'HR'].sample(n=50, random_state=42)\n"
   ]
  },
  {
   "cell_type": "markdown",
   "id": "a5d38aa8",
   "metadata": {},
   "source": [
    "one way the advanced flow could go is\n",
    "\n",
    "HR person writes down their needs\n",
    "\n",
    "there are multiple possibilities for what they are offered to write \n",
    "\n",
    "so there will be a set of \"requirements\" that are not part of the job post which are set out\n",
    "\n",
    "you very well might have them in the post too but the idea is its not necessary to be \n",
    "You sent\n",
    "then for each requirement \n",
    "LLM will rate a CV how well it does on it. Since we started, we're using the 1 to 10\n",
    "You sent\n",
    "then each requirement will have it's own % of the total score \n",
    "\n",
    "so if friendly attitude is the most important thing and is 50% \n",
    "customer oriented 25%\n",
    "english speaking 25%\n",
    "\n",
    "and then you get a final total for the candidate 1 to 10 based on these \n",
    "Today at 3:18 PM\n",
    "3:18 PM\n",
    "Νίκος\n",
    "1.  hr defines requirments in free language 2. the requirment weights are given by the hr person?\n",
    "You sent\n",
    "Yeah\n",
    "Also yeah\n",
    "\n",
    "LLm was ok at giving weights too if you dont want to do that as hr\n",
    "Νίκος\n",
    "ahhh i see...so the llm scores the cv's based on single 'requirment' and then takes all requirments makes aggregate and decision without checking the job description??"
   ]
  }
 ],
 "metadata": {
  "kernelspec": {
   "display_name": "aiml25-ma3",
   "language": "python",
   "name": "python3"
  },
  "language_info": {
   "codemirror_mode": {
    "name": "ipython",
    "version": 3
   },
   "file_extension": ".py",
   "mimetype": "text/x-python",
   "name": "python",
   "nbconvert_exporter": "python",
   "pygments_lexer": "ipython3",
   "version": "3.11.12"
  }
 },
 "nbformat": 4,
 "nbformat_minor": 5
}
