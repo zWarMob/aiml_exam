{
 "cells": [
  {
   "cell_type": "code",
   "execution_count": 7,
   "id": "5cbb3e68",
   "metadata": {},
   "outputs": [],
   "source": [
    "import pandas as pd\n",
    "import time"
   ]
  },
  {
   "cell_type": "code",
   "execution_count": null,
   "id": "9a87c6c2",
   "metadata": {},
   "outputs": [],
   "source": [
    "it_cv_sample = pd.read_csv('data/processed/base_results/cvs_it_test_scores_advanced_LLM.csv').sample(n=10, random_state=42)"
   ]
  },
  {
   "cell_type": "code",
   "execution_count": null,
   "id": "9cf5db71",
   "metadata": {},
   "outputs": [],
   "source": [
    "reviewer_scores = []  # To store scores as integers\n",
    "\n",
    "for i, row in it_cv_sample.iterrows():\n",
    "    \n",
    "    print(\"\\n========================\")\n",
    "    print(f\"Resume #{i + 1}:\\n\")\n",
    "    print(row[\"Resume_str\"])\n",
    "    print(\"\\n========================\")\n",
    "    time.sleep(0.2)\n",
    "\n",
    "    while True:\n",
    "        try:\n",
    "            score = int(input(\"Your score (0–10): \"))\n",
    "            if 0 <= score <= 10:\n",
    "                reviewer_scores.append(score)\n",
    "                break\n",
    "            else:\n",
    "                print(\"⚠️ Please enter a number between 0 and 10.\")\n",
    "        except ValueError:\n",
    "            print(\"⚠️ Invalid input. Please enter an integer between 0 and 10.\")\n",
    "\n",
    "print(\"\\n✅ Review complete. Here are your scores:\")\n",
    "print(reviewer_scores)"
   ]
  }
 ],
 "metadata": {
  "kernelspec": {
   "display_name": "aiml25-ma3",
   "language": "python",
   "name": "python3"
  },
  "language_info": {
   "codemirror_mode": {
    "name": "ipython",
    "version": 3
   },
   "file_extension": ".py",
   "mimetype": "text/x-python",
   "name": "python",
   "nbconvert_exporter": "python",
   "pygments_lexer": "ipython3",
   "version": "3.11.12"
  }
 },
 "nbformat": 4,
 "nbformat_minor": 5
}
